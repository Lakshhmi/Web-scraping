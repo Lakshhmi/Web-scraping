{
 "cells": [
  {
   "cell_type": "markdown",
   "metadata": {},
   "source": [
    "## Extract Weather forcast for Gwinnett county from Nationl Weather Service"
   ]
  },
  {
   "cell_type": "code",
   "execution_count": 1,
   "metadata": {
    "collapsed": true
   },
   "outputs": [],
   "source": [
    "import requests"
   ]
  },
  {
   "cell_type": "markdown",
   "metadata": {},
   "source": [
    "#### Download weather data"
   ]
  },
  {
   "cell_type": "code",
   "execution_count": 7,
   "metadata": {
    "collapsed": true
   },
   "outputs": [],
   "source": [
    "r = requests.get(\"https://forecast.weather.gov/MapClick.php?lat=34.0682&lon=-83.9808#.WuMzm4jwbIU\")"
   ]
  },
  {
   "cell_type": "code",
   "execution_count": 9,
   "metadata": {},
   "outputs": [
    {
     "data": {
      "text/plain": [
       "'<!DOCTYPE html>\\n<html class=\"no-js\">\\n    <head>\\n        <!-- Meta -->\\n        <meta name=\"viewport\" content=\"width=device-width\">\\n        <link rel=\"schema.DC\" href=\"http://purl.org/dc/elements/1.1/\" /><title>National Weather Service</title><meta name=\"DC.title\" content=\"National Weather Service\" /><meta name=\"DC.description\" content=\"NOAA National Weather Service National Weather Service\" /><meta name=\"DC.creator\" content=\"US Department of Commerce, NOAA, National Weather Service\" /><meta name=\"DC.date.'"
      ]
     },
     "execution_count": 9,
     "metadata": {},
     "output_type": "execute_result"
    }
   ],
   "source": [
    "r.text[0:509]"
   ]
  },
  {
   "cell_type": "code",
   "execution_count": null,
   "metadata": {
    "collapsed": true
   },
   "outputs": [],
   "source": [
    "from bs4 import BeautifulSoup"
   ]
  },
  {
   "cell_type": "code",
   "execution_count": 10,
   "metadata": {
    "collapsed": true
   },
   "outputs": [],
   "source": [
    "soup = BeautifulSoup(r.text,\"html.parser\")"
   ]
  },
  {
   "cell_type": "code",
   "execution_count": 84,
   "metadata": {},
   "outputs": [],
   "source": [
    "#soup.prettify()"
   ]
  },
  {
   "cell_type": "code",
   "execution_count": 20,
   "metadata": {
    "collapsed": true
   },
   "outputs": [],
   "source": [
    "#list(soup.children)"
   ]
  },
  {
   "cell_type": "code",
   "execution_count": 21,
   "metadata": {
    "collapsed": true
   },
   "outputs": [],
   "source": [
    "seven_day = soup.find(id=\"seven-day-forecast\")"
   ]
  },
  {
   "cell_type": "code",
   "execution_count": 22,
   "metadata": {},
   "outputs": [
    {
     "data": {
      "text/plain": [
       "<div class=\"panel panel-default\" id=\"seven-day-forecast\">\n",
       "<div class=\"panel-heading\">\n",
       "<b>Extended Forecast for</b>\n",
       "<h2 class=\"panel-title\">\n",
       "\t    \t    4 Miles SSE Buford GA\t</h2>\n",
       "</div>\n",
       "<div class=\"panel-body\" id=\"seven-day-forecast-body\">\n",
       "<div id=\"seven-day-forecast-container\"><ul class=\"list-unstyled\" id=\"seven-day-forecast-list\"><li class=\"forecast-tombstone\">\n",
       "<div class=\"tombstone-container\">\n",
       "<p class=\"period-name\">Today<br/><br/></p>\n",
       "<p><img alt=\"Today: Mostly sunny, with a high near 72. Northwest wind 10 to 15 mph, with gusts as high as 20 mph. \" class=\"forecast-icon\" src=\"newimages/medium/sct.png\" title=\"Today: Mostly sunny, with a high near 72. Northwest wind 10 to 15 mph, with gusts as high as 20 mph. \"/></p><p class=\"short-desc\">Mostly Sunny</p><p class=\"temp temp-high\">High: 72 °F</p></div></li><li class=\"forecast-tombstone\">\n",
       "<div class=\"tombstone-container\">\n",
       "<p class=\"period-name\">Tonight<br/><br/></p>\n",
       "<p><img alt=\"Tonight: Clear, with a low around 51. West wind 5 to 10 mph, with gusts as high as 15 mph. \" class=\"forecast-icon\" src=\"newimages/medium/nskc.png\" title=\"Tonight: Clear, with a low around 51. West wind 5 to 10 mph, with gusts as high as 15 mph. \"/></p><p class=\"short-desc\">Clear</p><p class=\"temp temp-low\">Low: 51 °F</p></div></li><li class=\"forecast-tombstone\">\n",
       "<div class=\"tombstone-container\">\n",
       "<p class=\"period-name\">Saturday<br/><br/></p>\n",
       "<p><img alt=\"Saturday: Sunny, with a high near 74. West wind 5 to 15 mph, with gusts as high as 25 mph. \" class=\"forecast-icon\" src=\"newimages/medium/few.png\" title=\"Saturday: Sunny, with a high near 74. West wind 5 to 15 mph, with gusts as high as 25 mph. \"/></p><p class=\"short-desc\">Sunny</p><p class=\"temp temp-high\">High: 74 °F</p></div></li><li class=\"forecast-tombstone\">\n",
       "<div class=\"tombstone-container\">\n",
       "<p class=\"period-name\">Saturday<br/>Night</p>\n",
       "<p><img alt=\"Saturday Night: Mostly clear, with a low around 47. Northwest wind 10 to 15 mph. \" class=\"forecast-icon\" src=\"newimages/medium/nfew.png\" title=\"Saturday Night: Mostly clear, with a low around 47. Northwest wind 10 to 15 mph. \"/></p><p class=\"short-desc\">Mostly Clear</p><p class=\"temp temp-low\">Low: 47 °F</p></div></li><li class=\"forecast-tombstone\">\n",
       "<div class=\"tombstone-container\">\n",
       "<p class=\"period-name\">Sunday<br/><br/></p>\n",
       "<p><img alt=\"Sunday: Sunny, with a high near 69. North wind around 10 mph. \" class=\"forecast-icon\" src=\"newimages/medium/skc.png\" title=\"Sunday: Sunny, with a high near 69. North wind around 10 mph. \"/></p><p class=\"short-desc\">Sunny</p><p class=\"temp temp-high\">High: 69 °F</p></div></li><li class=\"forecast-tombstone\">\n",
       "<div class=\"tombstone-container\">\n",
       "<p class=\"period-name\">Sunday<br/>Night</p>\n",
       "<p><img alt=\"Sunday Night: Clear, with a low around 45.\" class=\"forecast-icon\" src=\"newimages/medium/nskc.png\" title=\"Sunday Night: Clear, with a low around 45.\"/></p><p class=\"short-desc\">Clear</p><p class=\"temp temp-low\">Low: 45 °F</p></div></li><li class=\"forecast-tombstone\">\n",
       "<div class=\"tombstone-container\">\n",
       "<p class=\"period-name\">Monday<br/><br/></p>\n",
       "<p><img alt=\"Monday: Sunny, with a high near 74.\" class=\"forecast-icon\" src=\"newimages/medium/skc.png\" title=\"Monday: Sunny, with a high near 74.\"/></p><p class=\"short-desc\">Sunny</p><p class=\"temp temp-high\">High: 74 °F</p></div></li><li class=\"forecast-tombstone\">\n",
       "<div class=\"tombstone-container\">\n",
       "<p class=\"period-name\">Monday<br/>Night</p>\n",
       "<p><img alt=\"Monday Night: Clear, with a low around 51.\" class=\"forecast-icon\" src=\"newimages/medium/nskc.png\" title=\"Monday Night: Clear, with a low around 51.\"/></p><p class=\"short-desc\">Clear</p><p class=\"temp temp-low\">Low: 51 °F</p></div></li><li class=\"forecast-tombstone\">\n",
       "<div class=\"tombstone-container\">\n",
       "<p class=\"period-name\">Tuesday<br/><br/></p>\n",
       "<p><img alt=\"Tuesday: Sunny, with a high near 79.\" class=\"forecast-icon\" src=\"newimages/medium/skc.png\" title=\"Tuesday: Sunny, with a high near 79.\"/></p><p class=\"short-desc\">Sunny</p><p class=\"temp temp-high\">High: 79 °F</p></div></li></ul></div>\n",
       "<script type=\"text/javascript\">\n",
       "// equalize forecast heights\n",
       "$(function () {\n",
       "\tvar maxh = 0;\n",
       "\t$(\".forecast-tombstone .short-desc\").each(function () {\n",
       "\t\tvar h = $(this).height();\n",
       "\t\tif (h > maxh) { maxh = h; }\n",
       "\t});\n",
       "\t$(\".forecast-tombstone .short-desc\").height(maxh);\n",
       "});\n",
       "</script> </div>\n",
       "</div>"
      ]
     },
     "execution_count": 22,
     "metadata": {},
     "output_type": "execute_result"
    }
   ],
   "source": [
    "seven_day"
   ]
  },
  {
   "cell_type": "markdown",
   "metadata": {},
   "source": [
    "#### Get tonight's forcast"
   ]
  },
  {
   "cell_type": "code",
   "execution_count": 25,
   "metadata": {
    "collapsed": true
   },
   "outputs": [],
   "source": [
    "forcast = seven_day.find_all(class_= \"tombstone-container\")"
   ]
  },
  {
   "cell_type": "markdown",
   "metadata": {},
   "source": [
    "### Extract weather information for one day"
   ]
  },
  {
   "cell_type": "code",
   "execution_count": 28,
   "metadata": {
    "collapsed": true
   },
   "outputs": [],
   "source": [
    "tonight = forcast[0]"
   ]
  },
  {
   "cell_type": "code",
   "execution_count": 29,
   "metadata": {},
   "outputs": [
    {
     "name": "stdout",
     "output_type": "stream",
     "text": [
      "<div class=\"tombstone-container\">\n",
      " <p class=\"period-name\">\n",
      "  Today\n",
      "  <br/>\n",
      "  <br/>\n",
      " </p>\n",
      " <p>\n",
      "  <img alt=\"Today: Mostly sunny, with a high near 72. Northwest wind 10 to 15 mph, with gusts as high as 20 mph. \" class=\"forecast-icon\" src=\"newimages/medium/sct.png\" title=\"Today: Mostly sunny, with a high near 72. Northwest wind 10 to 15 mph, with gusts as high as 20 mph. \"/>\n",
      " </p>\n",
      " <p class=\"short-desc\">\n",
      "  Mostly Sunny\n",
      " </p>\n",
      " <p class=\"temp temp-high\">\n",
      "  High: 72 °F\n",
      " </p>\n",
      "</div>\n"
     ]
    }
   ],
   "source": [
    "print(tonight.prettify())"
   ]
  },
  {
   "cell_type": "code",
   "execution_count": 33,
   "metadata": {},
   "outputs": [
    {
     "data": {
      "text/plain": [
       "'Today'"
      ]
     },
     "execution_count": 33,
     "metadata": {},
     "output_type": "execute_result"
    }
   ],
   "source": [
    "tonight.find_all('p')[0].text"
   ]
  },
  {
   "cell_type": "markdown",
   "metadata": {},
   "source": [
    "#### Get tonight's short desc and tempeture"
   ]
  },
  {
   "cell_type": "code",
   "execution_count": 43,
   "metadata": {
    "collapsed": true
   },
   "outputs": [],
   "source": [
    "Period = tonight.find(class_=\"period-name\").get_text()\n",
    "Desc = tonight.find(class_=\"short-desc\").get_text()\n",
    "Temp = tonight.find(class_=\"temp\").get_text()"
   ]
  },
  {
   "cell_type": "code",
   "execution_count": 44,
   "metadata": {},
   "outputs": [
    {
     "name": "stdout",
     "output_type": "stream",
     "text": [
      "Today\n",
      "Mostly Sunny\n",
      "High: 72 °F\n"
     ]
    }
   ],
   "source": [
    "print(Period)\n",
    "print(Desc)\n",
    "print(Temp)"
   ]
  },
  {
   "cell_type": "markdown",
   "metadata": {},
   "source": [
    "#### Get image title for long descriptions"
   ]
  },
  {
   "cell_type": "code",
   "execution_count": 51,
   "metadata": {},
   "outputs": [
    {
     "data": {
      "text/plain": [
       "'Today: Mostly sunny, with a high near 72. Northwest wind 10 to 15 mph, with gusts as high as 20 mph. '"
      ]
     },
     "execution_count": 51,
     "metadata": {},
     "output_type": "execute_result"
    }
   ],
   "source": [
    "Img = tonight.find('img')\n",
    "Img['title']"
   ]
  },
  {
   "cell_type": "markdown",
   "metadata": {},
   "source": [
    "### Extract all the informaton at once"
   ]
  },
  {
   "cell_type": "code",
   "execution_count": 67,
   "metadata": {
    "collapsed": true
   },
   "outputs": [],
   "source": [
    "Period = []\n",
    "Days = seven_day.select(\".tombstone-container .period-name\")\n",
    "for day in Days:\n",
    "    Period.append(day.get_text())\n",
    "    \n",
    "ShorDesc = []\n",
    "Desc = seven_day.select(\".tombstone-container .short-desc\")\n",
    "for sd in Desc:\n",
    "    ShorDesc.append(sd.get_text())\n",
    "\n",
    "Temp = []\n",
    "Temprature = seven_day.select(\".tombstone-container .temp\")\n",
    "for t in Temprature:\n",
    "    Temp.append(t.get_text())\n",
    "    \n",
    "Title = []\n",
    "Img = seven_day.select(\".tombstone-container img\")\n",
    "for i in Img:\n",
    "    Title.append(i['title'])\n",
    "    "
   ]
  },
  {
   "cell_type": "markdown",
   "metadata": {},
   "source": [
    "### Combining a data in to a Pandas Dataframe"
   ]
  },
  {
   "cell_type": "code",
   "execution_count": 81,
   "metadata": {
    "collapsed": true
   },
   "outputs": [],
   "source": [
    "import pandas as pd"
   ]
  },
  {
   "cell_type": "code",
   "execution_count": 87,
   "metadata": {
    "collapsed": true
   },
   "outputs": [],
   "source": [
    "weather = pd.DataFrame({\"Period\":Period,\"Short Desc\":ShorDesc,\"Temp\":Temp,\"Title\":Title})"
   ]
  },
  {
   "cell_type": "code",
   "execution_count": 88,
   "metadata": {},
   "outputs": [
    {
     "data": {
      "text/html": [
       "<div>\n",
       "<style>\n",
       "    .dataframe thead tr:only-child th {\n",
       "        text-align: right;\n",
       "    }\n",
       "\n",
       "    .dataframe thead th {\n",
       "        text-align: left;\n",
       "    }\n",
       "\n",
       "    .dataframe tbody tr th {\n",
       "        vertical-align: top;\n",
       "    }\n",
       "</style>\n",
       "<table border=\"1\" class=\"dataframe\">\n",
       "  <thead>\n",
       "    <tr style=\"text-align: right;\">\n",
       "      <th></th>\n",
       "      <th>Period</th>\n",
       "      <th>Short Desc</th>\n",
       "      <th>Temp</th>\n",
       "      <th>Title</th>\n",
       "    </tr>\n",
       "  </thead>\n",
       "  <tbody>\n",
       "    <tr>\n",
       "      <th>0</th>\n",
       "      <td>Today</td>\n",
       "      <td>Mostly Sunny</td>\n",
       "      <td>High: 72 °F</td>\n",
       "      <td>Today: Mostly sunny, with a high near 72. Nort...</td>\n",
       "    </tr>\n",
       "    <tr>\n",
       "      <th>1</th>\n",
       "      <td>Tonight</td>\n",
       "      <td>Clear</td>\n",
       "      <td>Low: 51 °F</td>\n",
       "      <td>Tonight: Clear, with a low around 51. West win...</td>\n",
       "    </tr>\n",
       "    <tr>\n",
       "      <th>2</th>\n",
       "      <td>Saturday</td>\n",
       "      <td>Sunny</td>\n",
       "      <td>High: 74 °F</td>\n",
       "      <td>Saturday: Sunny, with a high near 74. West win...</td>\n",
       "    </tr>\n",
       "    <tr>\n",
       "      <th>3</th>\n",
       "      <td>SaturdayNight</td>\n",
       "      <td>Mostly Clear</td>\n",
       "      <td>Low: 47 °F</td>\n",
       "      <td>Saturday Night: Mostly clear, with a low aroun...</td>\n",
       "    </tr>\n",
       "    <tr>\n",
       "      <th>4</th>\n",
       "      <td>Sunday</td>\n",
       "      <td>Sunny</td>\n",
       "      <td>High: 69 °F</td>\n",
       "      <td>Sunday: Sunny, with a high near 69. North wind...</td>\n",
       "    </tr>\n",
       "    <tr>\n",
       "      <th>5</th>\n",
       "      <td>SundayNight</td>\n",
       "      <td>Clear</td>\n",
       "      <td>Low: 45 °F</td>\n",
       "      <td>Sunday Night: Clear, with a low around 45.</td>\n",
       "    </tr>\n",
       "    <tr>\n",
       "      <th>6</th>\n",
       "      <td>Monday</td>\n",
       "      <td>Sunny</td>\n",
       "      <td>High: 74 °F</td>\n",
       "      <td>Monday: Sunny, with a high near 74.</td>\n",
       "    </tr>\n",
       "    <tr>\n",
       "      <th>7</th>\n",
       "      <td>MondayNight</td>\n",
       "      <td>Clear</td>\n",
       "      <td>Low: 51 °F</td>\n",
       "      <td>Monday Night: Clear, with a low around 51.</td>\n",
       "    </tr>\n",
       "    <tr>\n",
       "      <th>8</th>\n",
       "      <td>Tuesday</td>\n",
       "      <td>Sunny</td>\n",
       "      <td>High: 79 °F</td>\n",
       "      <td>Tuesday: Sunny, with a high near 79.</td>\n",
       "    </tr>\n",
       "  </tbody>\n",
       "</table>\n",
       "</div>"
      ],
      "text/plain": [
       "          Period    Short Desc         Temp  \\\n",
       "0          Today  Mostly Sunny  High: 72 °F   \n",
       "1        Tonight         Clear   Low: 51 °F   \n",
       "2       Saturday         Sunny  High: 74 °F   \n",
       "3  SaturdayNight  Mostly Clear   Low: 47 °F   \n",
       "4         Sunday         Sunny  High: 69 °F   \n",
       "5    SundayNight         Clear   Low: 45 °F   \n",
       "6         Monday         Sunny  High: 74 °F   \n",
       "7    MondayNight         Clear   Low: 51 °F   \n",
       "8        Tuesday         Sunny  High: 79 °F   \n",
       "\n",
       "                                               Title  \n",
       "0  Today: Mostly sunny, with a high near 72. Nort...  \n",
       "1  Tonight: Clear, with a low around 51. West win...  \n",
       "2  Saturday: Sunny, with a high near 74. West win...  \n",
       "3  Saturday Night: Mostly clear, with a low aroun...  \n",
       "4  Sunday: Sunny, with a high near 69. North wind...  \n",
       "5         Sunday Night: Clear, with a low around 45.  \n",
       "6                Monday: Sunny, with a high near 74.  \n",
       "7         Monday Night: Clear, with a low around 51.  \n",
       "8               Tuesday: Sunny, with a high near 79.  "
      ]
     },
     "execution_count": 88,
     "metadata": {},
     "output_type": "execute_result"
    }
   ],
   "source": [
    "weather"
   ]
  },
  {
   "cell_type": "code",
   "execution_count": null,
   "metadata": {
    "collapsed": true
   },
   "outputs": [],
   "source": []
  }
 ],
 "metadata": {
  "kernelspec": {
   "display_name": "Python 3",
   "language": "python",
   "name": "python3"
  },
  "language_info": {
   "codemirror_mode": {
    "name": "ipython",
    "version": 3
   },
   "file_extension": ".py",
   "mimetype": "text/x-python",
   "name": "python",
   "nbconvert_exporter": "python",
   "pygments_lexer": "ipython3",
   "version": "3.6.1"
  }
 },
 "nbformat": 4,
 "nbformat_minor": 2
}
