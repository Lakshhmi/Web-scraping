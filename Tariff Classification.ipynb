{
 "cells": [
  {
   "cell_type": "markdown",
   "metadata": {},
   "source": [
    "## Classify the product into a hierarchey of codes using Xerox Dataset"
   ]
  },
  {
   "cell_type": "code",
   "execution_count": 1,
   "metadata": {
    "collapsed": true
   },
   "outputs": [],
   "source": [
    "import numpy as np\n",
    "import pandas as pd"
   ]
  },
  {
   "cell_type": "code",
   "execution_count": 2,
   "metadata": {
    "collapsed": true
   },
   "outputs": [],
   "source": [
    "import matplotlib.pyplot as plt\n",
    "import seaborn as sns"
   ]
  },
  {
   "cell_type": "code",
   "execution_count": 3,
   "metadata": {
    "collapsed": true
   },
   "outputs": [],
   "source": [
    "%matplotlib inline"
   ]
  },
  {
   "cell_type": "code",
   "execution_count": 4,
   "metadata": {
    "collapsed": true
   },
   "outputs": [],
   "source": [
    "df_Xerox = pd.read_json(\"Xerox_DataSet.json\")"
   ]
  },
  {
   "cell_type": "code",
   "execution_count": 9,
   "metadata": {},
   "outputs": [
    {
     "data": {
      "text/html": [
       "<div>\n",
       "<style>\n",
       "    .dataframe thead tr:only-child th {\n",
       "        text-align: right;\n",
       "    }\n",
       "\n",
       "    .dataframe thead th {\n",
       "        text-align: left;\n",
       "    }\n",
       "\n",
       "    .dataframe tbody tr th {\n",
       "        vertical-align: top;\n",
       "    }\n",
       "</style>\n",
       "<table border=\"1\" class=\"dataframe\">\n",
       "  <thead>\n",
       "    <tr style=\"text-align: right;\">\n",
       "      <th></th>\n",
       "      <th>Classification</th>\n",
       "      <th>CompanySource</th>\n",
       "      <th>Description</th>\n",
       "      <th>GriCode</th>\n",
       "      <th>ImageAttachments</th>\n",
       "      <th>ProductSpecs</th>\n",
       "      <th>Rationale</th>\n",
       "      <th>SKUNumber</th>\n",
       "      <th>SKUNumberCompanyDifferentFromExcel</th>\n",
       "    </tr>\n",
       "  </thead>\n",
       "  <tbody>\n",
       "    <tr>\n",
       "      <th>896</th>\n",
       "      <td>8443321010</td>\n",
       "      <td>Xerox</td>\n",
       "      <td>Phaser 3610\\nMonochrome Laser Printer\\n\\r\\nPha...</td>\n",
       "      <td>NaN</td>\n",
       "      <td>NaN</td>\n",
       "      <td>\\n\\r\\nKey Features\\nStandard Functions\\nBookle...</td>\n",
       "      <td>NaN</td>\n",
       "      <td>3610_N</td>\n",
       "      <td>NaN</td>\n",
       "    </tr>\n",
       "    <tr>\n",
       "      <th>897</th>\n",
       "      <td>8443321030</td>\n",
       "      <td>Xerox</td>\n",
       "      <td>VersaLink C500\\nColor LED Printer\\n\\r\\nVersaLi...</td>\n",
       "      <td>NaN</td>\n",
       "      <td>NaN</td>\n",
       "      <td>\\n\\r\\nKey Features\\nStandard Functions\\nPrint ...</td>\n",
       "      <td>NaN</td>\n",
       "      <td>C500_DN</td>\n",
       "      <td>NaN</td>\n",
       "    </tr>\n",
       "    <tr>\n",
       "      <th>898</th>\n",
       "      <td>8443321030</td>\n",
       "      <td>Xerox</td>\n",
       "      <td>VersaLink C500\\nColor LED Printer\\n\\r\\nVersaLi...</td>\n",
       "      <td>NaN</td>\n",
       "      <td>NaN</td>\n",
       "      <td>\\n\\r\\nKey Features\\nStandard Functions\\nPrint ...</td>\n",
       "      <td>NaN</td>\n",
       "      <td>C500_N</td>\n",
       "      <td>NaN</td>\n",
       "    </tr>\n",
       "    <tr>\n",
       "      <th>899</th>\n",
       "      <td>8443321010</td>\n",
       "      <td>Xerox</td>\n",
       "      <td>Phaser 3330\\nMonochrome Printer\\n\\r\\nPhaser 33...</td>\n",
       "      <td>NaN</td>\n",
       "      <td>NaN</td>\n",
       "      <td>\\n\\r\\nKey Features\\nStandard Functions\\nPrint ...</td>\n",
       "      <td>NaN</td>\n",
       "      <td>3330_DNI</td>\n",
       "      <td>NaN</td>\n",
       "    </tr>\n",
       "    <tr>\n",
       "      <th>900</th>\n",
       "      <td>8443321030</td>\n",
       "      <td>Xerox</td>\n",
       "      <td>Phaser 6510\\nColor LED Printer\\n\\r\\nPhaser 651...</td>\n",
       "      <td>NaN</td>\n",
       "      <td>NaN</td>\n",
       "      <td>\\n\\r\\nKey Features\\nStandard Functions\\nPrint ...</td>\n",
       "      <td>NaN</td>\n",
       "      <td>6510_DNI</td>\n",
       "      <td>NaN</td>\n",
       "    </tr>\n",
       "    <tr>\n",
       "      <th>901</th>\n",
       "      <td>8443321030</td>\n",
       "      <td>Xerox</td>\n",
       "      <td>Phaser 6510\\nColor LED Printer\\n\\r\\nPhaser 651...</td>\n",
       "      <td>NaN</td>\n",
       "      <td>NaN</td>\n",
       "      <td>\\n\\r\\nKey Features\\nStandard Functions\\nPrint ...</td>\n",
       "      <td>NaN</td>\n",
       "      <td>6510_DN</td>\n",
       "      <td>NaN</td>\n",
       "    </tr>\n",
       "    <tr>\n",
       "      <th>902</th>\n",
       "      <td>8443321030</td>\n",
       "      <td>Xerox</td>\n",
       "      <td>Phaser 6510\\nColor LED Printer\\n\\r\\nPhaser 651...</td>\n",
       "      <td>NaN</td>\n",
       "      <td>NaN</td>\n",
       "      <td>\\n\\r\\nKey Features\\nStandard Functions\\nPrint ...</td>\n",
       "      <td>NaN</td>\n",
       "      <td>6510_N</td>\n",
       "      <td>NaN</td>\n",
       "    </tr>\n",
       "    <tr>\n",
       "      <th>903</th>\n",
       "      <td>8443321030</td>\n",
       "      <td>Xerox</td>\n",
       "      <td>Phaser 6022\\nColor LED Printer\\n\\r\\nPhaser 602...</td>\n",
       "      <td>NaN</td>\n",
       "      <td>NaN</td>\n",
       "      <td>\\n\\r\\nKey Features\\nStandard Functions\\nPrint ...</td>\n",
       "      <td>NaN</td>\n",
       "      <td>6022_NI</td>\n",
       "      <td>NaN</td>\n",
       "    </tr>\n",
       "    <tr>\n",
       "      <th>904</th>\n",
       "      <td>8443321010</td>\n",
       "      <td>Xerox</td>\n",
       "      <td>Phaser 3260\\nMonochrome Laser Printer\\n\\r\\nPha...</td>\n",
       "      <td>NaN</td>\n",
       "      <td>NaN</td>\n",
       "      <td>\\n\\r\\nKey Features\\nStandard Functions\\nPrint ...</td>\n",
       "      <td>NaN</td>\n",
       "      <td>3260_DNI</td>\n",
       "      <td>NaN</td>\n",
       "    </tr>\n",
       "    <tr>\n",
       "      <th>905</th>\n",
       "      <td>8443321030</td>\n",
       "      <td>Xerox</td>\n",
       "      <td>Phaser 3260\\nMonochrome Laser Printer\\n\\r\\nPha...</td>\n",
       "      <td>NaN</td>\n",
       "      <td>NaN</td>\n",
       "      <td>\\n\\r\\nKey Features\\nStandard Functions\\nPrint ...</td>\n",
       "      <td>NaN</td>\n",
       "      <td>3260_DI</td>\n",
       "      <td>NaN</td>\n",
       "    </tr>\n",
       "  </tbody>\n",
       "</table>\n",
       "</div>"
      ],
      "text/plain": [
       "     Classification CompanySource  \\\n",
       "896      8443321010         Xerox   \n",
       "897      8443321030         Xerox   \n",
       "898      8443321030         Xerox   \n",
       "899      8443321010         Xerox   \n",
       "900      8443321030         Xerox   \n",
       "901      8443321030         Xerox   \n",
       "902      8443321030         Xerox   \n",
       "903      8443321030         Xerox   \n",
       "904      8443321010         Xerox   \n",
       "905      8443321030         Xerox   \n",
       "\n",
       "                                           Description  GriCode  \\\n",
       "896  Phaser 3610\\nMonochrome Laser Printer\\n\\r\\nPha...      NaN   \n",
       "897  VersaLink C500\\nColor LED Printer\\n\\r\\nVersaLi...      NaN   \n",
       "898  VersaLink C500\\nColor LED Printer\\n\\r\\nVersaLi...      NaN   \n",
       "899  Phaser 3330\\nMonochrome Printer\\n\\r\\nPhaser 33...      NaN   \n",
       "900  Phaser 6510\\nColor LED Printer\\n\\r\\nPhaser 651...      NaN   \n",
       "901  Phaser 6510\\nColor LED Printer\\n\\r\\nPhaser 651...      NaN   \n",
       "902  Phaser 6510\\nColor LED Printer\\n\\r\\nPhaser 651...      NaN   \n",
       "903  Phaser 6022\\nColor LED Printer\\n\\r\\nPhaser 602...      NaN   \n",
       "904  Phaser 3260\\nMonochrome Laser Printer\\n\\r\\nPha...      NaN   \n",
       "905  Phaser 3260\\nMonochrome Laser Printer\\n\\r\\nPha...      NaN   \n",
       "\n",
       "     ImageAttachments                                       ProductSpecs  \\\n",
       "896               NaN  \\n\\r\\nKey Features\\nStandard Functions\\nBookle...   \n",
       "897               NaN  \\n\\r\\nKey Features\\nStandard Functions\\nPrint ...   \n",
       "898               NaN  \\n\\r\\nKey Features\\nStandard Functions\\nPrint ...   \n",
       "899               NaN  \\n\\r\\nKey Features\\nStandard Functions\\nPrint ...   \n",
       "900               NaN  \\n\\r\\nKey Features\\nStandard Functions\\nPrint ...   \n",
       "901               NaN  \\n\\r\\nKey Features\\nStandard Functions\\nPrint ...   \n",
       "902               NaN  \\n\\r\\nKey Features\\nStandard Functions\\nPrint ...   \n",
       "903               NaN  \\n\\r\\nKey Features\\nStandard Functions\\nPrint ...   \n",
       "904               NaN  \\n\\r\\nKey Features\\nStandard Functions\\nPrint ...   \n",
       "905               NaN  \\n\\r\\nKey Features\\nStandard Functions\\nPrint ...   \n",
       "\n",
       "     Rationale SKUNumber  SKUNumberCompanyDifferentFromExcel  \n",
       "896        NaN    3610_N                                 NaN  \n",
       "897        NaN   C500_DN                                 NaN  \n",
       "898        NaN    C500_N                                 NaN  \n",
       "899        NaN  3330_DNI                                 NaN  \n",
       "900        NaN  6510_DNI                                 NaN  \n",
       "901        NaN   6510_DN                                 NaN  \n",
       "902        NaN    6510_N                                 NaN  \n",
       "903        NaN   6022_NI                                 NaN  \n",
       "904        NaN  3260_DNI                                 NaN  \n",
       "905        NaN   3260_DI                                 NaN  "
      ]
     },
     "execution_count": 9,
     "metadata": {},
     "output_type": "execute_result"
    }
   ],
   "source": [
    "df_Xerox.tail(10)"
   ]
  },
  {
   "cell_type": "code",
   "execution_count": 10,
   "metadata": {},
   "outputs": [
    {
     "name": "stdout",
     "output_type": "stream",
     "text": [
      "<class 'pandas.core.frame.DataFrame'>\n",
      "RangeIndex: 906 entries, 0 to 905\n",
      "Data columns (total 9 columns):\n",
      "Classification                        906 non-null int64\n",
      "CompanySource                         906 non-null object\n",
      "Description                           906 non-null object\n",
      "GriCode                               0 non-null float64\n",
      "ImageAttachments                      0 non-null float64\n",
      "ProductSpecs                          906 non-null object\n",
      "Rationale                             0 non-null float64\n",
      "SKUNumber                             906 non-null object\n",
      "SKUNumberCompanyDifferentFromExcel    0 non-null float64\n",
      "dtypes: float64(4), int64(1), object(4)\n",
      "memory usage: 63.8+ KB\n"
     ]
    }
   ],
   "source": [
    "df_Xerox.info()"
   ]
  },
  {
   "cell_type": "code",
   "execution_count": 11,
   "metadata": {},
   "outputs": [
    {
     "data": {
      "text/plain": [
       "Index(['Classification', 'CompanySource', 'Description', 'GriCode',\n",
       "       'ImageAttachments', 'ProductSpecs', 'Rationale', 'SKUNumber',\n",
       "       'SKUNumberCompanyDifferentFromExcel'],\n",
       "      dtype='object')"
      ]
     },
     "execution_count": 11,
     "metadata": {},
     "output_type": "execute_result"
    }
   ],
   "source": [
    "df_Xerox.columns"
   ]
  },
  {
   "cell_type": "code",
   "execution_count": 12,
   "metadata": {},
   "outputs": [
    {
     "data": {
      "text/plain": [
       "(906, 9)"
      ]
     },
     "execution_count": 12,
     "metadata": {},
     "output_type": "execute_result"
    }
   ],
   "source": [
    "df_Xerox.shape"
   ]
  },
  {
   "cell_type": "markdown",
   "metadata": {},
   "source": [
    "### Concatenate product description and product specification "
   ]
  },
  {
   "cell_type": "code",
   "execution_count": 13,
   "metadata": {
    "collapsed": true
   },
   "outputs": [],
   "source": [
    "df_Xerox['Desc'] = df_Xerox['Description'] + df_Xerox['ProductSpecs']"
   ]
  },
  {
   "cell_type": "code",
   "execution_count": 95,
   "metadata": {},
   "outputs": [
    {
     "data": {
      "text/html": [
       "<div>\n",
       "<style>\n",
       "    .dataframe thead tr:only-child th {\n",
       "        text-align: right;\n",
       "    }\n",
       "\n",
       "    .dataframe thead th {\n",
       "        text-align: left;\n",
       "    }\n",
       "\n",
       "    .dataframe tbody tr th {\n",
       "        vertical-align: top;\n",
       "    }\n",
       "</style>\n",
       "<table border=\"1\" class=\"dataframe\">\n",
       "  <thead>\n",
       "    <tr style=\"text-align: right;\">\n",
       "      <th></th>\n",
       "      <th>Classification</th>\n",
       "      <th>CompanySource</th>\n",
       "      <th>Description</th>\n",
       "      <th>GriCode</th>\n",
       "      <th>ImageAttachments</th>\n",
       "      <th>ProductSpecs</th>\n",
       "      <th>Rationale</th>\n",
       "      <th>SKUNumber</th>\n",
       "      <th>SKUNumberCompanyDifferentFromExcel</th>\n",
       "      <th>Desc</th>\n",
       "      <th>Classi</th>\n",
       "    </tr>\n",
       "  </thead>\n",
       "  <tbody>\n",
       "    <tr>\n",
       "      <th>0</th>\n",
       "      <td>8443992550</td>\n",
       "      <td>Xerox</td>\n",
       "      <td>Phaser 7800 Professional Finisher (2,000-Sheet)</td>\n",
       "      <td>NaN</td>\n",
       "      <td>NaN</td>\n",
       "      <td>\\nCompatible Products\\nPhaser 7800\\nAvailabili...</td>\n",
       "      <td>NaN</td>\n",
       "      <td>097S04167</td>\n",
       "      <td>NaN</td>\n",
       "      <td>Phaser 7800 Professional Finisher (2,000-Sheet...</td>\n",
       "      <td>8443</td>\n",
       "    </tr>\n",
       "    <tr>\n",
       "      <th>1</th>\n",
       "      <td>8443992550</td>\n",
       "      <td>Xerox</td>\n",
       "      <td>Phaser 5500/5550 Finisher (3,500-Sheet)</td>\n",
       "      <td>NaN</td>\n",
       "      <td>NaN</td>\n",
       "      <td>\\nCompatible Products\\nPhaser 5550\\n,\\nPhaser ...</td>\n",
       "      <td>NaN</td>\n",
       "      <td>097S03282</td>\n",
       "      <td>NaN</td>\n",
       "      <td>Phaser 5500/5550 Finisher (3,500-Sheet)\\nCompa...</td>\n",
       "      <td>8443</td>\n",
       "    </tr>\n",
       "    <tr>\n",
       "      <th>2</th>\n",
       "      <td>8443992550</td>\n",
       "      <td>Xerox</td>\n",
       "      <td>Phaser 5500/5550 Stacker (3,500-Sheet)</td>\n",
       "      <td>NaN</td>\n",
       "      <td>NaN</td>\n",
       "      <td>\\nCompatible Products\\nPhaser 5550\\n,\\nPhaser ...</td>\n",
       "      <td>NaN</td>\n",
       "      <td>097S03719</td>\n",
       "      <td>NaN</td>\n",
       "      <td>Phaser 5500/5550 Stacker (3,500-Sheet)\\nCompat...</td>\n",
       "      <td>8443</td>\n",
       "    </tr>\n",
       "  </tbody>\n",
       "</table>\n",
       "</div>"
      ],
      "text/plain": [
       "   Classification CompanySource  \\\n",
       "0      8443992550         Xerox   \n",
       "1      8443992550         Xerox   \n",
       "2      8443992550         Xerox   \n",
       "\n",
       "                                       Description  GriCode  ImageAttachments  \\\n",
       "0  Phaser 7800 Professional Finisher (2,000-Sheet)      NaN               NaN   \n",
       "1          Phaser 5500/5550 Finisher (3,500-Sheet)      NaN               NaN   \n",
       "2           Phaser 5500/5550 Stacker (3,500-Sheet)      NaN               NaN   \n",
       "\n",
       "                                        ProductSpecs  Rationale  SKUNumber  \\\n",
       "0  \\nCompatible Products\\nPhaser 7800\\nAvailabili...        NaN  097S04167   \n",
       "1  \\nCompatible Products\\nPhaser 5550\\n,\\nPhaser ...        NaN  097S03282   \n",
       "2  \\nCompatible Products\\nPhaser 5550\\n,\\nPhaser ...        NaN  097S03719   \n",
       "\n",
       "   SKUNumberCompanyDifferentFromExcel  \\\n",
       "0                                 NaN   \n",
       "1                                 NaN   \n",
       "2                                 NaN   \n",
       "\n",
       "                                                Desc  Classi  \n",
       "0  Phaser 7800 Professional Finisher (2,000-Sheet...    8443  \n",
       "1  Phaser 5500/5550 Finisher (3,500-Sheet)\\nCompa...    8443  \n",
       "2  Phaser 5500/5550 Stacker (3,500-Sheet)\\nCompat...    8443  "
      ]
     },
     "execution_count": 95,
     "metadata": {},
     "output_type": "execute_result"
    }
   ],
   "source": [
    "df_Xerox.head(3)"
   ]
  },
  {
   "cell_type": "code",
   "execution_count": 15,
   "metadata": {},
   "outputs": [
    {
     "data": {
      "text/plain": [
       "['Phaser 7800 Professional Finisher (2,000-Sheet)']"
      ]
     },
     "execution_count": 15,
     "metadata": {},
     "output_type": "execute_result"
    }
   ],
   "source": [
    "list(df_Xerox['Description'][:1])"
   ]
  },
  {
   "cell_type": "code",
   "execution_count": 16,
   "metadata": {},
   "outputs": [
    {
     "data": {
      "text/plain": [
       "['\\nCompatible Products\\nPhaser 7800\\nAvailability\\nShips  1-3  days\\nCapacity/Yield\\n1,500 sheets\\nShipping Dimensions (LxWxH)\\n30.1\"x45.7\"x48.9\"\\nShipping Weight\\n253 lb\\nUPC Code\\n095205765397\\n\\r\\nThis finisher/stapler/booklet maker for your Phaser 7800 has a 1,500-sheet main stacker and 500-sheet top tray. It offers a 50-sheet multiposition stapler, hole punch, saddle-stitch booklet maker, and V-fold.\\n']"
      ]
     },
     "execution_count": 16,
     "metadata": {},
     "output_type": "execute_result"
    }
   ],
   "source": [
    "list(df_Xerox['ProductSpecs'][:1])"
   ]
  },
  {
   "cell_type": "code",
   "execution_count": 87,
   "metadata": {},
   "outputs": [
    {
     "data": {
      "text/plain": [
       "['WorkCentre 4265 Universal Fax Kit\\nCompatible Products\\nWorkCentre 4265\\nAvailability\\nShips  11-13  days\\nCapacity/Yield\\nn/a\\nShipping Dimensions (LxWxH)\\n6.6\" x 8.7\" x 2.5\"\\nShipping Weight\\n1 lb\\nUPC Code\\n095205862096\\n\\r\\nUniversal fax kit for the WorkCentre 4265.\\n']"
      ]
     },
     "execution_count": 87,
     "metadata": {},
     "output_type": "execute_result"
    }
   ],
   "source": [
    "list(df_Xerox['Desc'][16:17])"
   ]
  },
  {
   "cell_type": "code",
   "execution_count": 130,
   "metadata": {},
   "outputs": [
    {
     "data": {
      "text/plain": [
       "['ColorQube 8570/8580 Black Solid Ink Pack (4 Sticks)\\nCompatible Products\\nColorQube 8570\\n,\\nColorQube 8580\\nAvailability\\nIn Stock\\nCapacity/Yield\\n8,600 pages\\nShipping Dimensions (LxWxH)\\n4.56\" x 4.44\" x 1.75\"\\nShipping Weight\\n1 lb\\nUPC Code\\n095205761207\\nRelated Products\\n108R00926&nbsp;-&nbsp;ColorQube 8570/8580 Cyan Solid Ink Pack (2 Sticks)\\n108R00927&nbsp;-&nbsp;ColorQube 8570/8580 Magenta Solid Ink Pack (2 Sticks)\\n108R00928&nbsp;-&nbsp;ColorQube 8570/8580 Yellow Solid Ink Pack (2 Sticks)\\n108R00929&nbsp;-&nbsp;ColorQube 8570/8580 Black Solid Ink Pack (2 Sticks)\\n\\r\\nThese genuine Xerox black solid ink sticks are specially formulated for your ColorQube 8570/8580 to produce sharp text and vibrant, accurate colors, print after print. Match genuine Xerox supplies with your equipment to always get the best results. Donâ€™t settle for cheap imitations. The 108R00930 solid ink pack yields approximately 8,600 pages. Get free standard shipping on all supplies.\\n']"
      ]
     },
     "execution_count": 130,
     "metadata": {},
     "output_type": "execute_result"
    }
   ],
   "source": [
    "list(df_Xerox['Desc'][400:401])"
   ]
  },
  {
   "cell_type": "code",
   "execution_count": 129,
   "metadata": {},
   "outputs": [
    {
     "data": {
      "text/plain": [
       "[3215111000]"
      ]
     },
     "execution_count": 129,
     "metadata": {},
     "output_type": "execute_result"
    }
   ],
   "source": [
    "list(df_Xerox['Classification'][400:401])"
   ]
  },
  {
   "cell_type": "code",
   "execution_count": 23,
   "metadata": {},
   "outputs": [
    {
     "data": {
      "text/plain": [
       "array([8443992550, 8443992050, 8544422000, 8471704065, 9027304040,\n",
       "       4911998000, 7320205020, 9403200090, 8523510000, 8471706000,\n",
       "       8523520090, 9403100040, 8443992510, 3215111000, 8471609050,\n",
       "       8443992010, 8471801000, 8471900000, 8544429090, 3215191000,\n",
       "       8531809051, 8421398015, 3926909996, 8443310000, 8443321030,\n",
       "       8443321010], dtype=int64)"
      ]
     },
     "execution_count": 23,
     "metadata": {},
     "output_type": "execute_result"
    }
   ],
   "source": [
    "df_Xerox['Classification'].unique()"
   ]
  },
  {
   "cell_type": "code",
   "execution_count": 24,
   "metadata": {},
   "outputs": [
    {
     "data": {
      "text/html": [
       "<div>\n",
       "<style>\n",
       "    .dataframe thead tr:only-child th {\n",
       "        text-align: right;\n",
       "    }\n",
       "\n",
       "    .dataframe thead th {\n",
       "        text-align: left;\n",
       "    }\n",
       "\n",
       "    .dataframe tbody tr th {\n",
       "        vertical-align: top;\n",
       "    }\n",
       "</style>\n",
       "<table border=\"1\" class=\"dataframe\">\n",
       "  <thead>\n",
       "    <tr style=\"text-align: right;\">\n",
       "      <th></th>\n",
       "      <th>Desc</th>\n",
       "      <th>Classification</th>\n",
       "    </tr>\n",
       "  </thead>\n",
       "  <tbody>\n",
       "    <tr>\n",
       "      <th>0</th>\n",
       "      <td>Phaser 7800 Professional Finisher (2,000-Sheet...</td>\n",
       "      <td>8443992550</td>\n",
       "    </tr>\n",
       "    <tr>\n",
       "      <th>1</th>\n",
       "      <td>Phaser 5500/5550 Finisher (3,500-Sheet)\\nCompa...</td>\n",
       "      <td>8443992550</td>\n",
       "    </tr>\n",
       "    <tr>\n",
       "      <th>2</th>\n",
       "      <td>Phaser 5500/5550 Stacker (3,500-Sheet)\\nCompat...</td>\n",
       "      <td>8443992550</td>\n",
       "    </tr>\n",
       "    <tr>\n",
       "      <th>3</th>\n",
       "      <td>VersaLink C7000 Three Paper Tray Module (520-s...</td>\n",
       "      <td>8443992550</td>\n",
       "    </tr>\n",
       "    <tr>\n",
       "      <th>4</th>\n",
       "      <td>Phaser 7800 High Capacity Tandem Tray (2,520-S...</td>\n",
       "      <td>8443992050</td>\n",
       "    </tr>\n",
       "    <tr>\n",
       "      <th>5</th>\n",
       "      <td>ColorQube 8700/8900 High Capacity Sheet Feeder...</td>\n",
       "      <td>8443992550</td>\n",
       "    </tr>\n",
       "    <tr>\n",
       "      <th>6</th>\n",
       "      <td>Phaser 7500 High Capacity Sheet Feeder (1,500-...</td>\n",
       "      <td>8443992050</td>\n",
       "    </tr>\n",
       "    <tr>\n",
       "      <th>7</th>\n",
       "      <td>Phaser 7800 Office Finisher LX (2,000-Sheet)\\n...</td>\n",
       "      <td>8443992050</td>\n",
       "    </tr>\n",
       "    <tr>\n",
       "      <th>8</th>\n",
       "      <td>WorkCentre 4250/4260/4265 High Capacity Sheet ...</td>\n",
       "      <td>8443992550</td>\n",
       "    </tr>\n",
       "    <tr>\n",
       "      <th>9</th>\n",
       "      <td>Phaser 7800 3-Tray Module (1,560-Sheet)\\nCompa...</td>\n",
       "      <td>8443992050</td>\n",
       "    </tr>\n",
       "    <tr>\n",
       "      <th>10</th>\n",
       "      <td>Phaser 6700 Finisher (1,000-Sheet)\\nCompatible...</td>\n",
       "      <td>8443992550</td>\n",
       "    </tr>\n",
       "    <tr>\n",
       "      <th>11</th>\n",
       "      <td>Phaser 5500/5550 Sheet Feeder (2,000-Sheet)\\nC...</td>\n",
       "      <td>8443992550</td>\n",
       "    </tr>\n",
       "    <tr>\n",
       "      <th>12</th>\n",
       "      <td>VersaLink C7000 Integrated Office Finisher\\nCo...</td>\n",
       "      <td>8443992050</td>\n",
       "    </tr>\n",
       "    <tr>\n",
       "      <th>13</th>\n",
       "      <td>Phaser 7800 Booklet Maker for Finisher\\nCompat...</td>\n",
       "      <td>8443992550</td>\n",
       "    </tr>\n",
       "    <tr>\n",
       "      <th>14</th>\n",
       "      <td>Phaser 6700 Sheet Feeder (1,100-Sheet)\\nCompat...</td>\n",
       "      <td>8443992550</td>\n",
       "    </tr>\n",
       "    <tr>\n",
       "      <th>15</th>\n",
       "      <td>WorkCentre 4265 Finisher (500-Sheet)\\nCompatib...</td>\n",
       "      <td>8443992550</td>\n",
       "    </tr>\n",
       "    <tr>\n",
       "      <th>16</th>\n",
       "      <td>WorkCentre 4265 Universal Fax Kit\\nCompatible ...</td>\n",
       "      <td>8544422000</td>\n",
       "    </tr>\n",
       "    <tr>\n",
       "      <th>17</th>\n",
       "      <td>Phaser 5500/5550 Sheet Feeder (1,000-Sheet)\\nC...</td>\n",
       "      <td>8443992050</td>\n",
       "    </tr>\n",
       "    <tr>\n",
       "      <th>18</th>\n",
       "      <td>Phaser 4600/4620/4622 High Capacity Sheet Feed...</td>\n",
       "      <td>8443992550</td>\n",
       "    </tr>\n",
       "    <tr>\n",
       "      <th>19</th>\n",
       "      <td>Phaser 7400 Color Imaging Unit Bundle\\nCompati...</td>\n",
       "      <td>8443992050</td>\n",
       "    </tr>\n",
       "    <tr>\n",
       "      <th>20</th>\n",
       "      <td>ColorQube 8700/8900 Finisher (650-Sheet)\\nComp...</td>\n",
       "      <td>8443992550</td>\n",
       "    </tr>\n",
       "    <tr>\n",
       "      <th>21</th>\n",
       "      <td>VersaLink B600/B605/B610/B615/C500/C505/C600/C...</td>\n",
       "      <td>8443992550</td>\n",
       "    </tr>\n",
       "    <tr>\n",
       "      <th>22</th>\n",
       "      <td>VersaLink C7000 Single Paper Tray with Stand (...</td>\n",
       "      <td>8443992550</td>\n",
       "    </tr>\n",
       "    <tr>\n",
       "      <th>23</th>\n",
       "      <td>WorkCentre 4250/4260 Parallel Fax Kit\\nCompati...</td>\n",
       "      <td>8443992550</td>\n",
       "    </tr>\n",
       "    <tr>\n",
       "      <th>24</th>\n",
       "      <td>WorkCentre 4150/4250/4260 Finisher (500-Sheet)...</td>\n",
       "      <td>8443992550</td>\n",
       "    </tr>\n",
       "    <tr>\n",
       "      <th>25</th>\n",
       "      <td>Phaser 5500/5550 Maintenance Kit (110V)\\nCompa...</td>\n",
       "      <td>8443992050</td>\n",
       "    </tr>\n",
       "    <tr>\n",
       "      <th>26</th>\n",
       "      <td>Phaser 7500 High Capacity Magenta Toner Cartri...</td>\n",
       "      <td>8443992550</td>\n",
       "    </tr>\n",
       "    <tr>\n",
       "      <th>27</th>\n",
       "      <td>Phaser 7500 High Capacity Yellow Toner Cartrid...</td>\n",
       "      <td>8443992550</td>\n",
       "    </tr>\n",
       "    <tr>\n",
       "      <th>28</th>\n",
       "      <td>Phaser 7500 High Capacity Cyan Toner Cartridge...</td>\n",
       "      <td>8443992550</td>\n",
       "    </tr>\n",
       "    <tr>\n",
       "      <th>29</th>\n",
       "      <td>WorkCentre 4265 Extra High Capacity Black Tone...</td>\n",
       "      <td>8443992550</td>\n",
       "    </tr>\n",
       "    <tr>\n",
       "      <th>...</th>\n",
       "      <td>...</td>\n",
       "      <td>...</td>\n",
       "    </tr>\n",
       "    <tr>\n",
       "      <th>876</th>\n",
       "      <td>Phaser 7500\\nColor Tabloid LED Printer\\n\\r\\nPh...</td>\n",
       "      <td>8443321030</td>\n",
       "    </tr>\n",
       "    <tr>\n",
       "      <th>877</th>\n",
       "      <td>Phaser 7500\\nColor Tabloid LED Printer\\n\\r\\nPh...</td>\n",
       "      <td>8443321030</td>\n",
       "    </tr>\n",
       "    <tr>\n",
       "      <th>878</th>\n",
       "      <td>Phaser 7500\\nColor Tabloid LED Printer\\n\\r\\nPh...</td>\n",
       "      <td>8443321030</td>\n",
       "    </tr>\n",
       "    <tr>\n",
       "      <th>879</th>\n",
       "      <td>Phaser 7500\\nColor Tabloid LED Printer\\n\\r\\nPh...</td>\n",
       "      <td>8443321030</td>\n",
       "    </tr>\n",
       "    <tr>\n",
       "      <th>880</th>\n",
       "      <td>Phaser 5550\\nMonochrome Tabloid Laser Printer\\...</td>\n",
       "      <td>8443321010</td>\n",
       "    </tr>\n",
       "    <tr>\n",
       "      <th>881</th>\n",
       "      <td>Phaser 5550\\nMonochrome Tabloid Laser Printer\\...</td>\n",
       "      <td>8443321010</td>\n",
       "    </tr>\n",
       "    <tr>\n",
       "      <th>882</th>\n",
       "      <td>Phaser 5550\\nMonochrome Tabloid Laser Printer\\...</td>\n",
       "      <td>8443321010</td>\n",
       "    </tr>\n",
       "    <tr>\n",
       "      <th>883</th>\n",
       "      <td>VersaLink C600\\nColor LED Printer\\n\\r\\nVersaLi...</td>\n",
       "      <td>8443321030</td>\n",
       "    </tr>\n",
       "    <tr>\n",
       "      <th>884</th>\n",
       "      <td>VersaLink C600\\nColor LED Printer\\n\\r\\nVersaLi...</td>\n",
       "      <td>8443321030</td>\n",
       "    </tr>\n",
       "    <tr>\n",
       "      <th>885</th>\n",
       "      <td>VersaLink C600\\nColor LED Printer\\n\\r\\nVersaLi...</td>\n",
       "      <td>8443321030</td>\n",
       "    </tr>\n",
       "    <tr>\n",
       "      <th>886</th>\n",
       "      <td>VersaLink C600\\nColor LED Printer\\n\\r\\nVersaLi...</td>\n",
       "      <td>8443321030</td>\n",
       "    </tr>\n",
       "    <tr>\n",
       "      <th>887</th>\n",
       "      <td>VersaLink C600\\nColor LED Printer\\n\\r\\nVersaLi...</td>\n",
       "      <td>8443321030</td>\n",
       "    </tr>\n",
       "    <tr>\n",
       "      <th>888</th>\n",
       "      <td>VersaLink C600\\nColor LED Printer\\n\\r\\nVersaLi...</td>\n",
       "      <td>8443321030</td>\n",
       "    </tr>\n",
       "    <tr>\n",
       "      <th>889</th>\n",
       "      <td>VersaLink B600/B610\\nMonochrome LED Printer\\n\\...</td>\n",
       "      <td>8443321030</td>\n",
       "    </tr>\n",
       "    <tr>\n",
       "      <th>890</th>\n",
       "      <td>VersaLink B600/B610\\nMonochrome LED Printer\\n\\...</td>\n",
       "      <td>8443321030</td>\n",
       "    </tr>\n",
       "    <tr>\n",
       "      <th>891</th>\n",
       "      <td>VersaLink B400\\nMonochrome Laser Printer\\n\\r\\n...</td>\n",
       "      <td>8443321010</td>\n",
       "    </tr>\n",
       "    <tr>\n",
       "      <th>892</th>\n",
       "      <td>VersaLink B400\\nMonochrome Laser Printer\\n\\r\\n...</td>\n",
       "      <td>8443321010</td>\n",
       "    </tr>\n",
       "    <tr>\n",
       "      <th>893</th>\n",
       "      <td>VersaLink C400\\nColor Laser Printer\\n\\r\\nVersa...</td>\n",
       "      <td>8443321010</td>\n",
       "    </tr>\n",
       "    <tr>\n",
       "      <th>894</th>\n",
       "      <td>VersaLink C400\\nColor Laser Printer\\n\\r\\nVersa...</td>\n",
       "      <td>8443321010</td>\n",
       "    </tr>\n",
       "    <tr>\n",
       "      <th>895</th>\n",
       "      <td>Phaser 3610\\nMonochrome Laser Printer\\n\\r\\nPha...</td>\n",
       "      <td>8443321010</td>\n",
       "    </tr>\n",
       "    <tr>\n",
       "      <th>896</th>\n",
       "      <td>Phaser 3610\\nMonochrome Laser Printer\\n\\r\\nPha...</td>\n",
       "      <td>8443321010</td>\n",
       "    </tr>\n",
       "    <tr>\n",
       "      <th>897</th>\n",
       "      <td>VersaLink C500\\nColor LED Printer\\n\\r\\nVersaLi...</td>\n",
       "      <td>8443321030</td>\n",
       "    </tr>\n",
       "    <tr>\n",
       "      <th>898</th>\n",
       "      <td>VersaLink C500\\nColor LED Printer\\n\\r\\nVersaLi...</td>\n",
       "      <td>8443321030</td>\n",
       "    </tr>\n",
       "    <tr>\n",
       "      <th>899</th>\n",
       "      <td>Phaser 3330\\nMonochrome Printer\\n\\r\\nPhaser 33...</td>\n",
       "      <td>8443321010</td>\n",
       "    </tr>\n",
       "    <tr>\n",
       "      <th>900</th>\n",
       "      <td>Phaser 6510\\nColor LED Printer\\n\\r\\nPhaser 651...</td>\n",
       "      <td>8443321030</td>\n",
       "    </tr>\n",
       "    <tr>\n",
       "      <th>901</th>\n",
       "      <td>Phaser 6510\\nColor LED Printer\\n\\r\\nPhaser 651...</td>\n",
       "      <td>8443321030</td>\n",
       "    </tr>\n",
       "    <tr>\n",
       "      <th>902</th>\n",
       "      <td>Phaser 6510\\nColor LED Printer\\n\\r\\nPhaser 651...</td>\n",
       "      <td>8443321030</td>\n",
       "    </tr>\n",
       "    <tr>\n",
       "      <th>903</th>\n",
       "      <td>Phaser 6022\\nColor LED Printer\\n\\r\\nPhaser 602...</td>\n",
       "      <td>8443321030</td>\n",
       "    </tr>\n",
       "    <tr>\n",
       "      <th>904</th>\n",
       "      <td>Phaser 3260\\nMonochrome Laser Printer\\n\\r\\nPha...</td>\n",
       "      <td>8443321010</td>\n",
       "    </tr>\n",
       "    <tr>\n",
       "      <th>905</th>\n",
       "      <td>Phaser 3260\\nMonochrome Laser Printer\\n\\r\\nPha...</td>\n",
       "      <td>8443321030</td>\n",
       "    </tr>\n",
       "  </tbody>\n",
       "</table>\n",
       "<p>906 rows × 2 columns</p>\n",
       "</div>"
      ],
      "text/plain": [
       "                                                  Desc  Classification\n",
       "0    Phaser 7800 Professional Finisher (2,000-Sheet...      8443992550\n",
       "1    Phaser 5500/5550 Finisher (3,500-Sheet)\\nCompa...      8443992550\n",
       "2    Phaser 5500/5550 Stacker (3,500-Sheet)\\nCompat...      8443992550\n",
       "3    VersaLink C7000 Three Paper Tray Module (520-s...      8443992550\n",
       "4    Phaser 7800 High Capacity Tandem Tray (2,520-S...      8443992050\n",
       "5    ColorQube 8700/8900 High Capacity Sheet Feeder...      8443992550\n",
       "6    Phaser 7500 High Capacity Sheet Feeder (1,500-...      8443992050\n",
       "7    Phaser 7800 Office Finisher LX (2,000-Sheet)\\n...      8443992050\n",
       "8    WorkCentre 4250/4260/4265 High Capacity Sheet ...      8443992550\n",
       "9    Phaser 7800 3-Tray Module (1,560-Sheet)\\nCompa...      8443992050\n",
       "10   Phaser 6700 Finisher (1,000-Sheet)\\nCompatible...      8443992550\n",
       "11   Phaser 5500/5550 Sheet Feeder (2,000-Sheet)\\nC...      8443992550\n",
       "12   VersaLink C7000 Integrated Office Finisher\\nCo...      8443992050\n",
       "13   Phaser 7800 Booklet Maker for Finisher\\nCompat...      8443992550\n",
       "14   Phaser 6700 Sheet Feeder (1,100-Sheet)\\nCompat...      8443992550\n",
       "15   WorkCentre 4265 Finisher (500-Sheet)\\nCompatib...      8443992550\n",
       "16   WorkCentre 4265 Universal Fax Kit\\nCompatible ...      8544422000\n",
       "17   Phaser 5500/5550 Sheet Feeder (1,000-Sheet)\\nC...      8443992050\n",
       "18   Phaser 4600/4620/4622 High Capacity Sheet Feed...      8443992550\n",
       "19   Phaser 7400 Color Imaging Unit Bundle\\nCompati...      8443992050\n",
       "20   ColorQube 8700/8900 Finisher (650-Sheet)\\nComp...      8443992550\n",
       "21   VersaLink B600/B605/B610/B615/C500/C505/C600/C...      8443992550\n",
       "22   VersaLink C7000 Single Paper Tray with Stand (...      8443992550\n",
       "23   WorkCentre 4250/4260 Parallel Fax Kit\\nCompati...      8443992550\n",
       "24   WorkCentre 4150/4250/4260 Finisher (500-Sheet)...      8443992550\n",
       "25   Phaser 5500/5550 Maintenance Kit (110V)\\nCompa...      8443992050\n",
       "26   Phaser 7500 High Capacity Magenta Toner Cartri...      8443992550\n",
       "27   Phaser 7500 High Capacity Yellow Toner Cartrid...      8443992550\n",
       "28   Phaser 7500 High Capacity Cyan Toner Cartridge...      8443992550\n",
       "29   WorkCentre 4265 Extra High Capacity Black Tone...      8443992550\n",
       "..                                                 ...             ...\n",
       "876  Phaser 7500\\nColor Tabloid LED Printer\\n\\r\\nPh...      8443321030\n",
       "877  Phaser 7500\\nColor Tabloid LED Printer\\n\\r\\nPh...      8443321030\n",
       "878  Phaser 7500\\nColor Tabloid LED Printer\\n\\r\\nPh...      8443321030\n",
       "879  Phaser 7500\\nColor Tabloid LED Printer\\n\\r\\nPh...      8443321030\n",
       "880  Phaser 5550\\nMonochrome Tabloid Laser Printer\\...      8443321010\n",
       "881  Phaser 5550\\nMonochrome Tabloid Laser Printer\\...      8443321010\n",
       "882  Phaser 5550\\nMonochrome Tabloid Laser Printer\\...      8443321010\n",
       "883  VersaLink C600\\nColor LED Printer\\n\\r\\nVersaLi...      8443321030\n",
       "884  VersaLink C600\\nColor LED Printer\\n\\r\\nVersaLi...      8443321030\n",
       "885  VersaLink C600\\nColor LED Printer\\n\\r\\nVersaLi...      8443321030\n",
       "886  VersaLink C600\\nColor LED Printer\\n\\r\\nVersaLi...      8443321030\n",
       "887  VersaLink C600\\nColor LED Printer\\n\\r\\nVersaLi...      8443321030\n",
       "888  VersaLink C600\\nColor LED Printer\\n\\r\\nVersaLi...      8443321030\n",
       "889  VersaLink B600/B610\\nMonochrome LED Printer\\n\\...      8443321030\n",
       "890  VersaLink B600/B610\\nMonochrome LED Printer\\n\\...      8443321030\n",
       "891  VersaLink B400\\nMonochrome Laser Printer\\n\\r\\n...      8443321010\n",
       "892  VersaLink B400\\nMonochrome Laser Printer\\n\\r\\n...      8443321010\n",
       "893  VersaLink C400\\nColor Laser Printer\\n\\r\\nVersa...      8443321010\n",
       "894  VersaLink C400\\nColor Laser Printer\\n\\r\\nVersa...      8443321010\n",
       "895  Phaser 3610\\nMonochrome Laser Printer\\n\\r\\nPha...      8443321010\n",
       "896  Phaser 3610\\nMonochrome Laser Printer\\n\\r\\nPha...      8443321010\n",
       "897  VersaLink C500\\nColor LED Printer\\n\\r\\nVersaLi...      8443321030\n",
       "898  VersaLink C500\\nColor LED Printer\\n\\r\\nVersaLi...      8443321030\n",
       "899  Phaser 3330\\nMonochrome Printer\\n\\r\\nPhaser 33...      8443321010\n",
       "900  Phaser 6510\\nColor LED Printer\\n\\r\\nPhaser 651...      8443321030\n",
       "901  Phaser 6510\\nColor LED Printer\\n\\r\\nPhaser 651...      8443321030\n",
       "902  Phaser 6510\\nColor LED Printer\\n\\r\\nPhaser 651...      8443321030\n",
       "903  Phaser 6022\\nColor LED Printer\\n\\r\\nPhaser 602...      8443321030\n",
       "904  Phaser 3260\\nMonochrome Laser Printer\\n\\r\\nPha...      8443321010\n",
       "905  Phaser 3260\\nMonochrome Laser Printer\\n\\r\\nPha...      8443321030\n",
       "\n",
       "[906 rows x 2 columns]"
      ]
     },
     "execution_count": 24,
     "metadata": {},
     "output_type": "execute_result"
    }
   ],
   "source": [
    "df_Xerox[['Desc','Classification']]"
   ]
  },
  {
   "cell_type": "markdown",
   "metadata": {},
   "source": [
    "#### Check the class imbalance"
   ]
  },
  {
   "cell_type": "code",
   "execution_count": 140,
   "metadata": {},
   "outputs": [
    {
     "data": {
      "text/plain": [
       "8443992550    463\n",
       "8443992050    286\n",
       "3215191000     27\n",
       "8443310000     22\n",
       "8443321030     21\n",
       "8443992510     18\n",
       "3215111000     14\n",
       "8443321010     11\n",
       "8443992010      8\n",
       "8471704065      7\n",
       "8471801000      5\n",
       "8523520090      4\n",
       "8471609050      3\n",
       "8523510000      2\n",
       "4911998000      2\n",
       "9403100040      2\n",
       "8471706000      2\n",
       "8544422000      1\n",
       "3926909996      1\n",
       "9403200090      1\n",
       "8421398015      1\n",
       "9027304040      1\n",
       "7320205020      1\n",
       "8531809051      1\n",
       "8471900000      1\n",
       "8544429090      1\n",
       "Name: Classification, dtype: int64"
      ]
     },
     "execution_count": 140,
     "metadata": {},
     "output_type": "execute_result"
    }
   ],
   "source": [
    "df_Xerox['Classification'].value_counts()"
   ]
  },
  {
   "cell_type": "markdown",
   "metadata": {},
   "source": [
    "#### Split the classification for take first 4 digit value "
   ]
  },
  {
   "cell_type": "code",
   "execution_count": 99,
   "metadata": {},
   "outputs": [
    {
     "data": {
      "text/plain": [
       "array([8443, 8544, 8471, 9027, 4911, 7320, 9403, 8523, 3215, 8531, 8421,\n",
       "       3926], dtype=int64)"
      ]
     },
     "execution_count": 99,
     "metadata": {},
     "output_type": "execute_result"
    }
   ],
   "source": [
    "(df_Xerox['Classification'] // 1000000).unique()\n"
   ]
  },
  {
   "cell_type": "code",
   "execution_count": 105,
   "metadata": {},
   "outputs": [
    {
     "data": {
      "text/plain": [
       "array([844399, 854442, 847170, 902730, 491199, 732020, 940320, 852351,\n",
       "       852352, 940310, 321511, 847160, 847180, 847190, 321519, 853180,\n",
       "       842139, 392690, 844331, 844332], dtype=int64)"
      ]
     },
     "execution_count": 105,
     "metadata": {},
     "output_type": "execute_result"
    }
   ],
   "source": [
    "(df_Xerox['Classification'] // 10000).unique()"
   ]
  },
  {
   "cell_type": "markdown",
   "metadata": {},
   "source": [
    "#### First 4 Digits of Classification"
   ]
  },
  {
   "cell_type": "code",
   "execution_count": null,
   "metadata": {
    "collapsed": true
   },
   "outputs": [],
   "source": [
    "df_Xerox['Classi'] = df_Xerox['Classification'] // 1000000"
   ]
  },
  {
   "cell_type": "markdown",
   "metadata": {},
   "source": [
    "#### First 6 Digits of Classification"
   ]
  },
  {
   "cell_type": "code",
   "execution_count": 106,
   "metadata": {},
   "outputs": [],
   "source": [
    "df_Xerox['Class_6'] = df_Xerox['Classification'] // 10000"
   ]
  },
  {
   "cell_type": "code",
   "execution_count": 101,
   "metadata": {},
   "outputs": [
    {
     "data": {
      "text/plain": [
       "20"
      ]
     },
     "execution_count": 101,
     "metadata": {},
     "output_type": "execute_result"
    }
   ],
   "source": [
    "len((df_Xerox['Classification'] // 10000).unique())"
   ]
  },
  {
   "cell_type": "code",
   "execution_count": 108,
   "metadata": {},
   "outputs": [
    {
     "data": {
      "text/html": [
       "<div>\n",
       "<style>\n",
       "    .dataframe thead tr:only-child th {\n",
       "        text-align: right;\n",
       "    }\n",
       "\n",
       "    .dataframe thead th {\n",
       "        text-align: left;\n",
       "    }\n",
       "\n",
       "    .dataframe tbody tr th {\n",
       "        vertical-align: top;\n",
       "    }\n",
       "</style>\n",
       "<table border=\"1\" class=\"dataframe\">\n",
       "  <thead>\n",
       "    <tr style=\"text-align: right;\">\n",
       "      <th></th>\n",
       "      <th>Classification</th>\n",
       "      <th>CompanySource</th>\n",
       "      <th>Description</th>\n",
       "      <th>GriCode</th>\n",
       "      <th>ImageAttachments</th>\n",
       "      <th>ProductSpecs</th>\n",
       "      <th>Rationale</th>\n",
       "      <th>SKUNumber</th>\n",
       "      <th>SKUNumberCompanyDifferentFromExcel</th>\n",
       "      <th>Desc</th>\n",
       "      <th>Classi</th>\n",
       "      <th>Class_6</th>\n",
       "    </tr>\n",
       "  </thead>\n",
       "  <tbody>\n",
       "    <tr>\n",
       "      <th>0</th>\n",
       "      <td>8443992550</td>\n",
       "      <td>Xerox</td>\n",
       "      <td>Phaser 7800 Professional Finisher (2,000-Sheet)</td>\n",
       "      <td>NaN</td>\n",
       "      <td>NaN</td>\n",
       "      <td>\\nCompatible Products\\nPhaser 7800\\nAvailabili...</td>\n",
       "      <td>NaN</td>\n",
       "      <td>097S04167</td>\n",
       "      <td>NaN</td>\n",
       "      <td>Phaser 7800 Professional Finisher (2,000-Sheet...</td>\n",
       "      <td>8443</td>\n",
       "      <td>844399</td>\n",
       "    </tr>\n",
       "    <tr>\n",
       "      <th>1</th>\n",
       "      <td>8443992550</td>\n",
       "      <td>Xerox</td>\n",
       "      <td>Phaser 5500/5550 Finisher (3,500-Sheet)</td>\n",
       "      <td>NaN</td>\n",
       "      <td>NaN</td>\n",
       "      <td>\\nCompatible Products\\nPhaser 5550\\n,\\nPhaser ...</td>\n",
       "      <td>NaN</td>\n",
       "      <td>097S03282</td>\n",
       "      <td>NaN</td>\n",
       "      <td>Phaser 5500/5550 Finisher (3,500-Sheet)\\nCompa...</td>\n",
       "      <td>8443</td>\n",
       "      <td>844399</td>\n",
       "    </tr>\n",
       "    <tr>\n",
       "      <th>2</th>\n",
       "      <td>8443992550</td>\n",
       "      <td>Xerox</td>\n",
       "      <td>Phaser 5500/5550 Stacker (3,500-Sheet)</td>\n",
       "      <td>NaN</td>\n",
       "      <td>NaN</td>\n",
       "      <td>\\nCompatible Products\\nPhaser 5550\\n,\\nPhaser ...</td>\n",
       "      <td>NaN</td>\n",
       "      <td>097S03719</td>\n",
       "      <td>NaN</td>\n",
       "      <td>Phaser 5500/5550 Stacker (3,500-Sheet)\\nCompat...</td>\n",
       "      <td>8443</td>\n",
       "      <td>844399</td>\n",
       "    </tr>\n",
       "  </tbody>\n",
       "</table>\n",
       "</div>"
      ],
      "text/plain": [
       "   Classification CompanySource  \\\n",
       "0      8443992550         Xerox   \n",
       "1      8443992550         Xerox   \n",
       "2      8443992550         Xerox   \n",
       "\n",
       "                                       Description  GriCode  ImageAttachments  \\\n",
       "0  Phaser 7800 Professional Finisher (2,000-Sheet)      NaN               NaN   \n",
       "1          Phaser 5500/5550 Finisher (3,500-Sheet)      NaN               NaN   \n",
       "2           Phaser 5500/5550 Stacker (3,500-Sheet)      NaN               NaN   \n",
       "\n",
       "                                        ProductSpecs  Rationale  SKUNumber  \\\n",
       "0  \\nCompatible Products\\nPhaser 7800\\nAvailabili...        NaN  097S04167   \n",
       "1  \\nCompatible Products\\nPhaser 5550\\n,\\nPhaser ...        NaN  097S03282   \n",
       "2  \\nCompatible Products\\nPhaser 5550\\n,\\nPhaser ...        NaN  097S03719   \n",
       "\n",
       "   SKUNumberCompanyDifferentFromExcel  \\\n",
       "0                                 NaN   \n",
       "1                                 NaN   \n",
       "2                                 NaN   \n",
       "\n",
       "                                                Desc  Classi  Class_6  \n",
       "0  Phaser 7800 Professional Finisher (2,000-Sheet...    8443   844399  \n",
       "1  Phaser 5500/5550 Finisher (3,500-Sheet)\\nCompa...    8443   844399  \n",
       "2  Phaser 5500/5550 Stacker (3,500-Sheet)\\nCompat...    8443   844399  "
      ]
     },
     "execution_count": 108,
     "metadata": {},
     "output_type": "execute_result"
    }
   ],
   "source": [
    "df_Xerox.head(3)"
   ]
  },
  {
   "cell_type": "markdown",
   "metadata": {},
   "source": [
    "#### Split the dataset into X and y"
   ]
  },
  {
   "cell_type": "code",
   "execution_count": 42,
   "metadata": {
    "collapsed": true
   },
   "outputs": [],
   "source": [
    "X = df_Xerox['Desc']\n",
    "y = df_Xerox['Classi']"
   ]
  },
  {
   "cell_type": "code",
   "execution_count": 43,
   "metadata": {},
   "outputs": [
    {
     "data": {
      "text/plain": [
       "(906,)"
      ]
     },
     "execution_count": 43,
     "metadata": {},
     "output_type": "execute_result"
    }
   ],
   "source": [
    "X.shape"
   ]
  },
  {
   "cell_type": "code",
   "execution_count": 44,
   "metadata": {},
   "outputs": [
    {
     "data": {
      "text/plain": [
       "(906,)"
      ]
     },
     "execution_count": 44,
     "metadata": {},
     "output_type": "execute_result"
    }
   ],
   "source": [
    "y.shape"
   ]
  },
  {
   "cell_type": "code",
   "execution_count": 61,
   "metadata": {},
   "outputs": [
    {
     "data": {
      "text/plain": [
       "815"
      ]
     },
     "execution_count": 61,
     "metadata": {},
     "output_type": "execute_result"
    }
   ],
   "source": [
    "906-91"
   ]
  },
  {
   "cell_type": "markdown",
   "metadata": {},
   "source": [
    "#### Train / Test Split before Vectorization"
   ]
  },
  {
   "cell_type": "code",
   "execution_count": 46,
   "metadata": {
    "collapsed": true
   },
   "outputs": [],
   "source": [
    "from sklearn.model_selection import train_test_split"
   ]
  },
  {
   "cell_type": "markdown",
   "metadata": {},
   "source": [
    "#### First split the dataset into train, test then split the trainset again into train, validation "
   ]
  },
  {
   "cell_type": "code",
   "execution_count": 59,
   "metadata": {
    "collapsed": true
   },
   "outputs": [],
   "source": [
    "X_train,X_test,y_train,y_test = train_test_split(X,y,test_size=0.1,random_state=101)"
   ]
  },
  {
   "cell_type": "code",
   "execution_count": 62,
   "metadata": {},
   "outputs": [
    {
     "data": {
      "text/plain": [
       "(91,)"
      ]
     },
     "execution_count": 62,
     "metadata": {},
     "output_type": "execute_result"
    }
   ],
   "source": [
    "#Blind set / holdout set\n",
    "X_test.shape"
   ]
  },
  {
   "cell_type": "code",
   "execution_count": 63,
   "metadata": {
    "collapsed": true
   },
   "outputs": [],
   "source": [
    "X_train,X_val,y_train,y_val = train_test_split(X_train,y_train,test_size=0.2,random_state=101)"
   ]
  },
  {
   "cell_type": "code",
   "execution_count": 64,
   "metadata": {},
   "outputs": [
    {
     "data": {
      "text/plain": [
       "(652,)"
      ]
     },
     "execution_count": 64,
     "metadata": {},
     "output_type": "execute_result"
    }
   ],
   "source": [
    "X_train.shape"
   ]
  },
  {
   "cell_type": "code",
   "execution_count": 65,
   "metadata": {},
   "outputs": [
    {
     "data": {
      "text/plain": [
       "(163,)"
      ]
     },
     "execution_count": 65,
     "metadata": {},
     "output_type": "execute_result"
    }
   ],
   "source": [
    "X_val.shape"
   ]
  },
  {
   "cell_type": "code",
   "execution_count": 68,
   "metadata": {},
   "outputs": [
    {
     "data": {
      "text/plain": [
       "906"
      ]
     },
     "execution_count": 68,
     "metadata": {},
     "output_type": "execute_result"
    }
   ],
   "source": [
    "#Train/Validation/Test\n",
    "652+163+91"
   ]
  },
  {
   "cell_type": "markdown",
   "metadata": {},
   "source": [
    "#### Use Tfidf to caluculate Tfidf Vector"
   ]
  },
  {
   "cell_type": "code",
   "execution_count": 52,
   "metadata": {
    "collapsed": true
   },
   "outputs": [],
   "source": [
    "from sklearn.feature_extraction.text import TfidfVectorizer"
   ]
  },
  {
   "cell_type": "code",
   "execution_count": 69,
   "metadata": {
    "collapsed": true
   },
   "outputs": [],
   "source": [
    "tfidf_vect = TfidfVectorizer(stop_words='english')"
   ]
  },
  {
   "cell_type": "code",
   "execution_count": 71,
   "metadata": {},
   "outputs": [],
   "source": [
    "tfidf_bow = tfidf_vect.fit_transform(X_train)"
   ]
  },
  {
   "cell_type": "code",
   "execution_count": 72,
   "metadata": {},
   "outputs": [
    {
     "data": {
      "text/plain": [
       "(652, 3713)"
      ]
     },
     "execution_count": 72,
     "metadata": {},
     "output_type": "execute_result"
    }
   ],
   "source": [
    "tfidf_bow.shape"
   ]
  },
  {
   "cell_type": "markdown",
   "metadata": {},
   "source": [
    "### Create a Model"
   ]
  },
  {
   "cell_type": "code",
   "execution_count": 74,
   "metadata": {
    "collapsed": true
   },
   "outputs": [],
   "source": [
    "from sklearn.naive_bayes import MultinomialNB"
   ]
  },
  {
   "cell_type": "code",
   "execution_count": 75,
   "metadata": {
    "collapsed": true
   },
   "outputs": [],
   "source": [
    "mnb =MultinomialNB()"
   ]
  },
  {
   "cell_type": "code",
   "execution_count": 76,
   "metadata": {},
   "outputs": [
    {
     "data": {
      "text/plain": [
       "MultinomialNB(alpha=1.0, class_prior=None, fit_prior=True)"
      ]
     },
     "execution_count": 76,
     "metadata": {},
     "output_type": "execute_result"
    }
   ],
   "source": [
    "mnb.fit(tfidf_bow,y_train)"
   ]
  },
  {
   "cell_type": "code",
   "execution_count": 81,
   "metadata": {},
   "outputs": [
    {
     "name": "stdout",
     "output_type": "stream",
     "text": [
      "[8443]\n"
     ]
    }
   ],
   "source": [
    "print(mnb.predict(tfidf_vect.transform(['Phaser 7800 Professional Finisher (2,000-Sheet)\\nCompatible Products\\nPhaser 7800\\nAvailability\\nShips  1-3  days\\nCapacity/Yield\\n1,500 sheets\\nShipping Dimensions (LxWxH)\\n30.1\"x45.7\"x48.9\"\\nShipping Weight\\n253 lb\\nUPC Code\\n 095205765397\\n\\r\\nThis finisher/stapler/booklet maker for your Phaser 7800 has a 1,500-sheet main stacker and 500-sheet top tray. It offers a 50-sheet multiposition stapler, hole punch, saddle-stitch booklet maker, and V-fold.\\n'])))"
   ]
  },
  {
   "cell_type": "code",
   "execution_count": 90,
   "metadata": {},
   "outputs": [
    {
     "data": {
      "text/plain": [
       "'WorkCentre 4265 Universal Fax Kit\\nCompatible Products\\nWorkCentre 4265\\nAvailability\\nShips  11-13  days\\nCapacity/Yield\\nn/a\\nShipping Dimensions (LxWxH)\\n6.6\" x 8.7\" x 2.5\"\\nShipping Weight\\n1 lb\\nUPC Code\\n095205862096\\n\\r\\nUniversal fax kit for the WorkCentre 4265.\\n'"
      ]
     },
     "execution_count": 90,
     "metadata": {},
     "output_type": "execute_result"
    }
   ],
   "source": [
    "df_Xerox['Desc'].loc[16]"
   ]
  },
  {
   "cell_type": "code",
   "execution_count": 86,
   "metadata": {},
   "outputs": [
    {
     "name": "stdout",
     "output_type": "stream",
     "text": [
      "[8443]\n"
     ]
    }
   ],
   "source": [
    "print(mnb.predict(tfidf_vect.transform(['WorkCentre 4265 Finisher (500-Sheet)\\nCompatible Products\\nWorkCentre 4265\\nAvailability\\nCall for Availability\\nCapacity/Yield\\nn/a\\nShipping Dimensions (LxWxH)\\n17.8\" x 13.5\" x 23.4\"\\nShipping Weight\\n28 lb\\nUPC Code\\n095205862089\\n\\r\\nNo need to worry about stapling all of those packets together by hand! This finisher/stapler for your WorkCentre 4265 can hold up to 500 sheets and staple up to 50 sheets at a time (single-position).\\n'])))"
   ]
  },
  {
   "cell_type": "code",
   "execution_count": 88,
   "metadata": {},
   "outputs": [
    {
     "name": "stdout",
     "output_type": "stream",
     "text": [
      "[8443]\n"
     ]
    }
   ],
   "source": [
    "print(mnb.predict(tfidf_vect.transform(['WorkCentre 4265 Universal Fax Kit\\nCompatible Products\\nWorkCentre 4265\\nAvailability\\nShips  11-13  days\\nCapacity/Yield\\nn/a\\nShipping Dimensions (LxWxH)\\n6.6\" x 8.7\" x 2.5\"\\nShipping Weight\\n1 lb\\nUPC Code\\n095205862096\\n\\r\\nUniversal fax kit for the WorkCentre 4265.\\n'])))"
   ]
  },
  {
   "cell_type": "code",
   "execution_count": 92,
   "metadata": {},
   "outputs": [],
   "source": [
    "pred = mnb.predict(tfidf_vect.transform(X_val))"
   ]
  },
  {
   "cell_type": "code",
   "execution_count": 96,
   "metadata": {
    "collapsed": true
   },
   "outputs": [],
   "source": [
    "from sklearn.metrics import classification_report,confusion_matrix"
   ]
  },
  {
   "cell_type": "code",
   "execution_count": 94,
   "metadata": {},
   "outputs": [
    {
     "name": "stdout",
     "output_type": "stream",
     "text": [
      "             precision    recall  f1-score   support\n",
      "\n",
      "       3215       1.00      0.10      0.18        10\n",
      "       8443       0.90      1.00      0.94       145\n",
      "       8471       0.00      0.00      0.00         5\n",
      "       8523       0.00      0.00      0.00         1\n",
      "       9027       0.00      0.00      0.00         1\n",
      "       9403       0.00      0.00      0.00         1\n",
      "\n",
      "avg / total       0.86      0.90      0.85       163\n",
      "\n"
     ]
    },
    {
     "name": "stderr",
     "output_type": "stream",
     "text": [
      "C:\\Users\\rajam\\Anaconda3\\lib\\site-packages\\sklearn\\metrics\\classification.py:1113: UndefinedMetricWarning: Precision and F-score are ill-defined and being set to 0.0 in labels with no predicted samples.\n",
      "  'precision', 'predicted', average, warn_for)\n"
     ]
    }
   ],
   "source": [
    "print(classification_report(y_val,pred))"
   ]
  },
  {
   "cell_type": "markdown",
   "metadata": {},
   "source": [
    "#### Now use 6 digit code for y variable"
   ]
  },
  {
   "cell_type": "code",
   "execution_count": 109,
   "metadata": {
    "collapsed": true
   },
   "outputs": [],
   "source": [
    "# Split the dataset\n",
    "X = df_Xerox['Desc']\n",
    "y = df_Xerox['Class_6'] # 6 digit code"
   ]
  },
  {
   "cell_type": "code",
   "execution_count": 110,
   "metadata": {
    "collapsed": true
   },
   "outputs": [],
   "source": [
    "#Train / Test Split - Blind set\n",
    "X_train,X_test,y_train,y_test = train_test_split(X,y,test_size=0.1,random_state=101)"
   ]
  },
  {
   "cell_type": "code",
   "execution_count": 111,
   "metadata": {
    "collapsed": true
   },
   "outputs": [],
   "source": [
    "#Train / Test Split - Validation set\n",
    "X_train,X_val,y_train,y_val = train_test_split(X_train,y_train,test_size=0.2,random_state=101)"
   ]
  },
  {
   "cell_type": "code",
   "execution_count": 132,
   "metadata": {
    "collapsed": true
   },
   "outputs": [],
   "source": [
    "#Calculate Tfidf vector\n",
    "tfidf_bow = tfidf_vect.fit_transform(X_train)"
   ]
  },
  {
   "cell_type": "code",
   "execution_count": 133,
   "metadata": {},
   "outputs": [
    {
     "data": {
      "text/plain": [
       "MultinomialNB(alpha=1.0, class_prior=None, fit_prior=True)"
      ]
     },
     "execution_count": 133,
     "metadata": {},
     "output_type": "execute_result"
    }
   ],
   "source": [
    "#Fit the model\n",
    "mnb.fit(tfidf_bow,y_train)"
   ]
  },
  {
   "cell_type": "code",
   "execution_count": 134,
   "metadata": {},
   "outputs": [
    {
     "name": "stdout",
     "output_type": "stream",
     "text": [
      "[844399]\n"
     ]
    }
   ],
   "source": [
    "print(mnb.predict(tfidf_vect.transform(['WorkCentre 4265 Universal Fax Kit\\nCompatible Products\\nWorkCentre 4265\\nAvailability\\nShips  11-13  days\\nCapacity/Yield\\nn/a\\nShipping Dimensions (LxWxH)\\n6.6\" x 8.7\" x 2.5\"\\nShipping Weight\\n1 lb\\nUPC Code\\n095205862096\\n\\r\\nUniversal fax kit for the WorkCentre 4265.\\n'])))"
   ]
  },
  {
   "cell_type": "code",
   "execution_count": 135,
   "metadata": {},
   "outputs": [
    {
     "name": "stdout",
     "output_type": "stream",
     "text": [
      "[844399]\n"
     ]
    }
   ],
   "source": [
    "print(mnb.predict(tfidf_vect.transform(['Phaser 7800 Professional Finisher (2,000-Sheet)\\nCompatible Products\\nPhaser 7800\\nAvailability\\nShips  1-3  days\\nCapacity/Yield\\n1,500 sheets\\nShipping Dimensions (LxWxH)\\n30.1\"x45.7\"x48.9\"\\nShipping Weight\\n253 lb\\nUPC Code\\n 095205765397\\n\\r\\nThis finisher/stapler/booklet maker for your Phaser 7800 has a 1,500-sheet main stacker and 500-sheet top tray. It offers a 50-sheet multiposition stapler, hole punch, saddle-stitch booklet maker, and V-fold.\\n'])))"
   ]
  },
  {
   "cell_type": "code",
   "execution_count": 136,
   "metadata": {},
   "outputs": [
    {
     "name": "stdout",
     "output_type": "stream",
     "text": [
      "[844399]\n"
     ]
    }
   ],
   "source": [
    "print(mnb.predict(tfidf_vect.transform(['ColorQube 8570/8580 Black Solid Ink Pack (4 Sticks)\\nCompatible Products\\nColorQube 8570\\n,\\nColorQube 8580\\nAvailability\\nIn Stock\\nCapacity/Yield\\n8,600 pages\\nShipping Dimensions (LxWxH)\\n4.56\" x 4.44\" x 1.75\"\\nShipping Weight\\n1 lb\\nUPC Code\\n095205761207\\nRelated Products\\n108R00926&nbsp;-&nbsp;ColorQube 8570/8580 Cyan Solid Ink Pack (2 Sticks)\\n108R00927&nbsp;-&nbsp;ColorQube 8570/8580 Magenta Solid Ink Pack (2 Sticks)\\n108R00928&nbsp;-&nbsp;ColorQube 8570/8580 Yellow Solid Ink Pack (2 Sticks)\\n108R00929&nbsp;-&nbsp;ColorQube 8570/8580 Black Solid Ink Pack (2 Sticks)\\n\\r\\nThese genuine Xerox black solid ink sticks are specially formulated for your ColorQube 8570/8580 to produce sharp text and vibrant, accurate colors, print after print. Match genuine Xerox supplies with your equipment to always get the best results. Donâ€™t settle for cheap imitations. The 108R00930 solid ink pack yields approximately 8,600 pages. Get free standard shipping on all supplies.\\n'])))"
   ]
  },
  {
   "cell_type": "code",
   "execution_count": 137,
   "metadata": {
    "collapsed": true
   },
   "outputs": [],
   "source": [
    "pred_6 = mnb.predict(tfidf_vect.transform(X_val))"
   ]
  },
  {
   "cell_type": "code",
   "execution_count": 138,
   "metadata": {},
   "outputs": [
    {
     "name": "stdout",
     "output_type": "stream",
     "text": [
      "             precision    recall  f1-score   support\n",
      "\n",
      "     321511       0.00      0.00      0.00         2\n",
      "     321519       0.00      0.00      0.00         8\n",
      "     844331       0.00      0.00      0.00         2\n",
      "     844332       0.50      1.00      0.67         2\n",
      "     844399       0.89      1.00      0.94       141\n",
      "     847170       0.00      0.00      0.00         5\n",
      "     852352       0.00      0.00      0.00         1\n",
      "     902730       0.00      0.00      0.00         1\n",
      "     940320       0.00      0.00      0.00         1\n",
      "\n",
      "avg / total       0.77      0.88      0.82       163\n",
      "\n"
     ]
    },
    {
     "name": "stderr",
     "output_type": "stream",
     "text": [
      "C:\\Users\\rajam\\Anaconda3\\lib\\site-packages\\sklearn\\metrics\\classification.py:1113: UndefinedMetricWarning: Precision and F-score are ill-defined and being set to 0.0 in labels with no predicted samples.\n",
      "  'precision', 'predicted', average, warn_for)\n"
     ]
    }
   ],
   "source": [
    "print(classification_report(y_val,pred_6))"
   ]
  },
  {
   "cell_type": "markdown",
   "metadata": {},
   "source": [
    "#### Now use 10 digit code for y variable"
   ]
  },
  {
   "cell_type": "code",
   "execution_count": 141,
   "metadata": {
    "collapsed": true
   },
   "outputs": [],
   "source": [
    "#Split the dataset\n",
    "X=df_Xerox['Desc']\n",
    "y=df_Xerox['Classification'] # 10 digit code"
   ]
  },
  {
   "cell_type": "code",
   "execution_count": 142,
   "metadata": {
    "collapsed": true
   },
   "outputs": [],
   "source": [
    "#Train / Test Split - Blind set\n",
    "X_train,X_test,y_train,y_val = train_test_split(X,y,test_size=0.1,random_state=101)"
   ]
  },
  {
   "cell_type": "code",
   "execution_count": 143,
   "metadata": {
    "collapsed": true
   },
   "outputs": [],
   "source": [
    "#Validation set\n",
    "X_train,X_val,y_train,y_val = train_test_split(X_train,y_train,test_size=0.2,random_state=101)"
   ]
  },
  {
   "cell_type": "code",
   "execution_count": null,
   "metadata": {
    "collapsed": true
   },
   "outputs": [],
   "source": []
  }
 ],
 "metadata": {
  "kernelspec": {
   "display_name": "Python 3",
   "language": "python",
   "name": "python3"
  },
  "language_info": {
   "codemirror_mode": {
    "name": "ipython",
    "version": 3
   },
   "file_extension": ".py",
   "mimetype": "text/x-python",
   "name": "python",
   "nbconvert_exporter": "python",
   "pygments_lexer": "ipython3",
   "version": "3.6.1"
  }
 },
 "nbformat": 4,
 "nbformat_minor": 2
}
