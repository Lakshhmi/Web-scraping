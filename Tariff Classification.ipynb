{
 "cells": [
  {
   "cell_type": "code",
   "execution_count": 1,
   "metadata": {
    "collapsed": true
   },
   "outputs": [],
   "source": [
    "import numpy as np\n",
    "import pandas as pd"
   ]
  },
  {
   "cell_type": "code",
   "execution_count": 2,
   "metadata": {
    "collapsed": true
   },
   "outputs": [],
   "source": [
    "import matplotlib.pyplot as plt\n",
    "import seaborn as sns"
   ]
  },
  {
   "cell_type": "code",
   "execution_count": 3,
   "metadata": {
    "collapsed": true
   },
   "outputs": [],
   "source": [
    "%matplotlib inline"
   ]
  },
  {
   "cell_type": "code",
   "execution_count": 4,
   "metadata": {
    "collapsed": true
   },
   "outputs": [],
   "source": [
    "df_Xerox = pd.read_json(\"Xerox_DataSet.json\")"
   ]
  },
  {
   "cell_type": "code",
   "execution_count": 9,
   "metadata": {},
   "outputs": [
    {
     "data": {
      "text/html": [
       "<div>\n",
       "<style>\n",
       "    .dataframe thead tr:only-child th {\n",
       "        text-align: right;\n",
       "    }\n",
       "\n",
       "    .dataframe thead th {\n",
       "        text-align: left;\n",
       "    }\n",
       "\n",
       "    .dataframe tbody tr th {\n",
       "        vertical-align: top;\n",
       "    }\n",
       "</style>\n",
       "<table border=\"1\" class=\"dataframe\">\n",
       "  <thead>\n",
       "    <tr style=\"text-align: right;\">\n",
       "      <th></th>\n",
       "      <th>Classification</th>\n",
       "      <th>CompanySource</th>\n",
       "      <th>Description</th>\n",
       "      <th>GriCode</th>\n",
       "      <th>ImageAttachments</th>\n",
       "      <th>ProductSpecs</th>\n",
       "      <th>Rationale</th>\n",
       "      <th>SKUNumber</th>\n",
       "      <th>SKUNumberCompanyDifferentFromExcel</th>\n",
       "    </tr>\n",
       "  </thead>\n",
       "  <tbody>\n",
       "    <tr>\n",
       "      <th>896</th>\n",
       "      <td>8443321010</td>\n",
       "      <td>Xerox</td>\n",
       "      <td>Phaser 3610\\nMonochrome Laser Printer\\n\\r\\nPha...</td>\n",
       "      <td>NaN</td>\n",
       "      <td>NaN</td>\n",
       "      <td>\\n\\r\\nKey Features\\nStandard Functions\\nBookle...</td>\n",
       "      <td>NaN</td>\n",
       "      <td>3610_N</td>\n",
       "      <td>NaN</td>\n",
       "    </tr>\n",
       "    <tr>\n",
       "      <th>897</th>\n",
       "      <td>8443321030</td>\n",
       "      <td>Xerox</td>\n",
       "      <td>VersaLink C500\\nColor LED Printer\\n\\r\\nVersaLi...</td>\n",
       "      <td>NaN</td>\n",
       "      <td>NaN</td>\n",
       "      <td>\\n\\r\\nKey Features\\nStandard Functions\\nPrint ...</td>\n",
       "      <td>NaN</td>\n",
       "      <td>C500_DN</td>\n",
       "      <td>NaN</td>\n",
       "    </tr>\n",
       "    <tr>\n",
       "      <th>898</th>\n",
       "      <td>8443321030</td>\n",
       "      <td>Xerox</td>\n",
       "      <td>VersaLink C500\\nColor LED Printer\\n\\r\\nVersaLi...</td>\n",
       "      <td>NaN</td>\n",
       "      <td>NaN</td>\n",
       "      <td>\\n\\r\\nKey Features\\nStandard Functions\\nPrint ...</td>\n",
       "      <td>NaN</td>\n",
       "      <td>C500_N</td>\n",
       "      <td>NaN</td>\n",
       "    </tr>\n",
       "    <tr>\n",
       "      <th>899</th>\n",
       "      <td>8443321010</td>\n",
       "      <td>Xerox</td>\n",
       "      <td>Phaser 3330\\nMonochrome Printer\\n\\r\\nPhaser 33...</td>\n",
       "      <td>NaN</td>\n",
       "      <td>NaN</td>\n",
       "      <td>\\n\\r\\nKey Features\\nStandard Functions\\nPrint ...</td>\n",
       "      <td>NaN</td>\n",
       "      <td>3330_DNI</td>\n",
       "      <td>NaN</td>\n",
       "    </tr>\n",
       "    <tr>\n",
       "      <th>900</th>\n",
       "      <td>8443321030</td>\n",
       "      <td>Xerox</td>\n",
       "      <td>Phaser 6510\\nColor LED Printer\\n\\r\\nPhaser 651...</td>\n",
       "      <td>NaN</td>\n",
       "      <td>NaN</td>\n",
       "      <td>\\n\\r\\nKey Features\\nStandard Functions\\nPrint ...</td>\n",
       "      <td>NaN</td>\n",
       "      <td>6510_DNI</td>\n",
       "      <td>NaN</td>\n",
       "    </tr>\n",
       "    <tr>\n",
       "      <th>901</th>\n",
       "      <td>8443321030</td>\n",
       "      <td>Xerox</td>\n",
       "      <td>Phaser 6510\\nColor LED Printer\\n\\r\\nPhaser 651...</td>\n",
       "      <td>NaN</td>\n",
       "      <td>NaN</td>\n",
       "      <td>\\n\\r\\nKey Features\\nStandard Functions\\nPrint ...</td>\n",
       "      <td>NaN</td>\n",
       "      <td>6510_DN</td>\n",
       "      <td>NaN</td>\n",
       "    </tr>\n",
       "    <tr>\n",
       "      <th>902</th>\n",
       "      <td>8443321030</td>\n",
       "      <td>Xerox</td>\n",
       "      <td>Phaser 6510\\nColor LED Printer\\n\\r\\nPhaser 651...</td>\n",
       "      <td>NaN</td>\n",
       "      <td>NaN</td>\n",
       "      <td>\\n\\r\\nKey Features\\nStandard Functions\\nPrint ...</td>\n",
       "      <td>NaN</td>\n",
       "      <td>6510_N</td>\n",
       "      <td>NaN</td>\n",
       "    </tr>\n",
       "    <tr>\n",
       "      <th>903</th>\n",
       "      <td>8443321030</td>\n",
       "      <td>Xerox</td>\n",
       "      <td>Phaser 6022\\nColor LED Printer\\n\\r\\nPhaser 602...</td>\n",
       "      <td>NaN</td>\n",
       "      <td>NaN</td>\n",
       "      <td>\\n\\r\\nKey Features\\nStandard Functions\\nPrint ...</td>\n",
       "      <td>NaN</td>\n",
       "      <td>6022_NI</td>\n",
       "      <td>NaN</td>\n",
       "    </tr>\n",
       "    <tr>\n",
       "      <th>904</th>\n",
       "      <td>8443321010</td>\n",
       "      <td>Xerox</td>\n",
       "      <td>Phaser 3260\\nMonochrome Laser Printer\\n\\r\\nPha...</td>\n",
       "      <td>NaN</td>\n",
       "      <td>NaN</td>\n",
       "      <td>\\n\\r\\nKey Features\\nStandard Functions\\nPrint ...</td>\n",
       "      <td>NaN</td>\n",
       "      <td>3260_DNI</td>\n",
       "      <td>NaN</td>\n",
       "    </tr>\n",
       "    <tr>\n",
       "      <th>905</th>\n",
       "      <td>8443321030</td>\n",
       "      <td>Xerox</td>\n",
       "      <td>Phaser 3260\\nMonochrome Laser Printer\\n\\r\\nPha...</td>\n",
       "      <td>NaN</td>\n",
       "      <td>NaN</td>\n",
       "      <td>\\n\\r\\nKey Features\\nStandard Functions\\nPrint ...</td>\n",
       "      <td>NaN</td>\n",
       "      <td>3260_DI</td>\n",
       "      <td>NaN</td>\n",
       "    </tr>\n",
       "  </tbody>\n",
       "</table>\n",
       "</div>"
      ],
      "text/plain": [
       "     Classification CompanySource  \\\n",
       "896      8443321010         Xerox   \n",
       "897      8443321030         Xerox   \n",
       "898      8443321030         Xerox   \n",
       "899      8443321010         Xerox   \n",
       "900      8443321030         Xerox   \n",
       "901      8443321030         Xerox   \n",
       "902      8443321030         Xerox   \n",
       "903      8443321030         Xerox   \n",
       "904      8443321010         Xerox   \n",
       "905      8443321030         Xerox   \n",
       "\n",
       "                                           Description  GriCode  \\\n",
       "896  Phaser 3610\\nMonochrome Laser Printer\\n\\r\\nPha...      NaN   \n",
       "897  VersaLink C500\\nColor LED Printer\\n\\r\\nVersaLi...      NaN   \n",
       "898  VersaLink C500\\nColor LED Printer\\n\\r\\nVersaLi...      NaN   \n",
       "899  Phaser 3330\\nMonochrome Printer\\n\\r\\nPhaser 33...      NaN   \n",
       "900  Phaser 6510\\nColor LED Printer\\n\\r\\nPhaser 651...      NaN   \n",
       "901  Phaser 6510\\nColor LED Printer\\n\\r\\nPhaser 651...      NaN   \n",
       "902  Phaser 6510\\nColor LED Printer\\n\\r\\nPhaser 651...      NaN   \n",
       "903  Phaser 6022\\nColor LED Printer\\n\\r\\nPhaser 602...      NaN   \n",
       "904  Phaser 3260\\nMonochrome Laser Printer\\n\\r\\nPha...      NaN   \n",
       "905  Phaser 3260\\nMonochrome Laser Printer\\n\\r\\nPha...      NaN   \n",
       "\n",
       "     ImageAttachments                                       ProductSpecs  \\\n",
       "896               NaN  \\n\\r\\nKey Features\\nStandard Functions\\nBookle...   \n",
       "897               NaN  \\n\\r\\nKey Features\\nStandard Functions\\nPrint ...   \n",
       "898               NaN  \\n\\r\\nKey Features\\nStandard Functions\\nPrint ...   \n",
       "899               NaN  \\n\\r\\nKey Features\\nStandard Functions\\nPrint ...   \n",
       "900               NaN  \\n\\r\\nKey Features\\nStandard Functions\\nPrint ...   \n",
       "901               NaN  \\n\\r\\nKey Features\\nStandard Functions\\nPrint ...   \n",
       "902               NaN  \\n\\r\\nKey Features\\nStandard Functions\\nPrint ...   \n",
       "903               NaN  \\n\\r\\nKey Features\\nStandard Functions\\nPrint ...   \n",
       "904               NaN  \\n\\r\\nKey Features\\nStandard Functions\\nPrint ...   \n",
       "905               NaN  \\n\\r\\nKey Features\\nStandard Functions\\nPrint ...   \n",
       "\n",
       "     Rationale SKUNumber  SKUNumberCompanyDifferentFromExcel  \n",
       "896        NaN    3610_N                                 NaN  \n",
       "897        NaN   C500_DN                                 NaN  \n",
       "898        NaN    C500_N                                 NaN  \n",
       "899        NaN  3330_DNI                                 NaN  \n",
       "900        NaN  6510_DNI                                 NaN  \n",
       "901        NaN   6510_DN                                 NaN  \n",
       "902        NaN    6510_N                                 NaN  \n",
       "903        NaN   6022_NI                                 NaN  \n",
       "904        NaN  3260_DNI                                 NaN  \n",
       "905        NaN   3260_DI                                 NaN  "
      ]
     },
     "execution_count": 9,
     "metadata": {},
     "output_type": "execute_result"
    }
   ],
   "source": [
    "df_Xerox.tail(10)"
   ]
  },
  {
   "cell_type": "code",
   "execution_count": 10,
   "metadata": {},
   "outputs": [
    {
     "name": "stdout",
     "output_type": "stream",
     "text": [
      "<class 'pandas.core.frame.DataFrame'>\n",
      "RangeIndex: 906 entries, 0 to 905\n",
      "Data columns (total 9 columns):\n",
      "Classification                        906 non-null int64\n",
      "CompanySource                         906 non-null object\n",
      "Description                           906 non-null object\n",
      "GriCode                               0 non-null float64\n",
      "ImageAttachments                      0 non-null float64\n",
      "ProductSpecs                          906 non-null object\n",
      "Rationale                             0 non-null float64\n",
      "SKUNumber                             906 non-null object\n",
      "SKUNumberCompanyDifferentFromExcel    0 non-null float64\n",
      "dtypes: float64(4), int64(1), object(4)\n",
      "memory usage: 63.8+ KB\n"
     ]
    }
   ],
   "source": [
    "df_Xerox.info()"
   ]
  },
  {
   "cell_type": "code",
   "execution_count": 11,
   "metadata": {},
   "outputs": [
    {
     "data": {
      "text/plain": [
       "Index(['Classification', 'CompanySource', 'Description', 'GriCode',\n",
       "       'ImageAttachments', 'ProductSpecs', 'Rationale', 'SKUNumber',\n",
       "       'SKUNumberCompanyDifferentFromExcel'],\n",
       "      dtype='object')"
      ]
     },
     "execution_count": 11,
     "metadata": {},
     "output_type": "execute_result"
    }
   ],
   "source": [
    "df_Xerox.columns"
   ]
  },
  {
   "cell_type": "code",
   "execution_count": 12,
   "metadata": {},
   "outputs": [
    {
     "data": {
      "text/plain": [
       "(906, 9)"
      ]
     },
     "execution_count": 12,
     "metadata": {},
     "output_type": "execute_result"
    }
   ],
   "source": [
    "df_Xerox.shape"
   ]
  },
  {
   "cell_type": "code",
   "execution_count": 13,
   "metadata": {
    "collapsed": true
   },
   "outputs": [],
   "source": [
    "df_Xerox['Desc'] = df_Xerox['Description'] + df_Xerox['ProductSpecs']"
   ]
  },
  {
   "cell_type": "code",
   "execution_count": 14,
   "metadata": {},
   "outputs": [
    {
     "data": {
      "text/html": [
       "<div>\n",
       "<style>\n",
       "    .dataframe thead tr:only-child th {\n",
       "        text-align: right;\n",
       "    }\n",
       "\n",
       "    .dataframe thead th {\n",
       "        text-align: left;\n",
       "    }\n",
       "\n",
       "    .dataframe tbody tr th {\n",
       "        vertical-align: top;\n",
       "    }\n",
       "</style>\n",
       "<table border=\"1\" class=\"dataframe\">\n",
       "  <thead>\n",
       "    <tr style=\"text-align: right;\">\n",
       "      <th></th>\n",
       "      <th>Classification</th>\n",
       "      <th>CompanySource</th>\n",
       "      <th>Description</th>\n",
       "      <th>GriCode</th>\n",
       "      <th>ImageAttachments</th>\n",
       "      <th>ProductSpecs</th>\n",
       "      <th>Rationale</th>\n",
       "      <th>SKUNumber</th>\n",
       "      <th>SKUNumberCompanyDifferentFromExcel</th>\n",
       "      <th>Desc</th>\n",
       "    </tr>\n",
       "  </thead>\n",
       "  <tbody>\n",
       "    <tr>\n",
       "      <th>0</th>\n",
       "      <td>8443992550</td>\n",
       "      <td>Xerox</td>\n",
       "      <td>Phaser 7800 Professional Finisher (2,000-Sheet)</td>\n",
       "      <td>NaN</td>\n",
       "      <td>NaN</td>\n",
       "      <td>\\nCompatible Products\\nPhaser 7800\\nAvailabili...</td>\n",
       "      <td>NaN</td>\n",
       "      <td>097S04167</td>\n",
       "      <td>NaN</td>\n",
       "      <td>Phaser 7800 Professional Finisher (2,000-Sheet...</td>\n",
       "    </tr>\n",
       "    <tr>\n",
       "      <th>1</th>\n",
       "      <td>8443992550</td>\n",
       "      <td>Xerox</td>\n",
       "      <td>Phaser 5500/5550 Finisher (3,500-Sheet)</td>\n",
       "      <td>NaN</td>\n",
       "      <td>NaN</td>\n",
       "      <td>\\nCompatible Products\\nPhaser 5550\\n,\\nPhaser ...</td>\n",
       "      <td>NaN</td>\n",
       "      <td>097S03282</td>\n",
       "      <td>NaN</td>\n",
       "      <td>Phaser 5500/5550 Finisher (3,500-Sheet)\\nCompa...</td>\n",
       "    </tr>\n",
       "    <tr>\n",
       "      <th>2</th>\n",
       "      <td>8443992550</td>\n",
       "      <td>Xerox</td>\n",
       "      <td>Phaser 5500/5550 Stacker (3,500-Sheet)</td>\n",
       "      <td>NaN</td>\n",
       "      <td>NaN</td>\n",
       "      <td>\\nCompatible Products\\nPhaser 5550\\n,\\nPhaser ...</td>\n",
       "      <td>NaN</td>\n",
       "      <td>097S03719</td>\n",
       "      <td>NaN</td>\n",
       "      <td>Phaser 5500/5550 Stacker (3,500-Sheet)\\nCompat...</td>\n",
       "    </tr>\n",
       "    <tr>\n",
       "      <th>3</th>\n",
       "      <td>8443992550</td>\n",
       "      <td>Xerox</td>\n",
       "      <td>VersaLink C7000 Three Paper Tray Module (520-s...</td>\n",
       "      <td>NaN</td>\n",
       "      <td>NaN</td>\n",
       "      <td>\\nCompatible Products\\nVersaLink C7000\\nAvaila...</td>\n",
       "      <td>NaN</td>\n",
       "      <td>097S04908</td>\n",
       "      <td>NaN</td>\n",
       "      <td>VersaLink C7000 Three Paper Tray Module (520-s...</td>\n",
       "    </tr>\n",
       "    <tr>\n",
       "      <th>4</th>\n",
       "      <td>8443992050</td>\n",
       "      <td>Xerox</td>\n",
       "      <td>Phaser 7800 High Capacity Tandem Tray (2,520-S...</td>\n",
       "      <td>NaN</td>\n",
       "      <td>NaN</td>\n",
       "      <td>\\nCompatible Products\\nPhaser 7800\\nAvailabili...</td>\n",
       "      <td>NaN</td>\n",
       "      <td>097S04160</td>\n",
       "      <td>NaN</td>\n",
       "      <td>Phaser 7800 High Capacity Tandem Tray (2,520-S...</td>\n",
       "    </tr>\n",
       "  </tbody>\n",
       "</table>\n",
       "</div>"
      ],
      "text/plain": [
       "   Classification CompanySource  \\\n",
       "0      8443992550         Xerox   \n",
       "1      8443992550         Xerox   \n",
       "2      8443992550         Xerox   \n",
       "3      8443992550         Xerox   \n",
       "4      8443992050         Xerox   \n",
       "\n",
       "                                         Description  GriCode  \\\n",
       "0    Phaser 7800 Professional Finisher (2,000-Sheet)      NaN   \n",
       "1            Phaser 5500/5550 Finisher (3,500-Sheet)      NaN   \n",
       "2             Phaser 5500/5550 Stacker (3,500-Sheet)      NaN   \n",
       "3  VersaLink C7000 Three Paper Tray Module (520-s...      NaN   \n",
       "4  Phaser 7800 High Capacity Tandem Tray (2,520-S...      NaN   \n",
       "\n",
       "   ImageAttachments                                       ProductSpecs  \\\n",
       "0               NaN  \\nCompatible Products\\nPhaser 7800\\nAvailabili...   \n",
       "1               NaN  \\nCompatible Products\\nPhaser 5550\\n,\\nPhaser ...   \n",
       "2               NaN  \\nCompatible Products\\nPhaser 5550\\n,\\nPhaser ...   \n",
       "3               NaN  \\nCompatible Products\\nVersaLink C7000\\nAvaila...   \n",
       "4               NaN  \\nCompatible Products\\nPhaser 7800\\nAvailabili...   \n",
       "\n",
       "   Rationale  SKUNumber  SKUNumberCompanyDifferentFromExcel  \\\n",
       "0        NaN  097S04167                                 NaN   \n",
       "1        NaN  097S03282                                 NaN   \n",
       "2        NaN  097S03719                                 NaN   \n",
       "3        NaN  097S04908                                 NaN   \n",
       "4        NaN  097S04160                                 NaN   \n",
       "\n",
       "                                                Desc  \n",
       "0  Phaser 7800 Professional Finisher (2,000-Sheet...  \n",
       "1  Phaser 5500/5550 Finisher (3,500-Sheet)\\nCompa...  \n",
       "2  Phaser 5500/5550 Stacker (3,500-Sheet)\\nCompat...  \n",
       "3  VersaLink C7000 Three Paper Tray Module (520-s...  \n",
       "4  Phaser 7800 High Capacity Tandem Tray (2,520-S...  "
      ]
     },
     "execution_count": 14,
     "metadata": {},
     "output_type": "execute_result"
    }
   ],
   "source": [
    "df_Xerox.head()"
   ]
  },
  {
   "cell_type": "code",
   "execution_count": 15,
   "metadata": {},
   "outputs": [
    {
     "data": {
      "text/plain": [
       "['Phaser 7800 Professional Finisher (2,000-Sheet)']"
      ]
     },
     "execution_count": 15,
     "metadata": {},
     "output_type": "execute_result"
    }
   ],
   "source": [
    "list(df_Xerox['Description'][:1])"
   ]
  },
  {
   "cell_type": "code",
   "execution_count": 16,
   "metadata": {},
   "outputs": [
    {
     "data": {
      "text/plain": [
       "['\\nCompatible Products\\nPhaser 7800\\nAvailability\\nShips  1-3  days\\nCapacity/Yield\\n1,500 sheets\\nShipping Dimensions (LxWxH)\\n30.1\"x45.7\"x48.9\"\\nShipping Weight\\n253 lb\\nUPC Code\\n095205765397\\n\\r\\nThis finisher/stapler/booklet maker for your Phaser 7800 has a 1,500-sheet main stacker and 500-sheet top tray. It offers a 50-sheet multiposition stapler, hole punch, saddle-stitch booklet maker, and V-fold.\\n']"
      ]
     },
     "execution_count": 16,
     "metadata": {},
     "output_type": "execute_result"
    }
   ],
   "source": [
    "list(df_Xerox['ProductSpecs'][:1])"
   ]
  },
  {
   "cell_type": "code",
   "execution_count": 17,
   "metadata": {},
   "outputs": [
    {
     "data": {
      "text/plain": [
       "['Phaser 7800 Professional Finisher (2,000-Sheet)\\nCompatible Products\\nPhaser 7800\\nAvailability\\nShips  1-3  days\\nCapacity/Yield\\n1,500 sheets\\nShipping Dimensions (LxWxH)\\n30.1\"x45.7\"x48.9\"\\nShipping Weight\\n253 lb\\nUPC Code\\n095205765397\\n\\r\\nThis finisher/stapler/booklet maker for your Phaser 7800 has a 1,500-sheet main stacker and 500-sheet top tray. It offers a 50-sheet multiposition stapler, hole punch, saddle-stitch booklet maker, and V-fold.\\n']"
      ]
     },
     "execution_count": 17,
     "metadata": {},
     "output_type": "execute_result"
    }
   ],
   "source": [
    "list(df_Xerox['Desc'][:1])"
   ]
  },
  {
   "cell_type": "code",
   "execution_count": 23,
   "metadata": {},
   "outputs": [
    {
     "data": {
      "text/plain": [
       "array([8443992550, 8443992050, 8544422000, 8471704065, 9027304040,\n",
       "       4911998000, 7320205020, 9403200090, 8523510000, 8471706000,\n",
       "       8523520090, 9403100040, 8443992510, 3215111000, 8471609050,\n",
       "       8443992010, 8471801000, 8471900000, 8544429090, 3215191000,\n",
       "       8531809051, 8421398015, 3926909996, 8443310000, 8443321030,\n",
       "       8443321010], dtype=int64)"
      ]
     },
     "execution_count": 23,
     "metadata": {},
     "output_type": "execute_result"
    }
   ],
   "source": [
    "df_Xerox['Classification'].unique()"
   ]
  },
  {
   "cell_type": "code",
   "execution_count": null,
   "metadata": {
    "collapsed": true
   },
   "outputs": [],
   "source": []
  }
 ],
 "metadata": {
  "kernelspec": {
   "display_name": "Python 3",
   "language": "python",
   "name": "python3"
  },
  "language_info": {
   "codemirror_mode": {
    "name": "ipython",
    "version": 3
   },
   "file_extension": ".py",
   "mimetype": "text/x-python",
   "name": "python",
   "nbconvert_exporter": "python",
   "pygments_lexer": "ipython3",
   "version": "3.6.1"
  }
 },
 "nbformat": 4,
 "nbformat_minor": 2
}
