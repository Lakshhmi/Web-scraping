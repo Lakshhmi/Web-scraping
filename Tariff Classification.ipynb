{
 "cells": [
  {
   "cell_type": "code",
   "execution_count": 1,
   "metadata": {
    "collapsed": true
   },
   "outputs": [],
   "source": [
    "import numpy as np\n",
    "import pandas as pd"
   ]
  },
  {
   "cell_type": "code",
   "execution_count": 5,
   "metadata": {
    "collapsed": true
   },
   "outputs": [],
   "source": [
    "import matplotlib.pyplot as plt\n",
    "import seaborn as sns"
   ]
  },
  {
   "cell_type": "code",
   "execution_count": 6,
   "metadata": {
    "collapsed": true
   },
   "outputs": [],
   "source": [
    "%matplotlib inline"
   ]
  },
  {
   "cell_type": "code",
   "execution_count": 7,
   "metadata": {
    "collapsed": true
   },
   "outputs": [],
   "source": [
    "df_Xerox = pd.read_json(\"Xerox_DataSet.json\")"
   ]
  },
  {
   "cell_type": "code",
   "execution_count": 8,
   "metadata": {},
   "outputs": [
    {
     "data": {
      "text/html": [
       "<div>\n",
       "<style>\n",
       "    .dataframe thead tr:only-child th {\n",
       "        text-align: right;\n",
       "    }\n",
       "\n",
       "    .dataframe thead th {\n",
       "        text-align: left;\n",
       "    }\n",
       "\n",
       "    .dataframe tbody tr th {\n",
       "        vertical-align: top;\n",
       "    }\n",
       "</style>\n",
       "<table border=\"1\" class=\"dataframe\">\n",
       "  <thead>\n",
       "    <tr style=\"text-align: right;\">\n",
       "      <th></th>\n",
       "      <th>Classification</th>\n",
       "      <th>CompanySource</th>\n",
       "      <th>Description</th>\n",
       "      <th>GriCode</th>\n",
       "      <th>ImageAttachments</th>\n",
       "      <th>ProductSpecs</th>\n",
       "      <th>Rationale</th>\n",
       "      <th>SKUNumber</th>\n",
       "      <th>SKUNumberCompanyDifferentFromExcel</th>\n",
       "    </tr>\n",
       "  </thead>\n",
       "  <tbody>\n",
       "    <tr>\n",
       "      <th>0</th>\n",
       "      <td>8443992550</td>\n",
       "      <td>Xerox</td>\n",
       "      <td>Phaser 7800 Professional Finisher (2,000-Sheet)</td>\n",
       "      <td>NaN</td>\n",
       "      <td>NaN</td>\n",
       "      <td>\\nCompatible Products\\nPhaser 7800\\nAvailabili...</td>\n",
       "      <td>NaN</td>\n",
       "      <td>097S04167</td>\n",
       "      <td>NaN</td>\n",
       "    </tr>\n",
       "    <tr>\n",
       "      <th>1</th>\n",
       "      <td>8443992550</td>\n",
       "      <td>Xerox</td>\n",
       "      <td>Phaser 5500/5550 Finisher (3,500-Sheet)</td>\n",
       "      <td>NaN</td>\n",
       "      <td>NaN</td>\n",
       "      <td>\\nCompatible Products\\nPhaser 5550\\n,\\nPhaser ...</td>\n",
       "      <td>NaN</td>\n",
       "      <td>097S03282</td>\n",
       "      <td>NaN</td>\n",
       "    </tr>\n",
       "    <tr>\n",
       "      <th>2</th>\n",
       "      <td>8443992550</td>\n",
       "      <td>Xerox</td>\n",
       "      <td>Phaser 5500/5550 Stacker (3,500-Sheet)</td>\n",
       "      <td>NaN</td>\n",
       "      <td>NaN</td>\n",
       "      <td>\\nCompatible Products\\nPhaser 5550\\n,\\nPhaser ...</td>\n",
       "      <td>NaN</td>\n",
       "      <td>097S03719</td>\n",
       "      <td>NaN</td>\n",
       "    </tr>\n",
       "    <tr>\n",
       "      <th>3</th>\n",
       "      <td>8443992550</td>\n",
       "      <td>Xerox</td>\n",
       "      <td>VersaLink C7000 Three Paper Tray Module (520-s...</td>\n",
       "      <td>NaN</td>\n",
       "      <td>NaN</td>\n",
       "      <td>\\nCompatible Products\\nVersaLink C7000\\nAvaila...</td>\n",
       "      <td>NaN</td>\n",
       "      <td>097S04908</td>\n",
       "      <td>NaN</td>\n",
       "    </tr>\n",
       "    <tr>\n",
       "      <th>4</th>\n",
       "      <td>8443992050</td>\n",
       "      <td>Xerox</td>\n",
       "      <td>Phaser 7800 High Capacity Tandem Tray (2,520-S...</td>\n",
       "      <td>NaN</td>\n",
       "      <td>NaN</td>\n",
       "      <td>\\nCompatible Products\\nPhaser 7800\\nAvailabili...</td>\n",
       "      <td>NaN</td>\n",
       "      <td>097S04160</td>\n",
       "      <td>NaN</td>\n",
       "    </tr>\n",
       "  </tbody>\n",
       "</table>\n",
       "</div>"
      ],
      "text/plain": [
       "   Classification CompanySource  \\\n",
       "0      8443992550         Xerox   \n",
       "1      8443992550         Xerox   \n",
       "2      8443992550         Xerox   \n",
       "3      8443992550         Xerox   \n",
       "4      8443992050         Xerox   \n",
       "\n",
       "                                         Description  GriCode  \\\n",
       "0    Phaser 7800 Professional Finisher (2,000-Sheet)      NaN   \n",
       "1            Phaser 5500/5550 Finisher (3,500-Sheet)      NaN   \n",
       "2             Phaser 5500/5550 Stacker (3,500-Sheet)      NaN   \n",
       "3  VersaLink C7000 Three Paper Tray Module (520-s...      NaN   \n",
       "4  Phaser 7800 High Capacity Tandem Tray (2,520-S...      NaN   \n",
       "\n",
       "   ImageAttachments                                       ProductSpecs  \\\n",
       "0               NaN  \\nCompatible Products\\nPhaser 7800\\nAvailabili...   \n",
       "1               NaN  \\nCompatible Products\\nPhaser 5550\\n,\\nPhaser ...   \n",
       "2               NaN  \\nCompatible Products\\nPhaser 5550\\n,\\nPhaser ...   \n",
       "3               NaN  \\nCompatible Products\\nVersaLink C7000\\nAvaila...   \n",
       "4               NaN  \\nCompatible Products\\nPhaser 7800\\nAvailabili...   \n",
       "\n",
       "   Rationale  SKUNumber  SKUNumberCompanyDifferentFromExcel  \n",
       "0        NaN  097S04167                                 NaN  \n",
       "1        NaN  097S03282                                 NaN  \n",
       "2        NaN  097S03719                                 NaN  \n",
       "3        NaN  097S04908                                 NaN  \n",
       "4        NaN  097S04160                                 NaN  "
      ]
     },
     "execution_count": 8,
     "metadata": {},
     "output_type": "execute_result"
    }
   ],
   "source": [
    "df_Xerox.head()"
   ]
  },
  {
   "cell_type": "code",
   "execution_count": 9,
   "metadata": {},
   "outputs": [
    {
     "name": "stdout",
     "output_type": "stream",
     "text": [
      "<class 'pandas.core.frame.DataFrame'>\n",
      "RangeIndex: 906 entries, 0 to 905\n",
      "Data columns (total 9 columns):\n",
      "Classification                        906 non-null int64\n",
      "CompanySource                         906 non-null object\n",
      "Description                           906 non-null object\n",
      "GriCode                               0 non-null float64\n",
      "ImageAttachments                      0 non-null float64\n",
      "ProductSpecs                          906 non-null object\n",
      "Rationale                             0 non-null float64\n",
      "SKUNumber                             906 non-null object\n",
      "SKUNumberCompanyDifferentFromExcel    0 non-null float64\n",
      "dtypes: float64(4), int64(1), object(4)\n",
      "memory usage: 63.8+ KB\n"
     ]
    }
   ],
   "source": [
    "df_Xerox.info()"
   ]
  },
  {
   "cell_type": "code",
   "execution_count": 10,
   "metadata": {},
   "outputs": [
    {
     "data": {
      "text/plain": [
       "Index(['Classification', 'CompanySource', 'Description', 'GriCode',\n",
       "       'ImageAttachments', 'ProductSpecs', 'Rationale', 'SKUNumber',\n",
       "       'SKUNumberCompanyDifferentFromExcel'],\n",
       "      dtype='object')"
      ]
     },
     "execution_count": 10,
     "metadata": {},
     "output_type": "execute_result"
    }
   ],
   "source": [
    "df_Xerox.columns"
   ]
  },
  {
   "cell_type": "code",
   "execution_count": 11,
   "metadata": {},
   "outputs": [
    {
     "data": {
      "text/plain": [
       "(906, 9)"
      ]
     },
     "execution_count": 11,
     "metadata": {},
     "output_type": "execute_result"
    }
   ],
   "source": [
    "df_Xerox.shape"
   ]
  },
  {
   "cell_type": "code",
   "execution_count": 13,
   "metadata": {},
   "outputs": [],
   "source": [
    "df_Xerox['Desc'] = df_Xerox['Description'] + df_Xerox['ProductSpecs']"
   ]
  },
  {
   "cell_type": "code",
   "execution_count": 14,
   "metadata": {},
   "outputs": [
    {
     "data": {
      "text/html": [
       "<div>\n",
       "<style>\n",
       "    .dataframe thead tr:only-child th {\n",
       "        text-align: right;\n",
       "    }\n",
       "\n",
       "    .dataframe thead th {\n",
       "        text-align: left;\n",
       "    }\n",
       "\n",
       "    .dataframe tbody tr th {\n",
       "        vertical-align: top;\n",
       "    }\n",
       "</style>\n",
       "<table border=\"1\" class=\"dataframe\">\n",
       "  <thead>\n",
       "    <tr style=\"text-align: right;\">\n",
       "      <th></th>\n",
       "      <th>Classification</th>\n",
       "      <th>CompanySource</th>\n",
       "      <th>Description</th>\n",
       "      <th>GriCode</th>\n",
       "      <th>ImageAttachments</th>\n",
       "      <th>ProductSpecs</th>\n",
       "      <th>Rationale</th>\n",
       "      <th>SKUNumber</th>\n",
       "      <th>SKUNumberCompanyDifferentFromExcel</th>\n",
       "      <th>Desc</th>\n",
       "    </tr>\n",
       "  </thead>\n",
       "  <tbody>\n",
       "    <tr>\n",
       "      <th>0</th>\n",
       "      <td>8443992550</td>\n",
       "      <td>Xerox</td>\n",
       "      <td>Phaser 7800 Professional Finisher (2,000-Sheet)</td>\n",
       "      <td>NaN</td>\n",
       "      <td>NaN</td>\n",
       "      <td>\\nCompatible Products\\nPhaser 7800\\nAvailabili...</td>\n",
       "      <td>NaN</td>\n",
       "      <td>097S04167</td>\n",
       "      <td>NaN</td>\n",
       "      <td>Phaser 7800 Professional Finisher (2,000-Sheet...</td>\n",
       "    </tr>\n",
       "    <tr>\n",
       "      <th>1</th>\n",
       "      <td>8443992550</td>\n",
       "      <td>Xerox</td>\n",
       "      <td>Phaser 5500/5550 Finisher (3,500-Sheet)</td>\n",
       "      <td>NaN</td>\n",
       "      <td>NaN</td>\n",
       "      <td>\\nCompatible Products\\nPhaser 5550\\n,\\nPhaser ...</td>\n",
       "      <td>NaN</td>\n",
       "      <td>097S03282</td>\n",
       "      <td>NaN</td>\n",
       "      <td>Phaser 5500/5550 Finisher (3,500-Sheet)\\nCompa...</td>\n",
       "    </tr>\n",
       "    <tr>\n",
       "      <th>2</th>\n",
       "      <td>8443992550</td>\n",
       "      <td>Xerox</td>\n",
       "      <td>Phaser 5500/5550 Stacker (3,500-Sheet)</td>\n",
       "      <td>NaN</td>\n",
       "      <td>NaN</td>\n",
       "      <td>\\nCompatible Products\\nPhaser 5550\\n,\\nPhaser ...</td>\n",
       "      <td>NaN</td>\n",
       "      <td>097S03719</td>\n",
       "      <td>NaN</td>\n",
       "      <td>Phaser 5500/5550 Stacker (3,500-Sheet)\\nCompat...</td>\n",
       "    </tr>\n",
       "    <tr>\n",
       "      <th>3</th>\n",
       "      <td>8443992550</td>\n",
       "      <td>Xerox</td>\n",
       "      <td>VersaLink C7000 Three Paper Tray Module (520-s...</td>\n",
       "      <td>NaN</td>\n",
       "      <td>NaN</td>\n",
       "      <td>\\nCompatible Products\\nVersaLink C7000\\nAvaila...</td>\n",
       "      <td>NaN</td>\n",
       "      <td>097S04908</td>\n",
       "      <td>NaN</td>\n",
       "      <td>VersaLink C7000 Three Paper Tray Module (520-s...</td>\n",
       "    </tr>\n",
       "    <tr>\n",
       "      <th>4</th>\n",
       "      <td>8443992050</td>\n",
       "      <td>Xerox</td>\n",
       "      <td>Phaser 7800 High Capacity Tandem Tray (2,520-S...</td>\n",
       "      <td>NaN</td>\n",
       "      <td>NaN</td>\n",
       "      <td>\\nCompatible Products\\nPhaser 7800\\nAvailabili...</td>\n",
       "      <td>NaN</td>\n",
       "      <td>097S04160</td>\n",
       "      <td>NaN</td>\n",
       "      <td>Phaser 7800 High Capacity Tandem Tray (2,520-S...</td>\n",
       "    </tr>\n",
       "  </tbody>\n",
       "</table>\n",
       "</div>"
      ],
      "text/plain": [
       "   Classification CompanySource  \\\n",
       "0      8443992550         Xerox   \n",
       "1      8443992550         Xerox   \n",
       "2      8443992550         Xerox   \n",
       "3      8443992550         Xerox   \n",
       "4      8443992050         Xerox   \n",
       "\n",
       "                                         Description  GriCode  \\\n",
       "0    Phaser 7800 Professional Finisher (2,000-Sheet)      NaN   \n",
       "1            Phaser 5500/5550 Finisher (3,500-Sheet)      NaN   \n",
       "2             Phaser 5500/5550 Stacker (3,500-Sheet)      NaN   \n",
       "3  VersaLink C7000 Three Paper Tray Module (520-s...      NaN   \n",
       "4  Phaser 7800 High Capacity Tandem Tray (2,520-S...      NaN   \n",
       "\n",
       "   ImageAttachments                                       ProductSpecs  \\\n",
       "0               NaN  \\nCompatible Products\\nPhaser 7800\\nAvailabili...   \n",
       "1               NaN  \\nCompatible Products\\nPhaser 5550\\n,\\nPhaser ...   \n",
       "2               NaN  \\nCompatible Products\\nPhaser 5550\\n,\\nPhaser ...   \n",
       "3               NaN  \\nCompatible Products\\nVersaLink C7000\\nAvaila...   \n",
       "4               NaN  \\nCompatible Products\\nPhaser 7800\\nAvailabili...   \n",
       "\n",
       "   Rationale  SKUNumber  SKUNumberCompanyDifferentFromExcel  \\\n",
       "0        NaN  097S04167                                 NaN   \n",
       "1        NaN  097S03282                                 NaN   \n",
       "2        NaN  097S03719                                 NaN   \n",
       "3        NaN  097S04908                                 NaN   \n",
       "4        NaN  097S04160                                 NaN   \n",
       "\n",
       "                                                Desc  \n",
       "0  Phaser 7800 Professional Finisher (2,000-Sheet...  \n",
       "1  Phaser 5500/5550 Finisher (3,500-Sheet)\\nCompa...  \n",
       "2  Phaser 5500/5550 Stacker (3,500-Sheet)\\nCompat...  \n",
       "3  VersaLink C7000 Three Paper Tray Module (520-s...  \n",
       "4  Phaser 7800 High Capacity Tandem Tray (2,520-S...  "
      ]
     },
     "execution_count": 14,
     "metadata": {},
     "output_type": "execute_result"
    }
   ],
   "source": [
    "df_Xerox.head()"
   ]
  },
  {
   "cell_type": "code",
   "execution_count": 20,
   "metadata": {},
   "outputs": [
    {
     "data": {
      "text/plain": [
       "0    Phaser 7800 Professional Finisher (2,000-Sheet)\n",
       "1            Phaser 5500/5550 Finisher (3,500-Sheet)\n",
       "2             Phaser 5500/5550 Stacker (3,500-Sheet)\n",
       "Name: Description, dtype: object"
      ]
     },
     "execution_count": 20,
     "metadata": {},
     "output_type": "execute_result"
    }
   ],
   "source": [
    "df_Xerox['Description'][:3]"
   ]
  },
  {
   "cell_type": "code",
   "execution_count": 19,
   "metadata": {},
   "outputs": [
    {
     "data": {
      "text/plain": [
       "0    \\nCompatible Products\\nPhaser 7800\\nAvailabili...\n",
       "1    \\nCompatible Products\\nPhaser 5550\\n,\\nPhaser ...\n",
       "2    \\nCompatible Products\\nPhaser 5550\\n,\\nPhaser ...\n",
       "Name: ProductSpecs, dtype: object"
      ]
     },
     "execution_count": 19,
     "metadata": {},
     "output_type": "execute_result"
    }
   ],
   "source": [
    "df_Xerox['ProductSpecs'][:3]"
   ]
  },
  {
   "cell_type": "code",
   "execution_count": 22,
   "metadata": {},
   "outputs": [
    {
     "data": {
      "text/plain": [
       "0    Phaser 7800 Professional Finisher (2,000-Sheet...\n",
       "Name: Desc, dtype: object"
      ]
     },
     "execution_count": 22,
     "metadata": {},
     "output_type": "execute_result"
    }
   ],
   "source": [
    "df_Xerox['Desc'][:1]"
   ]
  },
  {
   "cell_type": "code",
   "execution_count": null,
   "metadata": {
    "collapsed": true
   },
   "outputs": [],
   "source": []
  }
 ],
 "metadata": {
  "kernelspec": {
   "display_name": "Python 3",
   "language": "python",
   "name": "python3"
  },
  "language_info": {
   "codemirror_mode": {
    "name": "ipython",
    "version": 3
   },
   "file_extension": ".py",
   "mimetype": "text/x-python",
   "name": "python",
   "nbconvert_exporter": "python",
   "pygments_lexer": "ipython3",
   "version": "3.6.1"
  }
 },
 "nbformat": 4,
 "nbformat_minor": 2
}
