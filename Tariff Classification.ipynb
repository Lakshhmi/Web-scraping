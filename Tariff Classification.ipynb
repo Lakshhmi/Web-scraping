{
 "cells": [
  {
   "cell_type": "markdown",
   "metadata": {},
   "source": [
    "## Classify the product into a hierarchey of codes using Xerox Dataset"
   ]
  },
  {
   "cell_type": "code",
   "execution_count": 1,
   "metadata": {
    "collapsed": true
   },
   "outputs": [],
   "source": [
    "import numpy as np\n",
    "import pandas as pd"
   ]
  },
  {
   "cell_type": "code",
   "execution_count": 2,
   "metadata": {
    "collapsed": true
   },
   "outputs": [],
   "source": [
    "import matplotlib.pyplot as plt\n",
    "import seaborn as sns"
   ]
  },
  {
   "cell_type": "code",
   "execution_count": 3,
   "metadata": {
    "collapsed": true
   },
   "outputs": [],
   "source": [
    "%matplotlib inline"
   ]
  },
  {
   "cell_type": "code",
   "execution_count": 4,
   "metadata": {
    "collapsed": true
   },
   "outputs": [],
   "source": [
    "df_Xerox = pd.read_json(\"Xerox_DataSet.json\")"
   ]
  },
  {
   "cell_type": "code",
   "execution_count": 9,
   "metadata": {},
   "outputs": [
    {
     "data": {
      "text/html": [
       "<div>\n",
       "<style>\n",
       "    .dataframe thead tr:only-child th {\n",
       "        text-align: right;\n",
       "    }\n",
       "\n",
       "    .dataframe thead th {\n",
       "        text-align: left;\n",
       "    }\n",
       "\n",
       "    .dataframe tbody tr th {\n",
       "        vertical-align: top;\n",
       "    }\n",
       "</style>\n",
       "<table border=\"1\" class=\"dataframe\">\n",
       "  <thead>\n",
       "    <tr style=\"text-align: right;\">\n",
       "      <th></th>\n",
       "      <th>Classification</th>\n",
       "      <th>CompanySource</th>\n",
       "      <th>Description</th>\n",
       "      <th>GriCode</th>\n",
       "      <th>ImageAttachments</th>\n",
       "      <th>ProductSpecs</th>\n",
       "      <th>Rationale</th>\n",
       "      <th>SKUNumber</th>\n",
       "      <th>SKUNumberCompanyDifferentFromExcel</th>\n",
       "    </tr>\n",
       "  </thead>\n",
       "  <tbody>\n",
       "    <tr>\n",
       "      <th>896</th>\n",
       "      <td>8443321010</td>\n",
       "      <td>Xerox</td>\n",
       "      <td>Phaser 3610\\nMonochrome Laser Printer\\n\\r\\nPha...</td>\n",
       "      <td>NaN</td>\n",
       "      <td>NaN</td>\n",
       "      <td>\\n\\r\\nKey Features\\nStandard Functions\\nBookle...</td>\n",
       "      <td>NaN</td>\n",
       "      <td>3610_N</td>\n",
       "      <td>NaN</td>\n",
       "    </tr>\n",
       "    <tr>\n",
       "      <th>897</th>\n",
       "      <td>8443321030</td>\n",
       "      <td>Xerox</td>\n",
       "      <td>VersaLink C500\\nColor LED Printer\\n\\r\\nVersaLi...</td>\n",
       "      <td>NaN</td>\n",
       "      <td>NaN</td>\n",
       "      <td>\\n\\r\\nKey Features\\nStandard Functions\\nPrint ...</td>\n",
       "      <td>NaN</td>\n",
       "      <td>C500_DN</td>\n",
       "      <td>NaN</td>\n",
       "    </tr>\n",
       "    <tr>\n",
       "      <th>898</th>\n",
       "      <td>8443321030</td>\n",
       "      <td>Xerox</td>\n",
       "      <td>VersaLink C500\\nColor LED Printer\\n\\r\\nVersaLi...</td>\n",
       "      <td>NaN</td>\n",
       "      <td>NaN</td>\n",
       "      <td>\\n\\r\\nKey Features\\nStandard Functions\\nPrint ...</td>\n",
       "      <td>NaN</td>\n",
       "      <td>C500_N</td>\n",
       "      <td>NaN</td>\n",
       "    </tr>\n",
       "    <tr>\n",
       "      <th>899</th>\n",
       "      <td>8443321010</td>\n",
       "      <td>Xerox</td>\n",
       "      <td>Phaser 3330\\nMonochrome Printer\\n\\r\\nPhaser 33...</td>\n",
       "      <td>NaN</td>\n",
       "      <td>NaN</td>\n",
       "      <td>\\n\\r\\nKey Features\\nStandard Functions\\nPrint ...</td>\n",
       "      <td>NaN</td>\n",
       "      <td>3330_DNI</td>\n",
       "      <td>NaN</td>\n",
       "    </tr>\n",
       "    <tr>\n",
       "      <th>900</th>\n",
       "      <td>8443321030</td>\n",
       "      <td>Xerox</td>\n",
       "      <td>Phaser 6510\\nColor LED Printer\\n\\r\\nPhaser 651...</td>\n",
       "      <td>NaN</td>\n",
       "      <td>NaN</td>\n",
       "      <td>\\n\\r\\nKey Features\\nStandard Functions\\nPrint ...</td>\n",
       "      <td>NaN</td>\n",
       "      <td>6510_DNI</td>\n",
       "      <td>NaN</td>\n",
       "    </tr>\n",
       "    <tr>\n",
       "      <th>901</th>\n",
       "      <td>8443321030</td>\n",
       "      <td>Xerox</td>\n",
       "      <td>Phaser 6510\\nColor LED Printer\\n\\r\\nPhaser 651...</td>\n",
       "      <td>NaN</td>\n",
       "      <td>NaN</td>\n",
       "      <td>\\n\\r\\nKey Features\\nStandard Functions\\nPrint ...</td>\n",
       "      <td>NaN</td>\n",
       "      <td>6510_DN</td>\n",
       "      <td>NaN</td>\n",
       "    </tr>\n",
       "    <tr>\n",
       "      <th>902</th>\n",
       "      <td>8443321030</td>\n",
       "      <td>Xerox</td>\n",
       "      <td>Phaser 6510\\nColor LED Printer\\n\\r\\nPhaser 651...</td>\n",
       "      <td>NaN</td>\n",
       "      <td>NaN</td>\n",
       "      <td>\\n\\r\\nKey Features\\nStandard Functions\\nPrint ...</td>\n",
       "      <td>NaN</td>\n",
       "      <td>6510_N</td>\n",
       "      <td>NaN</td>\n",
       "    </tr>\n",
       "    <tr>\n",
       "      <th>903</th>\n",
       "      <td>8443321030</td>\n",
       "      <td>Xerox</td>\n",
       "      <td>Phaser 6022\\nColor LED Printer\\n\\r\\nPhaser 602...</td>\n",
       "      <td>NaN</td>\n",
       "      <td>NaN</td>\n",
       "      <td>\\n\\r\\nKey Features\\nStandard Functions\\nPrint ...</td>\n",
       "      <td>NaN</td>\n",
       "      <td>6022_NI</td>\n",
       "      <td>NaN</td>\n",
       "    </tr>\n",
       "    <tr>\n",
       "      <th>904</th>\n",
       "      <td>8443321010</td>\n",
       "      <td>Xerox</td>\n",
       "      <td>Phaser 3260\\nMonochrome Laser Printer\\n\\r\\nPha...</td>\n",
       "      <td>NaN</td>\n",
       "      <td>NaN</td>\n",
       "      <td>\\n\\r\\nKey Features\\nStandard Functions\\nPrint ...</td>\n",
       "      <td>NaN</td>\n",
       "      <td>3260_DNI</td>\n",
       "      <td>NaN</td>\n",
       "    </tr>\n",
       "    <tr>\n",
       "      <th>905</th>\n",
       "      <td>8443321030</td>\n",
       "      <td>Xerox</td>\n",
       "      <td>Phaser 3260\\nMonochrome Laser Printer\\n\\r\\nPha...</td>\n",
       "      <td>NaN</td>\n",
       "      <td>NaN</td>\n",
       "      <td>\\n\\r\\nKey Features\\nStandard Functions\\nPrint ...</td>\n",
       "      <td>NaN</td>\n",
       "      <td>3260_DI</td>\n",
       "      <td>NaN</td>\n",
       "    </tr>\n",
       "  </tbody>\n",
       "</table>\n",
       "</div>"
      ],
      "text/plain": [
       "     Classification CompanySource  \\\n",
       "896      8443321010         Xerox   \n",
       "897      8443321030         Xerox   \n",
       "898      8443321030         Xerox   \n",
       "899      8443321010         Xerox   \n",
       "900      8443321030         Xerox   \n",
       "901      8443321030         Xerox   \n",
       "902      8443321030         Xerox   \n",
       "903      8443321030         Xerox   \n",
       "904      8443321010         Xerox   \n",
       "905      8443321030         Xerox   \n",
       "\n",
       "                                           Description  GriCode  \\\n",
       "896  Phaser 3610\\nMonochrome Laser Printer\\n\\r\\nPha...      NaN   \n",
       "897  VersaLink C500\\nColor LED Printer\\n\\r\\nVersaLi...      NaN   \n",
       "898  VersaLink C500\\nColor LED Printer\\n\\r\\nVersaLi...      NaN   \n",
       "899  Phaser 3330\\nMonochrome Printer\\n\\r\\nPhaser 33...      NaN   \n",
       "900  Phaser 6510\\nColor LED Printer\\n\\r\\nPhaser 651...      NaN   \n",
       "901  Phaser 6510\\nColor LED Printer\\n\\r\\nPhaser 651...      NaN   \n",
       "902  Phaser 6510\\nColor LED Printer\\n\\r\\nPhaser 651...      NaN   \n",
       "903  Phaser 6022\\nColor LED Printer\\n\\r\\nPhaser 602...      NaN   \n",
       "904  Phaser 3260\\nMonochrome Laser Printer\\n\\r\\nPha...      NaN   \n",
       "905  Phaser 3260\\nMonochrome Laser Printer\\n\\r\\nPha...      NaN   \n",
       "\n",
       "     ImageAttachments                                       ProductSpecs  \\\n",
       "896               NaN  \\n\\r\\nKey Features\\nStandard Functions\\nBookle...   \n",
       "897               NaN  \\n\\r\\nKey Features\\nStandard Functions\\nPrint ...   \n",
       "898               NaN  \\n\\r\\nKey Features\\nStandard Functions\\nPrint ...   \n",
       "899               NaN  \\n\\r\\nKey Features\\nStandard Functions\\nPrint ...   \n",
       "900               NaN  \\n\\r\\nKey Features\\nStandard Functions\\nPrint ...   \n",
       "901               NaN  \\n\\r\\nKey Features\\nStandard Functions\\nPrint ...   \n",
       "902               NaN  \\n\\r\\nKey Features\\nStandard Functions\\nPrint ...   \n",
       "903               NaN  \\n\\r\\nKey Features\\nStandard Functions\\nPrint ...   \n",
       "904               NaN  \\n\\r\\nKey Features\\nStandard Functions\\nPrint ...   \n",
       "905               NaN  \\n\\r\\nKey Features\\nStandard Functions\\nPrint ...   \n",
       "\n",
       "     Rationale SKUNumber  SKUNumberCompanyDifferentFromExcel  \n",
       "896        NaN    3610_N                                 NaN  \n",
       "897        NaN   C500_DN                                 NaN  \n",
       "898        NaN    C500_N                                 NaN  \n",
       "899        NaN  3330_DNI                                 NaN  \n",
       "900        NaN  6510_DNI                                 NaN  \n",
       "901        NaN   6510_DN                                 NaN  \n",
       "902        NaN    6510_N                                 NaN  \n",
       "903        NaN   6022_NI                                 NaN  \n",
       "904        NaN  3260_DNI                                 NaN  \n",
       "905        NaN   3260_DI                                 NaN  "
      ]
     },
     "execution_count": 9,
     "metadata": {},
     "output_type": "execute_result"
    }
   ],
   "source": [
    "df_Xerox.tail(10)"
   ]
  },
  {
   "cell_type": "code",
   "execution_count": 10,
   "metadata": {},
   "outputs": [
    {
     "name": "stdout",
     "output_type": "stream",
     "text": [
      "<class 'pandas.core.frame.DataFrame'>\n",
      "RangeIndex: 906 entries, 0 to 905\n",
      "Data columns (total 9 columns):\n",
      "Classification                        906 non-null int64\n",
      "CompanySource                         906 non-null object\n",
      "Description                           906 non-null object\n",
      "GriCode                               0 non-null float64\n",
      "ImageAttachments                      0 non-null float64\n",
      "ProductSpecs                          906 non-null object\n",
      "Rationale                             0 non-null float64\n",
      "SKUNumber                             906 non-null object\n",
      "SKUNumberCompanyDifferentFromExcel    0 non-null float64\n",
      "dtypes: float64(4), int64(1), object(4)\n",
      "memory usage: 63.8+ KB\n"
     ]
    }
   ],
   "source": [
    "df_Xerox.info()"
   ]
  },
  {
   "cell_type": "code",
   "execution_count": 11,
   "metadata": {},
   "outputs": [
    {
     "data": {
      "text/plain": [
       "Index(['Classification', 'CompanySource', 'Description', 'GriCode',\n",
       "       'ImageAttachments', 'ProductSpecs', 'Rationale', 'SKUNumber',\n",
       "       'SKUNumberCompanyDifferentFromExcel'],\n",
       "      dtype='object')"
      ]
     },
     "execution_count": 11,
     "metadata": {},
     "output_type": "execute_result"
    }
   ],
   "source": [
    "df_Xerox.columns"
   ]
  },
  {
   "cell_type": "code",
   "execution_count": 12,
   "metadata": {},
   "outputs": [
    {
     "data": {
      "text/plain": [
       "(906, 9)"
      ]
     },
     "execution_count": 12,
     "metadata": {},
     "output_type": "execute_result"
    }
   ],
   "source": [
    "df_Xerox.shape"
   ]
  },
  {
   "cell_type": "markdown",
   "metadata": {},
   "source": [
    "### Concatenate product description and product specification "
   ]
  },
  {
   "cell_type": "code",
   "execution_count": 13,
   "metadata": {
    "collapsed": true
   },
   "outputs": [],
   "source": [
    "df_Xerox['Desc'] = df_Xerox['Description'] + df_Xerox['ProductSpecs']"
   ]
  },
  {
   "cell_type": "code",
   "execution_count": 14,
   "metadata": {},
   "outputs": [
    {
     "data": {
      "text/html": [
       "<div>\n",
       "<style>\n",
       "    .dataframe thead tr:only-child th {\n",
       "        text-align: right;\n",
       "    }\n",
       "\n",
       "    .dataframe thead th {\n",
       "        text-align: left;\n",
       "    }\n",
       "\n",
       "    .dataframe tbody tr th {\n",
       "        vertical-align: top;\n",
       "    }\n",
       "</style>\n",
       "<table border=\"1\" class=\"dataframe\">\n",
       "  <thead>\n",
       "    <tr style=\"text-align: right;\">\n",
       "      <th></th>\n",
       "      <th>Classification</th>\n",
       "      <th>CompanySource</th>\n",
       "      <th>Description</th>\n",
       "      <th>GriCode</th>\n",
       "      <th>ImageAttachments</th>\n",
       "      <th>ProductSpecs</th>\n",
       "      <th>Rationale</th>\n",
       "      <th>SKUNumber</th>\n",
       "      <th>SKUNumberCompanyDifferentFromExcel</th>\n",
       "      <th>Desc</th>\n",
       "    </tr>\n",
       "  </thead>\n",
       "  <tbody>\n",
       "    <tr>\n",
       "      <th>0</th>\n",
       "      <td>8443992550</td>\n",
       "      <td>Xerox</td>\n",
       "      <td>Phaser 7800 Professional Finisher (2,000-Sheet)</td>\n",
       "      <td>NaN</td>\n",
       "      <td>NaN</td>\n",
       "      <td>\\nCompatible Products\\nPhaser 7800\\nAvailabili...</td>\n",
       "      <td>NaN</td>\n",
       "      <td>097S04167</td>\n",
       "      <td>NaN</td>\n",
       "      <td>Phaser 7800 Professional Finisher (2,000-Sheet...</td>\n",
       "    </tr>\n",
       "    <tr>\n",
       "      <th>1</th>\n",
       "      <td>8443992550</td>\n",
       "      <td>Xerox</td>\n",
       "      <td>Phaser 5500/5550 Finisher (3,500-Sheet)</td>\n",
       "      <td>NaN</td>\n",
       "      <td>NaN</td>\n",
       "      <td>\\nCompatible Products\\nPhaser 5550\\n,\\nPhaser ...</td>\n",
       "      <td>NaN</td>\n",
       "      <td>097S03282</td>\n",
       "      <td>NaN</td>\n",
       "      <td>Phaser 5500/5550 Finisher (3,500-Sheet)\\nCompa...</td>\n",
       "    </tr>\n",
       "    <tr>\n",
       "      <th>2</th>\n",
       "      <td>8443992550</td>\n",
       "      <td>Xerox</td>\n",
       "      <td>Phaser 5500/5550 Stacker (3,500-Sheet)</td>\n",
       "      <td>NaN</td>\n",
       "      <td>NaN</td>\n",
       "      <td>\\nCompatible Products\\nPhaser 5550\\n,\\nPhaser ...</td>\n",
       "      <td>NaN</td>\n",
       "      <td>097S03719</td>\n",
       "      <td>NaN</td>\n",
       "      <td>Phaser 5500/5550 Stacker (3,500-Sheet)\\nCompat...</td>\n",
       "    </tr>\n",
       "    <tr>\n",
       "      <th>3</th>\n",
       "      <td>8443992550</td>\n",
       "      <td>Xerox</td>\n",
       "      <td>VersaLink C7000 Three Paper Tray Module (520-s...</td>\n",
       "      <td>NaN</td>\n",
       "      <td>NaN</td>\n",
       "      <td>\\nCompatible Products\\nVersaLink C7000\\nAvaila...</td>\n",
       "      <td>NaN</td>\n",
       "      <td>097S04908</td>\n",
       "      <td>NaN</td>\n",
       "      <td>VersaLink C7000 Three Paper Tray Module (520-s...</td>\n",
       "    </tr>\n",
       "    <tr>\n",
       "      <th>4</th>\n",
       "      <td>8443992050</td>\n",
       "      <td>Xerox</td>\n",
       "      <td>Phaser 7800 High Capacity Tandem Tray (2,520-S...</td>\n",
       "      <td>NaN</td>\n",
       "      <td>NaN</td>\n",
       "      <td>\\nCompatible Products\\nPhaser 7800\\nAvailabili...</td>\n",
       "      <td>NaN</td>\n",
       "      <td>097S04160</td>\n",
       "      <td>NaN</td>\n",
       "      <td>Phaser 7800 High Capacity Tandem Tray (2,520-S...</td>\n",
       "    </tr>\n",
       "  </tbody>\n",
       "</table>\n",
       "</div>"
      ],
      "text/plain": [
       "   Classification CompanySource  \\\n",
       "0      8443992550         Xerox   \n",
       "1      8443992550         Xerox   \n",
       "2      8443992550         Xerox   \n",
       "3      8443992550         Xerox   \n",
       "4      8443992050         Xerox   \n",
       "\n",
       "                                         Description  GriCode  \\\n",
       "0    Phaser 7800 Professional Finisher (2,000-Sheet)      NaN   \n",
       "1            Phaser 5500/5550 Finisher (3,500-Sheet)      NaN   \n",
       "2             Phaser 5500/5550 Stacker (3,500-Sheet)      NaN   \n",
       "3  VersaLink C7000 Three Paper Tray Module (520-s...      NaN   \n",
       "4  Phaser 7800 High Capacity Tandem Tray (2,520-S...      NaN   \n",
       "\n",
       "   ImageAttachments                                       ProductSpecs  \\\n",
       "0               NaN  \\nCompatible Products\\nPhaser 7800\\nAvailabili...   \n",
       "1               NaN  \\nCompatible Products\\nPhaser 5550\\n,\\nPhaser ...   \n",
       "2               NaN  \\nCompatible Products\\nPhaser 5550\\n,\\nPhaser ...   \n",
       "3               NaN  \\nCompatible Products\\nVersaLink C7000\\nAvaila...   \n",
       "4               NaN  \\nCompatible Products\\nPhaser 7800\\nAvailabili...   \n",
       "\n",
       "   Rationale  SKUNumber  SKUNumberCompanyDifferentFromExcel  \\\n",
       "0        NaN  097S04167                                 NaN   \n",
       "1        NaN  097S03282                                 NaN   \n",
       "2        NaN  097S03719                                 NaN   \n",
       "3        NaN  097S04908                                 NaN   \n",
       "4        NaN  097S04160                                 NaN   \n",
       "\n",
       "                                                Desc  \n",
       "0  Phaser 7800 Professional Finisher (2,000-Sheet...  \n",
       "1  Phaser 5500/5550 Finisher (3,500-Sheet)\\nCompa...  \n",
       "2  Phaser 5500/5550 Stacker (3,500-Sheet)\\nCompat...  \n",
       "3  VersaLink C7000 Three Paper Tray Module (520-s...  \n",
       "4  Phaser 7800 High Capacity Tandem Tray (2,520-S...  "
      ]
     },
     "execution_count": 14,
     "metadata": {},
     "output_type": "execute_result"
    }
   ],
   "source": [
    "df_Xerox.head()"
   ]
  },
  {
   "cell_type": "code",
   "execution_count": 15,
   "metadata": {},
   "outputs": [
    {
     "data": {
      "text/plain": [
       "['Phaser 7800 Professional Finisher (2,000-Sheet)']"
      ]
     },
     "execution_count": 15,
     "metadata": {},
     "output_type": "execute_result"
    }
   ],
   "source": [
    "list(df_Xerox['Description'][:1])"
   ]
  },
  {
   "cell_type": "code",
   "execution_count": 16,
   "metadata": {},
   "outputs": [
    {
     "data": {
      "text/plain": [
       "['\\nCompatible Products\\nPhaser 7800\\nAvailability\\nShips  1-3  days\\nCapacity/Yield\\n1,500 sheets\\nShipping Dimensions (LxWxH)\\n30.1\"x45.7\"x48.9\"\\nShipping Weight\\n253 lb\\nUPC Code\\n095205765397\\n\\r\\nThis finisher/stapler/booklet maker for your Phaser 7800 has a 1,500-sheet main stacker and 500-sheet top tray. It offers a 50-sheet multiposition stapler, hole punch, saddle-stitch booklet maker, and V-fold.\\n']"
      ]
     },
     "execution_count": 16,
     "metadata": {},
     "output_type": "execute_result"
    }
   ],
   "source": [
    "list(df_Xerox['ProductSpecs'][:1])"
   ]
  },
  {
   "cell_type": "code",
   "execution_count": 17,
   "metadata": {},
   "outputs": [
    {
     "data": {
      "text/plain": [
       "['Phaser 7800 Professional Finisher (2,000-Sheet)\\nCompatible Products\\nPhaser 7800\\nAvailability\\nShips  1-3  days\\nCapacity/Yield\\n1,500 sheets\\nShipping Dimensions (LxWxH)\\n30.1\"x45.7\"x48.9\"\\nShipping Weight\\n253 lb\\nUPC Code\\n095205765397\\n\\r\\nThis finisher/stapler/booklet maker for your Phaser 7800 has a 1,500-sheet main stacker and 500-sheet top tray. It offers a 50-sheet multiposition stapler, hole punch, saddle-stitch booklet maker, and V-fold.\\n']"
      ]
     },
     "execution_count": 17,
     "metadata": {},
     "output_type": "execute_result"
    }
   ],
   "source": [
    "list(df_Xerox['Desc'][:1])"
   ]
  },
  {
   "cell_type": "code",
   "execution_count": 23,
   "metadata": {},
   "outputs": [
    {
     "data": {
      "text/plain": [
       "array([8443992550, 8443992050, 8544422000, 8471704065, 9027304040,\n",
       "       4911998000, 7320205020, 9403200090, 8523510000, 8471706000,\n",
       "       8523520090, 9403100040, 8443992510, 3215111000, 8471609050,\n",
       "       8443992010, 8471801000, 8471900000, 8544429090, 3215191000,\n",
       "       8531809051, 8421398015, 3926909996, 8443310000, 8443321030,\n",
       "       8443321010], dtype=int64)"
      ]
     },
     "execution_count": 23,
     "metadata": {},
     "output_type": "execute_result"
    }
   ],
   "source": [
    "df_Xerox['Classification'].unique()"
   ]
  },
  {
   "cell_type": "code",
   "execution_count": 24,
   "metadata": {},
   "outputs": [
    {
     "data": {
      "text/html": [
       "<div>\n",
       "<style>\n",
       "    .dataframe thead tr:only-child th {\n",
       "        text-align: right;\n",
       "    }\n",
       "\n",
       "    .dataframe thead th {\n",
       "        text-align: left;\n",
       "    }\n",
       "\n",
       "    .dataframe tbody tr th {\n",
       "        vertical-align: top;\n",
       "    }\n",
       "</style>\n",
       "<table border=\"1\" class=\"dataframe\">\n",
       "  <thead>\n",
       "    <tr style=\"text-align: right;\">\n",
       "      <th></th>\n",
       "      <th>Desc</th>\n",
       "      <th>Classification</th>\n",
       "    </tr>\n",
       "  </thead>\n",
       "  <tbody>\n",
       "    <tr>\n",
       "      <th>0</th>\n",
       "      <td>Phaser 7800 Professional Finisher (2,000-Sheet...</td>\n",
       "      <td>8443992550</td>\n",
       "    </tr>\n",
       "    <tr>\n",
       "      <th>1</th>\n",
       "      <td>Phaser 5500/5550 Finisher (3,500-Sheet)\\nCompa...</td>\n",
       "      <td>8443992550</td>\n",
       "    </tr>\n",
       "    <tr>\n",
       "      <th>2</th>\n",
       "      <td>Phaser 5500/5550 Stacker (3,500-Sheet)\\nCompat...</td>\n",
       "      <td>8443992550</td>\n",
       "    </tr>\n",
       "    <tr>\n",
       "      <th>3</th>\n",
       "      <td>VersaLink C7000 Three Paper Tray Module (520-s...</td>\n",
       "      <td>8443992550</td>\n",
       "    </tr>\n",
       "    <tr>\n",
       "      <th>4</th>\n",
       "      <td>Phaser 7800 High Capacity Tandem Tray (2,520-S...</td>\n",
       "      <td>8443992050</td>\n",
       "    </tr>\n",
       "    <tr>\n",
       "      <th>5</th>\n",
       "      <td>ColorQube 8700/8900 High Capacity Sheet Feeder...</td>\n",
       "      <td>8443992550</td>\n",
       "    </tr>\n",
       "    <tr>\n",
       "      <th>6</th>\n",
       "      <td>Phaser 7500 High Capacity Sheet Feeder (1,500-...</td>\n",
       "      <td>8443992050</td>\n",
       "    </tr>\n",
       "    <tr>\n",
       "      <th>7</th>\n",
       "      <td>Phaser 7800 Office Finisher LX (2,000-Sheet)\\n...</td>\n",
       "      <td>8443992050</td>\n",
       "    </tr>\n",
       "    <tr>\n",
       "      <th>8</th>\n",
       "      <td>WorkCentre 4250/4260/4265 High Capacity Sheet ...</td>\n",
       "      <td>8443992550</td>\n",
       "    </tr>\n",
       "    <tr>\n",
       "      <th>9</th>\n",
       "      <td>Phaser 7800 3-Tray Module (1,560-Sheet)\\nCompa...</td>\n",
       "      <td>8443992050</td>\n",
       "    </tr>\n",
       "    <tr>\n",
       "      <th>10</th>\n",
       "      <td>Phaser 6700 Finisher (1,000-Sheet)\\nCompatible...</td>\n",
       "      <td>8443992550</td>\n",
       "    </tr>\n",
       "    <tr>\n",
       "      <th>11</th>\n",
       "      <td>Phaser 5500/5550 Sheet Feeder (2,000-Sheet)\\nC...</td>\n",
       "      <td>8443992550</td>\n",
       "    </tr>\n",
       "    <tr>\n",
       "      <th>12</th>\n",
       "      <td>VersaLink C7000 Integrated Office Finisher\\nCo...</td>\n",
       "      <td>8443992050</td>\n",
       "    </tr>\n",
       "    <tr>\n",
       "      <th>13</th>\n",
       "      <td>Phaser 7800 Booklet Maker for Finisher\\nCompat...</td>\n",
       "      <td>8443992550</td>\n",
       "    </tr>\n",
       "    <tr>\n",
       "      <th>14</th>\n",
       "      <td>Phaser 6700 Sheet Feeder (1,100-Sheet)\\nCompat...</td>\n",
       "      <td>8443992550</td>\n",
       "    </tr>\n",
       "    <tr>\n",
       "      <th>15</th>\n",
       "      <td>WorkCentre 4265 Finisher (500-Sheet)\\nCompatib...</td>\n",
       "      <td>8443992550</td>\n",
       "    </tr>\n",
       "    <tr>\n",
       "      <th>16</th>\n",
       "      <td>WorkCentre 4265 Universal Fax Kit\\nCompatible ...</td>\n",
       "      <td>8544422000</td>\n",
       "    </tr>\n",
       "    <tr>\n",
       "      <th>17</th>\n",
       "      <td>Phaser 5500/5550 Sheet Feeder (1,000-Sheet)\\nC...</td>\n",
       "      <td>8443992050</td>\n",
       "    </tr>\n",
       "    <tr>\n",
       "      <th>18</th>\n",
       "      <td>Phaser 4600/4620/4622 High Capacity Sheet Feed...</td>\n",
       "      <td>8443992550</td>\n",
       "    </tr>\n",
       "    <tr>\n",
       "      <th>19</th>\n",
       "      <td>Phaser 7400 Color Imaging Unit Bundle\\nCompati...</td>\n",
       "      <td>8443992050</td>\n",
       "    </tr>\n",
       "    <tr>\n",
       "      <th>20</th>\n",
       "      <td>ColorQube 8700/8900 Finisher (650-Sheet)\\nComp...</td>\n",
       "      <td>8443992550</td>\n",
       "    </tr>\n",
       "    <tr>\n",
       "      <th>21</th>\n",
       "      <td>VersaLink B600/B605/B610/B615/C500/C505/C600/C...</td>\n",
       "      <td>8443992550</td>\n",
       "    </tr>\n",
       "    <tr>\n",
       "      <th>22</th>\n",
       "      <td>VersaLink C7000 Single Paper Tray with Stand (...</td>\n",
       "      <td>8443992550</td>\n",
       "    </tr>\n",
       "    <tr>\n",
       "      <th>23</th>\n",
       "      <td>WorkCentre 4250/4260 Parallel Fax Kit\\nCompati...</td>\n",
       "      <td>8443992550</td>\n",
       "    </tr>\n",
       "    <tr>\n",
       "      <th>24</th>\n",
       "      <td>WorkCentre 4150/4250/4260 Finisher (500-Sheet)...</td>\n",
       "      <td>8443992550</td>\n",
       "    </tr>\n",
       "    <tr>\n",
       "      <th>25</th>\n",
       "      <td>Phaser 5500/5550 Maintenance Kit (110V)\\nCompa...</td>\n",
       "      <td>8443992050</td>\n",
       "    </tr>\n",
       "    <tr>\n",
       "      <th>26</th>\n",
       "      <td>Phaser 7500 High Capacity Magenta Toner Cartri...</td>\n",
       "      <td>8443992550</td>\n",
       "    </tr>\n",
       "    <tr>\n",
       "      <th>27</th>\n",
       "      <td>Phaser 7500 High Capacity Yellow Toner Cartrid...</td>\n",
       "      <td>8443992550</td>\n",
       "    </tr>\n",
       "    <tr>\n",
       "      <th>28</th>\n",
       "      <td>Phaser 7500 High Capacity Cyan Toner Cartridge...</td>\n",
       "      <td>8443992550</td>\n",
       "    </tr>\n",
       "    <tr>\n",
       "      <th>29</th>\n",
       "      <td>WorkCentre 4265 Extra High Capacity Black Tone...</td>\n",
       "      <td>8443992550</td>\n",
       "    </tr>\n",
       "    <tr>\n",
       "      <th>...</th>\n",
       "      <td>...</td>\n",
       "      <td>...</td>\n",
       "    </tr>\n",
       "    <tr>\n",
       "      <th>876</th>\n",
       "      <td>Phaser 7500\\nColor Tabloid LED Printer\\n\\r\\nPh...</td>\n",
       "      <td>8443321030</td>\n",
       "    </tr>\n",
       "    <tr>\n",
       "      <th>877</th>\n",
       "      <td>Phaser 7500\\nColor Tabloid LED Printer\\n\\r\\nPh...</td>\n",
       "      <td>8443321030</td>\n",
       "    </tr>\n",
       "    <tr>\n",
       "      <th>878</th>\n",
       "      <td>Phaser 7500\\nColor Tabloid LED Printer\\n\\r\\nPh...</td>\n",
       "      <td>8443321030</td>\n",
       "    </tr>\n",
       "    <tr>\n",
       "      <th>879</th>\n",
       "      <td>Phaser 7500\\nColor Tabloid LED Printer\\n\\r\\nPh...</td>\n",
       "      <td>8443321030</td>\n",
       "    </tr>\n",
       "    <tr>\n",
       "      <th>880</th>\n",
       "      <td>Phaser 5550\\nMonochrome Tabloid Laser Printer\\...</td>\n",
       "      <td>8443321010</td>\n",
       "    </tr>\n",
       "    <tr>\n",
       "      <th>881</th>\n",
       "      <td>Phaser 5550\\nMonochrome Tabloid Laser Printer\\...</td>\n",
       "      <td>8443321010</td>\n",
       "    </tr>\n",
       "    <tr>\n",
       "      <th>882</th>\n",
       "      <td>Phaser 5550\\nMonochrome Tabloid Laser Printer\\...</td>\n",
       "      <td>8443321010</td>\n",
       "    </tr>\n",
       "    <tr>\n",
       "      <th>883</th>\n",
       "      <td>VersaLink C600\\nColor LED Printer\\n\\r\\nVersaLi...</td>\n",
       "      <td>8443321030</td>\n",
       "    </tr>\n",
       "    <tr>\n",
       "      <th>884</th>\n",
       "      <td>VersaLink C600\\nColor LED Printer\\n\\r\\nVersaLi...</td>\n",
       "      <td>8443321030</td>\n",
       "    </tr>\n",
       "    <tr>\n",
       "      <th>885</th>\n",
       "      <td>VersaLink C600\\nColor LED Printer\\n\\r\\nVersaLi...</td>\n",
       "      <td>8443321030</td>\n",
       "    </tr>\n",
       "    <tr>\n",
       "      <th>886</th>\n",
       "      <td>VersaLink C600\\nColor LED Printer\\n\\r\\nVersaLi...</td>\n",
       "      <td>8443321030</td>\n",
       "    </tr>\n",
       "    <tr>\n",
       "      <th>887</th>\n",
       "      <td>VersaLink C600\\nColor LED Printer\\n\\r\\nVersaLi...</td>\n",
       "      <td>8443321030</td>\n",
       "    </tr>\n",
       "    <tr>\n",
       "      <th>888</th>\n",
       "      <td>VersaLink C600\\nColor LED Printer\\n\\r\\nVersaLi...</td>\n",
       "      <td>8443321030</td>\n",
       "    </tr>\n",
       "    <tr>\n",
       "      <th>889</th>\n",
       "      <td>VersaLink B600/B610\\nMonochrome LED Printer\\n\\...</td>\n",
       "      <td>8443321030</td>\n",
       "    </tr>\n",
       "    <tr>\n",
       "      <th>890</th>\n",
       "      <td>VersaLink B600/B610\\nMonochrome LED Printer\\n\\...</td>\n",
       "      <td>8443321030</td>\n",
       "    </tr>\n",
       "    <tr>\n",
       "      <th>891</th>\n",
       "      <td>VersaLink B400\\nMonochrome Laser Printer\\n\\r\\n...</td>\n",
       "      <td>8443321010</td>\n",
       "    </tr>\n",
       "    <tr>\n",
       "      <th>892</th>\n",
       "      <td>VersaLink B400\\nMonochrome Laser Printer\\n\\r\\n...</td>\n",
       "      <td>8443321010</td>\n",
       "    </tr>\n",
       "    <tr>\n",
       "      <th>893</th>\n",
       "      <td>VersaLink C400\\nColor Laser Printer\\n\\r\\nVersa...</td>\n",
       "      <td>8443321010</td>\n",
       "    </tr>\n",
       "    <tr>\n",
       "      <th>894</th>\n",
       "      <td>VersaLink C400\\nColor Laser Printer\\n\\r\\nVersa...</td>\n",
       "      <td>8443321010</td>\n",
       "    </tr>\n",
       "    <tr>\n",
       "      <th>895</th>\n",
       "      <td>Phaser 3610\\nMonochrome Laser Printer\\n\\r\\nPha...</td>\n",
       "      <td>8443321010</td>\n",
       "    </tr>\n",
       "    <tr>\n",
       "      <th>896</th>\n",
       "      <td>Phaser 3610\\nMonochrome Laser Printer\\n\\r\\nPha...</td>\n",
       "      <td>8443321010</td>\n",
       "    </tr>\n",
       "    <tr>\n",
       "      <th>897</th>\n",
       "      <td>VersaLink C500\\nColor LED Printer\\n\\r\\nVersaLi...</td>\n",
       "      <td>8443321030</td>\n",
       "    </tr>\n",
       "    <tr>\n",
       "      <th>898</th>\n",
       "      <td>VersaLink C500\\nColor LED Printer\\n\\r\\nVersaLi...</td>\n",
       "      <td>8443321030</td>\n",
       "    </tr>\n",
       "    <tr>\n",
       "      <th>899</th>\n",
       "      <td>Phaser 3330\\nMonochrome Printer\\n\\r\\nPhaser 33...</td>\n",
       "      <td>8443321010</td>\n",
       "    </tr>\n",
       "    <tr>\n",
       "      <th>900</th>\n",
       "      <td>Phaser 6510\\nColor LED Printer\\n\\r\\nPhaser 651...</td>\n",
       "      <td>8443321030</td>\n",
       "    </tr>\n",
       "    <tr>\n",
       "      <th>901</th>\n",
       "      <td>Phaser 6510\\nColor LED Printer\\n\\r\\nPhaser 651...</td>\n",
       "      <td>8443321030</td>\n",
       "    </tr>\n",
       "    <tr>\n",
       "      <th>902</th>\n",
       "      <td>Phaser 6510\\nColor LED Printer\\n\\r\\nPhaser 651...</td>\n",
       "      <td>8443321030</td>\n",
       "    </tr>\n",
       "    <tr>\n",
       "      <th>903</th>\n",
       "      <td>Phaser 6022\\nColor LED Printer\\n\\r\\nPhaser 602...</td>\n",
       "      <td>8443321030</td>\n",
       "    </tr>\n",
       "    <tr>\n",
       "      <th>904</th>\n",
       "      <td>Phaser 3260\\nMonochrome Laser Printer\\n\\r\\nPha...</td>\n",
       "      <td>8443321010</td>\n",
       "    </tr>\n",
       "    <tr>\n",
       "      <th>905</th>\n",
       "      <td>Phaser 3260\\nMonochrome Laser Printer\\n\\r\\nPha...</td>\n",
       "      <td>8443321030</td>\n",
       "    </tr>\n",
       "  </tbody>\n",
       "</table>\n",
       "<p>906 rows × 2 columns</p>\n",
       "</div>"
      ],
      "text/plain": [
       "                                                  Desc  Classification\n",
       "0    Phaser 7800 Professional Finisher (2,000-Sheet...      8443992550\n",
       "1    Phaser 5500/5550 Finisher (3,500-Sheet)\\nCompa...      8443992550\n",
       "2    Phaser 5500/5550 Stacker (3,500-Sheet)\\nCompat...      8443992550\n",
       "3    VersaLink C7000 Three Paper Tray Module (520-s...      8443992550\n",
       "4    Phaser 7800 High Capacity Tandem Tray (2,520-S...      8443992050\n",
       "5    ColorQube 8700/8900 High Capacity Sheet Feeder...      8443992550\n",
       "6    Phaser 7500 High Capacity Sheet Feeder (1,500-...      8443992050\n",
       "7    Phaser 7800 Office Finisher LX (2,000-Sheet)\\n...      8443992050\n",
       "8    WorkCentre 4250/4260/4265 High Capacity Sheet ...      8443992550\n",
       "9    Phaser 7800 3-Tray Module (1,560-Sheet)\\nCompa...      8443992050\n",
       "10   Phaser 6700 Finisher (1,000-Sheet)\\nCompatible...      8443992550\n",
       "11   Phaser 5500/5550 Sheet Feeder (2,000-Sheet)\\nC...      8443992550\n",
       "12   VersaLink C7000 Integrated Office Finisher\\nCo...      8443992050\n",
       "13   Phaser 7800 Booklet Maker for Finisher\\nCompat...      8443992550\n",
       "14   Phaser 6700 Sheet Feeder (1,100-Sheet)\\nCompat...      8443992550\n",
       "15   WorkCentre 4265 Finisher (500-Sheet)\\nCompatib...      8443992550\n",
       "16   WorkCentre 4265 Universal Fax Kit\\nCompatible ...      8544422000\n",
       "17   Phaser 5500/5550 Sheet Feeder (1,000-Sheet)\\nC...      8443992050\n",
       "18   Phaser 4600/4620/4622 High Capacity Sheet Feed...      8443992550\n",
       "19   Phaser 7400 Color Imaging Unit Bundle\\nCompati...      8443992050\n",
       "20   ColorQube 8700/8900 Finisher (650-Sheet)\\nComp...      8443992550\n",
       "21   VersaLink B600/B605/B610/B615/C500/C505/C600/C...      8443992550\n",
       "22   VersaLink C7000 Single Paper Tray with Stand (...      8443992550\n",
       "23   WorkCentre 4250/4260 Parallel Fax Kit\\nCompati...      8443992550\n",
       "24   WorkCentre 4150/4250/4260 Finisher (500-Sheet)...      8443992550\n",
       "25   Phaser 5500/5550 Maintenance Kit (110V)\\nCompa...      8443992050\n",
       "26   Phaser 7500 High Capacity Magenta Toner Cartri...      8443992550\n",
       "27   Phaser 7500 High Capacity Yellow Toner Cartrid...      8443992550\n",
       "28   Phaser 7500 High Capacity Cyan Toner Cartridge...      8443992550\n",
       "29   WorkCentre 4265 Extra High Capacity Black Tone...      8443992550\n",
       "..                                                 ...             ...\n",
       "876  Phaser 7500\\nColor Tabloid LED Printer\\n\\r\\nPh...      8443321030\n",
       "877  Phaser 7500\\nColor Tabloid LED Printer\\n\\r\\nPh...      8443321030\n",
       "878  Phaser 7500\\nColor Tabloid LED Printer\\n\\r\\nPh...      8443321030\n",
       "879  Phaser 7500\\nColor Tabloid LED Printer\\n\\r\\nPh...      8443321030\n",
       "880  Phaser 5550\\nMonochrome Tabloid Laser Printer\\...      8443321010\n",
       "881  Phaser 5550\\nMonochrome Tabloid Laser Printer\\...      8443321010\n",
       "882  Phaser 5550\\nMonochrome Tabloid Laser Printer\\...      8443321010\n",
       "883  VersaLink C600\\nColor LED Printer\\n\\r\\nVersaLi...      8443321030\n",
       "884  VersaLink C600\\nColor LED Printer\\n\\r\\nVersaLi...      8443321030\n",
       "885  VersaLink C600\\nColor LED Printer\\n\\r\\nVersaLi...      8443321030\n",
       "886  VersaLink C600\\nColor LED Printer\\n\\r\\nVersaLi...      8443321030\n",
       "887  VersaLink C600\\nColor LED Printer\\n\\r\\nVersaLi...      8443321030\n",
       "888  VersaLink C600\\nColor LED Printer\\n\\r\\nVersaLi...      8443321030\n",
       "889  VersaLink B600/B610\\nMonochrome LED Printer\\n\\...      8443321030\n",
       "890  VersaLink B600/B610\\nMonochrome LED Printer\\n\\...      8443321030\n",
       "891  VersaLink B400\\nMonochrome Laser Printer\\n\\r\\n...      8443321010\n",
       "892  VersaLink B400\\nMonochrome Laser Printer\\n\\r\\n...      8443321010\n",
       "893  VersaLink C400\\nColor Laser Printer\\n\\r\\nVersa...      8443321010\n",
       "894  VersaLink C400\\nColor Laser Printer\\n\\r\\nVersa...      8443321010\n",
       "895  Phaser 3610\\nMonochrome Laser Printer\\n\\r\\nPha...      8443321010\n",
       "896  Phaser 3610\\nMonochrome Laser Printer\\n\\r\\nPha...      8443321010\n",
       "897  VersaLink C500\\nColor LED Printer\\n\\r\\nVersaLi...      8443321030\n",
       "898  VersaLink C500\\nColor LED Printer\\n\\r\\nVersaLi...      8443321030\n",
       "899  Phaser 3330\\nMonochrome Printer\\n\\r\\nPhaser 33...      8443321010\n",
       "900  Phaser 6510\\nColor LED Printer\\n\\r\\nPhaser 651...      8443321030\n",
       "901  Phaser 6510\\nColor LED Printer\\n\\r\\nPhaser 651...      8443321030\n",
       "902  Phaser 6510\\nColor LED Printer\\n\\r\\nPhaser 651...      8443321030\n",
       "903  Phaser 6022\\nColor LED Printer\\n\\r\\nPhaser 602...      8443321030\n",
       "904  Phaser 3260\\nMonochrome Laser Printer\\n\\r\\nPha...      8443321010\n",
       "905  Phaser 3260\\nMonochrome Laser Printer\\n\\r\\nPha...      8443321030\n",
       "\n",
       "[906 rows x 2 columns]"
      ]
     },
     "execution_count": 24,
     "metadata": {},
     "output_type": "execute_result"
    }
   ],
   "source": [
    "df_Xerox[['Desc','Classification']]"
   ]
  },
  {
   "cell_type": "code",
   "execution_count": 33,
   "metadata": {},
   "outputs": [
    {
     "data": {
      "text/plain": [
       "array([8443, 8544, 8471, 9027, 4911, 7320, 9403, 8523, 3215, 8531, 8421,\n",
       "       3926], dtype=int64)"
      ]
     },
     "execution_count": 33,
     "metadata": {},
     "output_type": "execute_result"
    }
   ],
   "source": [
    "(df_Xerox['Classification'] // 1000000).unique()\n"
   ]
  },
  {
   "cell_type": "code",
   "execution_count": null,
   "metadata": {
    "collapsed": true
   },
   "outputs": [],
   "source": []
  },
  {
   "cell_type": "code",
   "execution_count": 35,
   "metadata": {},
   "outputs": [],
   "source": [
    "df_Xerox['Classi'] = df_Xerox['Classification'] // 1000000"
   ]
  },
  {
   "cell_type": "code",
   "execution_count": 37,
   "metadata": {},
   "outputs": [
    {
     "data": {
      "text/html": [
       "<div>\n",
       "<style>\n",
       "    .dataframe thead tr:only-child th {\n",
       "        text-align: right;\n",
       "    }\n",
       "\n",
       "    .dataframe thead th {\n",
       "        text-align: left;\n",
       "    }\n",
       "\n",
       "    .dataframe tbody tr th {\n",
       "        vertical-align: top;\n",
       "    }\n",
       "</style>\n",
       "<table border=\"1\" class=\"dataframe\">\n",
       "  <thead>\n",
       "    <tr style=\"text-align: right;\">\n",
       "      <th></th>\n",
       "      <th>Classification</th>\n",
       "      <th>CompanySource</th>\n",
       "      <th>Description</th>\n",
       "      <th>GriCode</th>\n",
       "      <th>ImageAttachments</th>\n",
       "      <th>ProductSpecs</th>\n",
       "      <th>Rationale</th>\n",
       "      <th>SKUNumber</th>\n",
       "      <th>SKUNumberCompanyDifferentFromExcel</th>\n",
       "      <th>Desc</th>\n",
       "      <th>Classi</th>\n",
       "    </tr>\n",
       "  </thead>\n",
       "  <tbody>\n",
       "    <tr>\n",
       "      <th>0</th>\n",
       "      <td>8443992550</td>\n",
       "      <td>Xerox</td>\n",
       "      <td>Phaser 7800 Professional Finisher (2,000-Sheet)</td>\n",
       "      <td>NaN</td>\n",
       "      <td>NaN</td>\n",
       "      <td>\\nCompatible Products\\nPhaser 7800\\nAvailabili...</td>\n",
       "      <td>NaN</td>\n",
       "      <td>097S04167</td>\n",
       "      <td>NaN</td>\n",
       "      <td>Phaser 7800 Professional Finisher (2,000-Sheet...</td>\n",
       "      <td>8443</td>\n",
       "    </tr>\n",
       "    <tr>\n",
       "      <th>1</th>\n",
       "      <td>8443992550</td>\n",
       "      <td>Xerox</td>\n",
       "      <td>Phaser 5500/5550 Finisher (3,500-Sheet)</td>\n",
       "      <td>NaN</td>\n",
       "      <td>NaN</td>\n",
       "      <td>\\nCompatible Products\\nPhaser 5550\\n,\\nPhaser ...</td>\n",
       "      <td>NaN</td>\n",
       "      <td>097S03282</td>\n",
       "      <td>NaN</td>\n",
       "      <td>Phaser 5500/5550 Finisher (3,500-Sheet)\\nCompa...</td>\n",
       "      <td>8443</td>\n",
       "    </tr>\n",
       "    <tr>\n",
       "      <th>2</th>\n",
       "      <td>8443992550</td>\n",
       "      <td>Xerox</td>\n",
       "      <td>Phaser 5500/5550 Stacker (3,500-Sheet)</td>\n",
       "      <td>NaN</td>\n",
       "      <td>NaN</td>\n",
       "      <td>\\nCompatible Products\\nPhaser 5550\\n,\\nPhaser ...</td>\n",
       "      <td>NaN</td>\n",
       "      <td>097S03719</td>\n",
       "      <td>NaN</td>\n",
       "      <td>Phaser 5500/5550 Stacker (3,500-Sheet)\\nCompat...</td>\n",
       "      <td>8443</td>\n",
       "    </tr>\n",
       "  </tbody>\n",
       "</table>\n",
       "</div>"
      ],
      "text/plain": [
       "   Classification CompanySource  \\\n",
       "0      8443992550         Xerox   \n",
       "1      8443992550         Xerox   \n",
       "2      8443992550         Xerox   \n",
       "\n",
       "                                       Description  GriCode  ImageAttachments  \\\n",
       "0  Phaser 7800 Professional Finisher (2,000-Sheet)      NaN               NaN   \n",
       "1          Phaser 5500/5550 Finisher (3,500-Sheet)      NaN               NaN   \n",
       "2           Phaser 5500/5550 Stacker (3,500-Sheet)      NaN               NaN   \n",
       "\n",
       "                                        ProductSpecs  Rationale  SKUNumber  \\\n",
       "0  \\nCompatible Products\\nPhaser 7800\\nAvailabili...        NaN  097S04167   \n",
       "1  \\nCompatible Products\\nPhaser 5550\\n,\\nPhaser ...        NaN  097S03282   \n",
       "2  \\nCompatible Products\\nPhaser 5550\\n,\\nPhaser ...        NaN  097S03719   \n",
       "\n",
       "   SKUNumberCompanyDifferentFromExcel  \\\n",
       "0                                 NaN   \n",
       "1                                 NaN   \n",
       "2                                 NaN   \n",
       "\n",
       "                                                Desc  Classi  \n",
       "0  Phaser 7800 Professional Finisher (2,000-Sheet...    8443  \n",
       "1  Phaser 5500/5550 Finisher (3,500-Sheet)\\nCompa...    8443  \n",
       "2  Phaser 5500/5550 Stacker (3,500-Sheet)\\nCompat...    8443  "
      ]
     },
     "execution_count": 37,
     "metadata": {},
     "output_type": "execute_result"
    }
   ],
   "source": [
    "df_Xerox.head(3)"
   ]
  },
  {
   "cell_type": "code",
   "execution_count": 41,
   "metadata": {},
   "outputs": [
    {
     "data": {
      "text/plain": [
       "(906, 2)"
      ]
     },
     "execution_count": 41,
     "metadata": {},
     "output_type": "execute_result"
    }
   ],
   "source": [
    "df.shape"
   ]
  },
  {
   "cell_type": "markdown",
   "metadata": {},
   "source": [
    "#### Split the dataset into X and y"
   ]
  },
  {
   "cell_type": "code",
   "execution_count": 42,
   "metadata": {
    "collapsed": true
   },
   "outputs": [],
   "source": [
    "X = df_Xerox['Desc']\n",
    "y = df_Xerox['Classi']"
   ]
  },
  {
   "cell_type": "code",
   "execution_count": 43,
   "metadata": {},
   "outputs": [
    {
     "data": {
      "text/plain": [
       "(906,)"
      ]
     },
     "execution_count": 43,
     "metadata": {},
     "output_type": "execute_result"
    }
   ],
   "source": [
    "X.shape"
   ]
  },
  {
   "cell_type": "code",
   "execution_count": 44,
   "metadata": {},
   "outputs": [
    {
     "data": {
      "text/plain": [
       "(906,)"
      ]
     },
     "execution_count": 44,
     "metadata": {},
     "output_type": "execute_result"
    }
   ],
   "source": [
    "y.shape"
   ]
  },
  {
   "cell_type": "markdown",
   "metadata": {},
   "source": [
    "#### Train / Test Split before Vectorization"
   ]
  },
  {
   "cell_type": "code",
   "execution_count": 46,
   "metadata": {
    "collapsed": true
   },
   "outputs": [],
   "source": [
    "from sklearn.model_selection import train_test_split"
   ]
  },
  {
   "cell_type": "code",
   "execution_count": 47,
   "metadata": {
    "collapsed": true
   },
   "outputs": [],
   "source": [
    "X_train,X_test,y_train,y_test = train_test_split(X,y,test_size=0.3,random_state=101)"
   ]
  },
  {
   "cell_type": "code",
   "execution_count": null,
   "metadata": {
    "collapsed": true
   },
   "outputs": [],
   "source": []
  },
  {
   "cell_type": "code",
   "execution_count": null,
   "metadata": {
    "collapsed": true
   },
   "outputs": [],
   "source": []
  },
  {
   "cell_type": "code",
   "execution_count": null,
   "metadata": {
    "collapsed": true
   },
   "outputs": [],
   "source": []
  },
  {
   "cell_type": "code",
   "execution_count": null,
   "metadata": {
    "collapsed": true
   },
   "outputs": [],
   "source": []
  }
 ],
 "metadata": {
  "kernelspec": {
   "display_name": "Python 3",
   "language": "python",
   "name": "python3"
  },
  "language_info": {
   "codemirror_mode": {
    "name": "ipython",
    "version": 3
   },
   "file_extension": ".py",
   "mimetype": "text/x-python",
   "name": "python",
   "nbconvert_exporter": "python",
   "pygments_lexer": "ipython3",
   "version": "3.6.1"
  }
 },
 "nbformat": 4,
 "nbformat_minor": 2
}
