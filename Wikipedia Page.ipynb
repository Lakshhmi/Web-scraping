{
 "cells": [
  {
   "cell_type": "markdown",
   "metadata": {},
   "source": [
    "# Extract list of state union territory capitals in India from wikipedia page"
   ]
  },
  {
   "cell_type": "markdown",
   "metadata": {},
   "source": [
    "#### Import the library to query a website "
   ]
  },
  {
   "cell_type": "code",
   "execution_count": 9,
   "metadata": {
    "collapsed": true
   },
   "outputs": [],
   "source": [
    "import urllib.request as urllib2"
   ]
  },
  {
   "cell_type": "code",
   "execution_count": 10,
   "metadata": {
    "collapsed": true
   },
   "outputs": [],
   "source": [
    "wiki = \"https://en.wikipedia.org/wiki/List_of_state_and_union_territory_capitals_in_India\""
   ]
  },
  {
   "cell_type": "code",
   "execution_count": 11,
   "metadata": {
    "collapsed": true
   },
   "outputs": [],
   "source": [
    "page = urllib2.urlopen(wiki)"
   ]
  },
  {
   "cell_type": "code",
   "execution_count": 3,
   "metadata": {
    "collapsed": true
   },
   "outputs": [],
   "source": [
    "import requests"
   ]
  },
  {
   "cell_type": "code",
   "execution_count": 4,
   "metadata": {
    "collapsed": true
   },
   "outputs": [],
   "source": [
    "r = requests.get(\"https://en.wikipedia.org/wiki/List_of_state_and_union_territory_capitals_in_India\")"
   ]
  },
  {
   "cell_type": "code",
   "execution_count": 5,
   "metadata": {},
   "outputs": [
    {
     "data": {
      "text/plain": [
       "'<!DOCTYPE html>\\n<html class=\"client-nojs\" lang=\"en\" dir=\"ltr\">\\n<head>\\n<meta charset=\"UTF-8\"/>\\n<title>List of state and union territory capitals in India - Wikipedia</title>\\n<script>document.documentElement.className = document.documentElement.className.replace( /(^|\\\\s)client-nojs(\\\\s|$)/, \"$1client-js$2\" );</script>\\n<script>(window.RLQ=window.RLQ||[]).push(function(){mw.config.set({\"wgCanonicalNamespace\":\"\",\"wgCanonicalSpecialPageName\":false,\"wgNamespaceNumber\":0,\"wgPageName\":\"List_of_state_and_u'"
      ]
     },
     "execution_count": 5,
     "metadata": {},
     "output_type": "execute_result"
    }
   ],
   "source": [
    "r.text[0:500]"
   ]
  },
  {
   "cell_type": "markdown",
   "metadata": {
    "collapsed": true
   },
   "source": [
    "#### Import the library to parse the data from the website"
   ]
  },
  {
   "cell_type": "code",
   "execution_count": 6,
   "metadata": {
    "collapsed": true
   },
   "outputs": [],
   "source": [
    "from bs4 import BeautifulSoup"
   ]
  },
  {
   "cell_type": "code",
   "execution_count": 7,
   "metadata": {
    "collapsed": true
   },
   "outputs": [],
   "source": [
    "soup = BeautifulSoup(r.text,\"html.parser\")"
   ]
  },
  {
   "cell_type": "code",
   "execution_count": 61,
   "metadata": {},
   "outputs": [],
   "source": [
    "#print(soup.prettify())"
   ]
  },
  {
   "cell_type": "code",
   "execution_count": 9,
   "metadata": {},
   "outputs": [
    {
     "data": {
      "text/plain": [
       "'List of state and union territory capitals in India - Wikipedia'"
      ]
     },
     "execution_count": 9,
     "metadata": {},
     "output_type": "execute_result"
    }
   ],
   "source": [
    "soup.title.string"
   ]
  },
  {
   "cell_type": "code",
   "execution_count": 10,
   "metadata": {},
   "outputs": [
    {
     "data": {
      "text/plain": [
       "<a id=\"top\"></a>"
      ]
     },
     "execution_count": 10,
     "metadata": {},
     "output_type": "execute_result"
    }
   ],
   "source": [
    "soup.a"
   ]
  },
  {
   "cell_type": "code",
   "execution_count": 11,
   "metadata": {},
   "outputs": [
    {
     "data": {
      "text/plain": [
       "<script>document.documentElement.className = document.documentElement.className.replace( /(^|\\s)client-nojs(\\s|$)/, \"$1client-js$2\" );</script>"
      ]
     },
     "execution_count": 11,
     "metadata": {},
     "output_type": "execute_result"
    }
   ],
   "source": [
    "soup.script"
   ]
  },
  {
   "cell_type": "code",
   "execution_count": 12,
   "metadata": {},
   "outputs": [
    {
     "data": {
      "text/plain": [
       "[<title>List of state and union territory capitals in India - Wikipedia</title>]"
      ]
     },
     "execution_count": 12,
     "metadata": {},
     "output_type": "execute_result"
    }
   ],
   "source": [
    "soup.find_all('title')"
   ]
  },
  {
   "cell_type": "markdown",
   "metadata": {},
   "source": [
    "#### Find the table from the webpage"
   ]
  },
  {
   "cell_type": "code",
   "execution_count": 49,
   "metadata": {},
   "outputs": [],
   "source": [
    "tables = soup.find('table', {\"class\" :'wikitable sortable plainrowheaders'})"
   ]
  },
  {
   "cell_type": "code",
   "execution_count": 52,
   "metadata": {},
   "outputs": [],
   "source": [
    "records = []"
   ]
  },
  {
   "cell_type": "code",
   "execution_count": 55,
   "metadata": {},
   "outputs": [],
   "source": [
    "for row in tables.findAll(\"tr\"):\n",
    "    cells = row.findAll('td')\n",
    "    states = row.findAll('th')\n",
    "    if len(cells) ==6:\n",
    "        Number = cells[0].find(text=True)\n",
    "        State = cells[0].find(text=True)\n",
    "        Administrative_capitals = cells[1].find(text=True)\n",
    "        Legislative_capitals = cells[2].find(text=True)\n",
    "        Judiciary_capitals = cells[3].find(text=True)\n",
    "        Year = cells[4].find(text=True)\n",
    "        Former_capital = cells[5].find(text=True)\n",
    "        records.append((Number,State,Administrative_capitals,Legislative_capitals,Judiciary_capitals,Year,Former_capital))"
   ]
  },
  {
   "cell_type": "code",
   "execution_count": 56,
   "metadata": {
    "collapsed": true
   },
   "outputs": [],
   "source": [
    "import pandas as pd"
   ]
  },
  {
   "cell_type": "code",
   "execution_count": 58,
   "metadata": {},
   "outputs": [],
   "source": [
    "df = pd.DataFrame(records,columns=['Number','State','Administrative_capitals','Legislative_capitals','Judiciary_capitals','Year','Former_capital'])"
   ]
  },
  {
   "cell_type": "code",
   "execution_count": 59,
   "metadata": {},
   "outputs": [
    {
     "data": {
      "text/html": [
       "<div>\n",
       "<style>\n",
       "    .dataframe thead tr:only-child th {\n",
       "        text-align: right;\n",
       "    }\n",
       "\n",
       "    .dataframe thead th {\n",
       "        text-align: left;\n",
       "    }\n",
       "\n",
       "    .dataframe tbody tr th {\n",
       "        vertical-align: top;\n",
       "    }\n",
       "</style>\n",
       "<table border=\"1\" class=\"dataframe\">\n",
       "  <thead>\n",
       "    <tr style=\"text-align: right;\">\n",
       "      <th></th>\n",
       "      <th>Number</th>\n",
       "      <th>State</th>\n",
       "      <th>Administrative_capitals</th>\n",
       "      <th>Legislative_capitals</th>\n",
       "      <th>Judiciary_capitals</th>\n",
       "      <th>Year</th>\n",
       "      <th>Former_capital</th>\n",
       "    </tr>\n",
       "  </thead>\n",
       "  <tbody>\n",
       "    <tr>\n",
       "      <th>0</th>\n",
       "      <td>1</td>\n",
       "      <td>1</td>\n",
       "      <td>Port Blair</td>\n",
       "      <td>Port Blair</td>\n",
       "      <td>Kolkata</td>\n",
       "      <td>1955</td>\n",
       "      <td>Calcutta (1945–1955)</td>\n",
       "    </tr>\n",
       "    <tr>\n",
       "      <th>1</th>\n",
       "      <td>2</td>\n",
       "      <td>2</td>\n",
       "      <td>Hyderabad</td>\n",
       "      <td>Amaravati</td>\n",
       "      <td>Hyderabad</td>\n",
       "      <td>1956</td>\n",
       "      <td>Kurnool</td>\n",
       "    </tr>\n",
       "    <tr>\n",
       "      <th>2</th>\n",
       "      <td>3</td>\n",
       "      <td>3</td>\n",
       "      <td>Itanagar</td>\n",
       "      <td>Itanagar</td>\n",
       "      <td>Guwahati</td>\n",
       "      <td>1986</td>\n",
       "      <td></td>\n",
       "    </tr>\n",
       "    <tr>\n",
       "      <th>3</th>\n",
       "      <td>4</td>\n",
       "      <td>4</td>\n",
       "      <td>Dispur</td>\n",
       "      <td>Guwahati</td>\n",
       "      <td>Guwahati</td>\n",
       "      <td>1975</td>\n",
       "      <td>Shillong</td>\n",
       "    </tr>\n",
       "    <tr>\n",
       "      <th>4</th>\n",
       "      <td>5</td>\n",
       "      <td>5</td>\n",
       "      <td>Patna</td>\n",
       "      <td>Patna</td>\n",
       "      <td>Patna</td>\n",
       "      <td>1912</td>\n",
       "      <td></td>\n",
       "    </tr>\n",
       "  </tbody>\n",
       "</table>\n",
       "</div>"
      ],
      "text/plain": [
       "  Number State Administrative_capitals Legislative_capitals  \\\n",
       "0     1\n",
       "    1\n",
       "              Port Blair          Port Blair\n",
       "   \n",
       "1     2\n",
       "    2\n",
       "               Hyderabad            Amaravati   \n",
       "2     3\n",
       "    3\n",
       "                Itanagar            Itanagar\n",
       "   \n",
       "3     4\n",
       "    4\n",
       "                  Dispur             Guwahati   \n",
       "4     5\n",
       "    5\n",
       "                   Patna               Patna\n",
       "   \n",
       "\n",
       "  Judiciary_capitals   Year         Former_capital  \n",
       "0           Kolkata\n",
       "  1955\n",
       "  Calcutta (1945–1955)\n",
       "  \n",
       "1          Hyderabad   1956                Kurnool  \n",
       "2           Guwahati  1986\n",
       "                      \n",
       "  \n",
       "3          Guwahati\n",
       "  1975\n",
       "               Shillong  \n",
       "4             Patna\n",
       "  1912\n",
       "                      \n",
       "  "
      ]
     },
     "execution_count": 59,
     "metadata": {},
     "output_type": "execute_result"
    }
   ],
   "source": [
    "df.head()"
   ]
  },
  {
   "cell_type": "code",
   "execution_count": 60,
   "metadata": {},
   "outputs": [
    {
     "data": {
      "text/html": [
       "<div>\n",
       "<style>\n",
       "    .dataframe thead tr:only-child th {\n",
       "        text-align: right;\n",
       "    }\n",
       "\n",
       "    .dataframe thead th {\n",
       "        text-align: left;\n",
       "    }\n",
       "\n",
       "    .dataframe tbody tr th {\n",
       "        vertical-align: top;\n",
       "    }\n",
       "</style>\n",
       "<table border=\"1\" class=\"dataframe\">\n",
       "  <thead>\n",
       "    <tr style=\"text-align: right;\">\n",
       "      <th></th>\n",
       "      <th>Number</th>\n",
       "      <th>State</th>\n",
       "      <th>Administrative_capitals</th>\n",
       "      <th>Legislative_capitals</th>\n",
       "      <th>Judiciary_capitals</th>\n",
       "      <th>Year</th>\n",
       "      <th>Former_capital</th>\n",
       "    </tr>\n",
       "  </thead>\n",
       "  <tbody>\n",
       "    <tr>\n",
       "      <th>65</th>\n",
       "      <td>32</td>\n",
       "      <td>32</td>\n",
       "      <td>Hyderabad</td>\n",
       "      <td>Hyderabad</td>\n",
       "      <td>Hyderabad</td>\n",
       "      <td>2014</td>\n",
       "      <td>—</td>\n",
       "    </tr>\n",
       "    <tr>\n",
       "      <th>66</th>\n",
       "      <td>33</td>\n",
       "      <td>33</td>\n",
       "      <td>Agartala</td>\n",
       "      <td>Agartala</td>\n",
       "      <td>Agartala</td>\n",
       "      <td>1956</td>\n",
       "      <td>—</td>\n",
       "    </tr>\n",
       "    <tr>\n",
       "      <th>67</th>\n",
       "      <td>34</td>\n",
       "      <td>34</td>\n",
       "      <td>Lucknow</td>\n",
       "      <td>Lucknow</td>\n",
       "      <td>Allahabad</td>\n",
       "      <td>1938</td>\n",
       "      <td>—</td>\n",
       "    </tr>\n",
       "    <tr>\n",
       "      <th>68</th>\n",
       "      <td>35</td>\n",
       "      <td>35</td>\n",
       "      <td>Dehradun</td>\n",
       "      <td>Dehradun</td>\n",
       "      <td>Nainital</td>\n",
       "      <td>2000</td>\n",
       "      <td>—</td>\n",
       "    </tr>\n",
       "    <tr>\n",
       "      <th>69</th>\n",
       "      <td>36</td>\n",
       "      <td>36</td>\n",
       "      <td>Kolkata</td>\n",
       "      <td>Kolkata</td>\n",
       "      <td>Kolkata</td>\n",
       "      <td>1947</td>\n",
       "      <td></td>\n",
       "    </tr>\n",
       "  </tbody>\n",
       "</table>\n",
       "</div>"
      ],
      "text/plain": [
       "   Number State Administrative_capitals Legislative_capitals  \\\n",
       "65    32\n",
       "   32\n",
       "               Hyderabad           Hyderabad\n",
       "   \n",
       "66    33\n",
       "   33\n",
       "                Agartala            Agartala\n",
       "   \n",
       "67    34\n",
       "   34\n",
       "                 Lucknow             Lucknow\n",
       "   \n",
       "68    35\n",
       "   35\n",
       "                Dehradun            Dehradun\n",
       "   \n",
       "69    36\n",
       "   36\n",
       "                 Kolkata             Kolkata\n",
       "   \n",
       "\n",
       "   Judiciary_capitals   Year Former_capital  \n",
       "65         Hyderabad\n",
       "  2014\n",
       "             —\n",
       "  \n",
       "66          Agartala\n",
       "  1956\n",
       "             —\n",
       "  \n",
       "67          Allahabad  1938\n",
       "             —\n",
       "  \n",
       "68           Nainital  2000\n",
       "             —\n",
       "  \n",
       "69           Kolkata\n",
       "  1947\n",
       "              \n",
       "  "
      ]
     },
     "execution_count": 60,
     "metadata": {},
     "output_type": "execute_result"
    }
   ],
   "source": [
    "df.tail()"
   ]
  },
  {
   "cell_type": "code",
   "execution_count": null,
   "metadata": {
    "collapsed": true
   },
   "outputs": [],
   "source": []
  }
 ],
 "metadata": {
  "kernelspec": {
   "display_name": "Python 3",
   "language": "python",
   "name": "python3"
  },
  "language_info": {
   "codemirror_mode": {
    "name": "ipython",
    "version": 3
   },
   "file_extension": ".py",
   "mimetype": "text/x-python",
   "name": "python",
   "nbconvert_exporter": "python",
   "pygments_lexer": "ipython3",
   "version": "3.6.1"
  }
 },
 "nbformat": 4,
 "nbformat_minor": 2
}
