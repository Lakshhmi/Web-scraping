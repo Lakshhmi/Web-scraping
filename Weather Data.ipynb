{
 "cells": [
  {
   "cell_type": "markdown",
   "metadata": {},
   "source": [
    "## Extract Weather forcast for Gwinnett county from Nationl Weather Service"
   ]
  },
  {
   "cell_type": "code",
   "execution_count": 1,
   "metadata": {
    "collapsed": true
   },
   "outputs": [],
   "source": [
    "import requests"
   ]
  },
  {
   "cell_type": "markdown",
   "metadata": {},
   "source": [
    "#### Download weather data"
   ]
  },
  {
   "cell_type": "code",
   "execution_count": 7,
   "metadata": {},
   "outputs": [],
   "source": [
    "r = requests.get(\"https://forecast.weather.gov/MapClick.php?lat=34.0682&lon=-83.9808#.WuMzm4jwbIU\")"
   ]
  },
  {
   "cell_type": "code",
   "execution_count": 9,
   "metadata": {},
   "outputs": [
    {
     "data": {
      "text/plain": [
       "'<!DOCTYPE html>\\n<html class=\"no-js\">\\n    <head>\\n        <!-- Meta -->\\n        <meta name=\"viewport\" content=\"width=device-width\">\\n        <link rel=\"schema.DC\" href=\"http://purl.org/dc/elements/1.1/\" /><title>National Weather Service</title><meta name=\"DC.title\" content=\"National Weather Service\" /><meta name=\"DC.description\" content=\"NOAA National Weather Service National Weather Service\" /><meta name=\"DC.creator\" content=\"US Department of Commerce, NOAA, National Weather Service\" /><meta name=\"DC.date.'"
      ]
     },
     "execution_count": 9,
     "metadata": {},
     "output_type": "execute_result"
    }
   ],
   "source": [
    "r.text[0:509]"
   ]
  },
  {
   "cell_type": "code",
   "execution_count": null,
   "metadata": {
    "collapsed": true
   },
   "outputs": [],
   "source": [
    "from bs4 import BeautifulSoup"
   ]
  },
  {
   "cell_type": "code",
   "execution_count": 10,
   "metadata": {
    "collapsed": true
   },
   "outputs": [],
   "source": [
    "soup = BeautifulSoup(r.text,\"html.parser\")"
   ]
  },
  {
   "cell_type": "code",
   "execution_count": 18,
   "metadata": {},
   "outputs": [
    {
     "data": {
      "text/plain": [
       "'<!DOCTYPE html>\\n<html class=\"no-js\">\\n <head>\\n  <!-- Meta -->\\n  <meta content=\"width=device-width\" name=\"viewport\"/>\\n  <link href=\"http://purl.org/dc/elements/1.1/\" rel=\"schema.DC\"/>\\n  <title>\\n   National Weather Service\\n  </title>\\n  <meta content=\"National Weather Service\" name=\"DC.title\">\\n   <meta content=\"NOAA National Weather Service National Weather Service\" name=\"DC.description\"/>\\n   <meta content=\"US Department of Commerce, NOAA, National Weather Service\" name=\"DC.creator\"/>\\n   <meta content=\"\" name=\"DC.date.created\" scheme=\"ISO8601\"/>\\n   <meta content=\"EN-US\" name=\"DC.language\" scheme=\"DCTERMS.RFC1766\"/>\\n   <meta content=\"weather, National Weather Service\" name=\"DC.keywords\"/>\\n   <meta content=\"NOAA\\'s National Weather Service\" name=\"DC.publisher\"/>\\n   <meta content=\"National Weather Service\" name=\"DC.contributor\"/>\\n   <meta content=\"http://www.weather.gov/disclaimer.php\" name=\"DC.rights\"/>\\n   <meta content=\"General\" name=\"rating\"/>\\n   <meta content=\"index,follow\" name=\"robots\"/>\\n   <!-- Icons -->\\n   <link href=\"./images/favicon.ico\" rel=\"shortcut icon\" type=\"image/x-icon\"/>\\n   <!-- CSS -->\\n   <link href=\"css/bootstrap-3.2.0.min.css\" rel=\"stylesheet\"/>\\n   <link href=\"css/bootstrap-theme-3.2.0.min.css\" rel=\"stylesheet\"/>\\n   <link href=\"css/font-awesome-4.3.0.min.css\" rel=\"stylesheet\"/>\\n   <link href=\"css/ol-4.6.4.css\" rel=\"stylesheet\" type=\"text/css\"/>\\n   <link href=\"css/mapclick.css\" rel=\"stylesheet\" type=\"text/css\">\\n    <!--[if lte IE 7]><link rel=\"stylesheet\" type=\"text/css\" href=\"css/bootstrap-ie7.css\" /><![endif]-->\\n    <!--[if lte IE 9]><link rel=\"stylesheet\" type=\"text/css\" href=\"css/mapclick-ie.css\" /><![endif]-->\\n    <link href=\"css/print.css\" rel=\"stylesheet\" type=\"text/css\">\\n     <link href=\"css/search.css\" rel=\"stylesheet\" type=\"text/css\">\\n      <!-- Javascript -->\\n      <script src=\"js/lib/modernizr-2.8.3.js\" type=\"text/javascript\">\\n      </script>\\n      <script src=\"js/lib/json3-3.3.2.min.js\" type=\"text/javascript\">\\n      </script>\\n      <script src=\"js/lib/jquery-1.11.3.min.js\" type=\"text/javascript\">\\n      </script>\\n      <script src=\"js/lib/jquery.hoverIntent-1.8.1.min.js\" type=\"text/javascript\">\\n      </script>\\n      <script src=\"js/lib/bootstrap-3.2.0.min.js\" type=\"text/javascript\">\\n      </script>\\n      <script src=\"js/lib/ol-4.6.4.js\" type=\"text/javascript\">\\n      </script>\\n      <!--[if lte IE 8]><script type=\"text/javascript\" src=\"js/respond.min.js\"></script><![endif]-->\\n      <script src=\"js/jquery.autocomplete.min.js\" type=\"text/javascript\">\\n      </script>\\n      <script src=\"js/cfisurvey/cfi.js\" type=\"text/javascript\">\\n      </script>\\n      <script src=\"js/forecast.esri.js\" type=\"text/javascript\">\\n      </script>\\n      <script src=\"js/forecast.search.js\" type=\"text/javascript\">\\n      </script>\\n      <script src=\"js/forecast.openlayers.js\" type=\"text/javascript\">\\n      </script>\\n      <script src=\"js/browserSniffer.js\" type=\"text/javascript\">\\n      </script>\\n      <script src=\"js/federated-analytics.js\" type=\"text/javascript\">\\n      </script>\\n      <script type=\"text/javascript\">\\n       (function (i, s, o, g, r, a, m) {\\n                i[\\'GoogleAnalyticsObject\\'] = r;\\n                i[r] = i[r] || function () {\\n                    (i[r].q = i[r].q || []).push(arguments)\\n                }, i[r].l = 1 * new Date();\\n                a = s.createElement(o),\\n                        m = s.getElementsByTagName(o)[0];\\n                a.async = 1;\\n                a.src = g;\\n                m.parentNode.insertBefore(a, m)\\n            })(window, document, \\'script\\', \\'//www.google-analytics.com/analytics.js\\', \\'ga\\');\\n\\n            ga(\\'create\\', \\'UA-40768555-1\\', \\'weather.gov\\');\\n            ga(\\'set\\', \\'anonymizeIp\\', true);\\n            ga(\\'require\\', \\'linkid\\');\\n            ga(\\'send\\', \\'pageview\\');\\n      </script>\\n     </link>\\n    </link>\\n   </link>\\n  </meta>\\n </head>\\n <body>\\n  <!-- DIV FOR CFI GROUP SURVEY::ALSO REQUIRES SCRIPT TAG IN HEADER -->\\n  <div id=\"ZN_9tslIS2mj3KoPgp\">\\n   <!--DO NOT REMOVE-CONTENTS PLACED HERE-->\\n  </div>\\n  <style>\\n   /* STYLE FOR DUAL ICON PREVIEW */\\n            .applicationnotificationContainerBanner {\\n                padding: 0 3rem 2rem 3rem;\\n                background: #fff;\\n                color: #555;\\n                margin-bottom: -.5rem;\\n                text-align: center;\\n                font-size: 1.2rem;\\n            }\\n            .applicationnotificationContainerBannerTeaser {\\n                display: inline-block;\\n                cursor: pointer;\\n            }\\n            .applicationnotificationContainerBannerTeaserIcon {\\n                float: left;\\n                width: 6.2rem;\\n                top:-3px;\\n                position: relative;\\n            }\\n            .applicationnotificationContainerBannerTeaserTitle {\\n                padding: 6px 0 0 0;\\n                font-weight: bold;\\n                font-size: 1.6rem;\\n                line-height: 1.6rem;\\n                margin-left: 7.2rem;\\n                text-align: left;\\n            }\\n            .applicationnotificationContainerBannerTeaserSubtitle {\\n                margin-left: 7.2rem;\\n                font-size: 1.2rem;\\n                line-height: 1.2rem;\\n                text-align: left;\\n                padding-top:.5rem;\\n            }\\n            .applicationnotificationContainerBannerDetails {\\n                display: none;\\n                clear: both;\\n                text-align: left;\\n                padding: 1rem 0;\\n                max-width: 750px;\\n                margin: 0 auto;\\n            }\\n            .applicationnotificationContainerBanner a {\\n                text-decoration: underline;\\n                padding-top:.3rem;\\n                display: block;\\n            }\\n            main.container {\\n                margin-top: -10px !important;\\n            }\\n            @media screen and (max-width:480px){\\n                .applicationnotificationContainerBanner{\\n                    padding:0 .8em 1em .8em;\\n                }\\n            }\\n  </style>\\n  <div class=\"applicationnotificationContainerBanner\">\\n   <div class=\"applicationnotificationContainerBannerTeaser\" id=\"applicationnotificationContainerButton-showDetails\">\\n    <img class=\"applicationnotificationContainerBannerTeaserIcon\" src=\"images/applicationnotification.png\"/>\\n    <div class=\"applicationnotificationContainerBannerTeaserTitle\">\\n     Notice of NWS\\' New Version of Forecast\\n    </div>\\n    <div class=\"applicationnotificationContainerBannerTeaserSubtitle\">\\n     A new version of Forecast is coming soon!\\n     <br/>\\n     <a href=\"https://forecast-v3.weather.gov/documentation?redirect=legacy\">\\n      Click here to visit the new site for details.\\n     </a>\\n     <br/>\\n    </div>\\n   </div>\\n  </div>\\n  <main class=\"container\">\\n   <header class=\"row clearfix\" id=\"page-header\">\\n    <a class=\"pull-left\" href=\"http://www.noaa.gov\" id=\"header-noaa\">\\n     <img alt=\"National Oceanic and Atmospheric Administration\" src=\"/css/images/header_noaa.png\"/>\\n    </a>\\n    <a class=\"pull-left\" href=\"http://www.weather.gov\" id=\"header-nws\">\\n     <img alt=\"National Weather Service\" src=\"/css/images/header_nws.png\"/>\\n    </a>\\n    <a class=\"pull-right\" href=\"http://www.commerce.gov\" id=\"header-doc\">\\n     <img alt=\"United States Department of Commerce\" src=\"/css/images/header_doc.png\"/>\\n    </a>\\n   </header>\\n   <nav class=\"navbar navbar-default row\" role=\"navigation\">\\n    <div class=\"container-fluid\">\\n     <div class=\"navbar-header\">\\n      <button class=\"navbar-toggle collapsed\" data-target=\"#top-nav\" data-toggle=\"collapse\" type=\"button\">\\n       <span class=\"sr-only\">\\n        Toggle navigation\\n       </span>\\n       <span class=\"icon-bar\">\\n       </span>\\n       <span class=\"icon-bar\">\\n       </span>\\n       <span class=\"icon-bar\">\\n       </span>\\n      </button>\\n     </div>\\n     <div class=\"collapse navbar-collapse\" id=\"top-nav\">\\n      <ul class=\"nav navbar-nav\">\\n       <li>\\n        <a href=\"http://www.weather.gov\">\\n         HOME\\n        </a>\\n       </li>\\n       <li class=\"dropdown\">\\n        <a class=\"dropdown-toggle\" data-toggle=\"dropdown\" href=\"http://www.weather.gov/forecastmaps\">\\n         FORECAST\\n         <span class=\"caret\">\\n         </span>\\n        </a>\\n        <ul class=\"dropdown-menu\" role=\"menu\">\\n         <li>\\n          <a href=\"http://www.weather.gov\">\\n           Local\\n          </a>\\n         </li>\\n         <li>\\n          <a href=\"http://digital.weather.gov\">\\n           Graphical\\n          </a>\\n         </li>\\n         <li>\\n          <a href=\"http://www.aviationweather.gov/\">\\n           Aviation\\n          </a>\\n         </li>\\n         <li>\\n          <a href=\"http://www.nws.noaa.gov/om/marine/home.htm\">\\n           Marine\\n          </a>\\n         </li>\\n         <li>\\n          <a href=\"http://water.weather.gov/ahps/\">\\n           Rivers and Lakes\\n          </a>\\n         </li>\\n         <li>\\n          <a href=\"http://www.nhc.noaa.gov/\">\\n           Hurricanes\\n          </a>\\n         </li>\\n         <li>\\n          <a href=\"http://www.spc.noaa.gov/\">\\n           Severe Weather\\n          </a>\\n         </li>\\n         <li>\\n          <a href=\"http://www.weather.gov/fire/\">\\n           Fire Weather\\n          </a>\\n         </li>\\n         <li>\\n          <a href=\"http://aa.usno.navy.mil/data/docs/RS_OneDay.php\">\\n           Sun/Moon\\n          </a>\\n         </li>\\n         <li>\\n          <a href=\"http://www.cpc.ncep.noaa.gov/\">\\n           Long Range Forecasts\\n          </a>\\n         </li>\\n         <li>\\n          <a href=\"http://www.cpc.ncep.noaa.gov\">\\n           Climate Prediction\\n          </a>\\n         </li>\\n        </ul>\\n       </li>\\n       <li class=\"dropdown\">\\n        <a class=\"dropdown-toggle\" data-toggle=\"dropdown\" href=\"http://www.nws.noaa.gov/climate\">\\n         PAST WEATHER\\n         <span class=\"caret\">\\n         </span>\\n        </a>\\n        <ul class=\"dropdown-menu\" role=\"menu\">\\n         <li>\\n          <a href=\"http://www.nws.noaa.gov/climate/\">\\n           Past Weather\\n          </a>\\n         </li>\\n         <li>\\n          <a href=\"http://www.nws.noaa.gov/climate/\">\\n           Heating/Cooling Days\\n          </a>\\n         </li>\\n         <li>\\n          <a href=\"http://www.nws.noaa.gov/climate/\">\\n           Monthly Temperatures\\n          </a>\\n         </li>\\n         <li>\\n          <a href=\"http://www.nws.noaa.gov/climate/\">\\n           Records\\n          </a>\\n         </li>\\n         <li>\\n          <a href=\"http://aa.usno.navy.mil/\">\\n           Astronomical Data\\n          </a>\\n         </li>\\n        </ul>\\n       </li>\\n       <li class=\"dropdown\">\\n        <a class=\"dropdown-toggle\" data-toggle=\"dropdown\" href=\"http://www.weather.gov/safety\">\\n         SAFETY\\n         <span class=\"caret\">\\n         </span>\\n        </a>\\n        <ul class=\"dropdown-menu\" role=\"menu\">\\n         <li>\\n          <a href=\"https://www.weather.gov/safety/flood\">\\n           Floods\\n          </a>\\n         </li>\\n         <li>\\n          <a href=\"https://www.weather.gov/safety/tsunami\">\\n           Tsunami\\n          </a>\\n         </li>\\n         <li>\\n          <a href=\"https://www.weather.gov/safety/beachhazards\">\\n           Beach Hazards\\n          </a>\\n         </li>\\n         <li>\\n          <a href=\"https://www.weather.gov/safety/wildfire\">\\n           Wildfire\\n          </a>\\n         </li>\\n         <li>\\n          <a href=\"https://www.weather.gov/safety/cold\">\\n           Cold\\n          </a>\\n         </li>\\n         <li>\\n          <a href=\"https://www.weather.gov/safety/tornado\">\\n           Tornadoes\\n          </a>\\n         </li>\\n         <li>\\n          <a href=\"https://www.weather.gov/safety/fog\">\\n           Fog\\n          </a>\\n         </li>\\n         <li>\\n          <a href=\"https://www.weather.gov/safety/airquality\">\\n           Air Quality\\n          </a>\\n         </li>\\n         <li>\\n          <a href=\"https://www.weather.gov/safety/heat\">\\n           Heat\\n          </a>\\n         </li>\\n         <li>\\n          <a href=\"https://www.weather.gov/safety/hurricane\">\\n           Hurricanes\\n          </a>\\n         </li>\\n         <li>\\n          <a href=\"https://www.weather.gov/safety/lightning\">\\n           Lightning\\n          </a>\\n         </li>\\n         <li>\\n          <a href=\"https://www.weather.gov/safety/safeboating\">\\n           Safe Boating\\n          </a>\\n         </li>\\n         <li>\\n          <a href=\"https://www.weather.gov/safety/ripcurrent\">\\n           Rip Currents\\n          </a>\\n         </li>\\n         <li>\\n          <a href=\"https://www.weather.gov/safety/thunderstorm\">\\n           Thunderstorms\\n          </a>\\n         </li>\\n         <li>\\n          <a href=\"https://www.weather.gov/safety/space\">\\n           Space Weather\\n          </a>\\n         </li>\\n         <li>\\n          <a href=\"http://www.nws.noaa.gov/om/heat/uv.shtml\">\\n           Sun (Ultraviolet Radiation)\\n          </a>\\n         </li>\\n         <li>\\n          <a href=\"http://www.weather.gov/safetycampaign\">\\n           Safety Campaigns\\n          </a>\\n         </li>\\n         <li>\\n          <a href=\"https://www.weather.gov/safety/wind\">\\n           Wind\\n          </a>\\n         </li>\\n         <li>\\n          <a href=\"https://www.weather.gov/safety/drought\">\\n           Drought\\n          </a>\\n         </li>\\n         <li>\\n          <a href=\"https://www.weather.gov/safety/winter\">\\n           Winter Weather\\n          </a>\\n         </li>\\n        </ul>\\n       </li>\\n       <li class=\"dropdown\">\\n        <a class=\"dropdown-toggle\" data-toggle=\"dropdown\" href=\"http://www.weather.gov/informationcenter\">\\n         INFORMATION\\n         <span class=\"caret\">\\n         </span>\\n        </a>\\n        <ul class=\"dropdown-menu\" role=\"menu\">\\n         <li>\\n          <a href=\"http://www.weather.gov/Owlie\\'s\">\\n           Owlie\\'s Kids Page\\n          </a>\\n         </li>\\n         <li>\\n          <a href=\"http://www.weather.gov/wrn/wea\">\\n           Wireless Emergency Alerts\\n          </a>\\n         </li>\\n         <li>\\n          <a href=\"http://www.nws.noaa.gov/om/brochures.shtml\">\\n           Brochures\\n          </a>\\n         </li>\\n         <li>\\n          <a href=\"http://www.weather.gov/wrn/\">\\n           Weather-Ready Nation\\n          </a>\\n         </li>\\n         <li>\\n          <a href=\"http://www.nws.noaa.gov/om/coop/\">\\n           Cooperative Observers\\n          </a>\\n         </li>\\n         <li>\\n          <a href=\"http://www.weather.gov/briefing/\">\\n           Daily Briefing\\n          </a>\\n         </li>\\n         <li>\\n          <a href=\"http://www.nws.noaa.gov/om/hazstats.shtml\">\\n           Damage/Fatality/Injury Statistics\\n          </a>\\n         </li>\\n         <li>\\n          <a href=\"http://mag.ncep.noaa.gov/\">\\n           Forecast Models\\n          </a>\\n         </li>\\n         <li>\\n          <a href=\"http://www.nws.noaa.gov/gis\">\\n           GIS Data Portal\\n          </a>\\n         </li>\\n         <li>\\n          <a href=\"http://www.nws.noaa.gov/nwr/\">\\n           NOAA Weather Radio\\n          </a>\\n         </li>\\n         <li>\\n          <a href=\"http://weather.gov/publications\">\\n           Publications\\n          </a>\\n         </li>\\n         <li>\\n          <a href=\"http://www.weather.gov/SKYWARN\">\\n           SKYWARN Storm Spotters\\n          </a>\\n         </li>\\n         <li>\\n          <a href=\"http://www.weather.gov/StormReady\">\\n           StormReady\\n          </a>\\n         </li>\\n         <li>\\n          <a href=\"https://www.weather.gov/TsunamiReady\">\\n           TsunamiReady\\n          </a>\\n         </li>\\n        </ul>\\n       </li>\\n       <li class=\"dropdown\">\\n        <a class=\"dropdown-toggle\" data-toggle=\"dropdown\" href=\"http://www.weather.gov/owlie\">\\n         EDUCATION\\n         <span class=\"caret\">\\n         </span>\\n        </a>\\n        <ul class=\"dropdown-menu\" role=\"menu\">\\n         <li>\\n          <a href=\"https://www.weather.gov/wrn/force\">\\n           Be A Force of Nature\\n          </a>\\n         </li>\\n         <li>\\n          <a href=\"http://www.weather.gov/owlie\">\\n           NWS Education Home\\n          </a>\\n         </li>\\n        </ul>\\n       </li>\\n       <li class=\"dropdown\">\\n        <a class=\"dropdown-toggle\" data-toggle=\"dropdown\" href=\"http://www.weather.gov/contact-media/\">\\n         NEWS\\n         <span class=\"caret\">\\n         </span>\\n        </a>\\n        <ul class=\"dropdown-menu\" role=\"menu\">\\n         <li>\\n          <a href=\"http://www.weather.gov/news\">\\n           NWS News\\n          </a>\\n         </li>\\n         <li>\\n          <a href=\"https://www.weather.gov/wrn/calendar\">\\n           Events\\n          </a>\\n         </li>\\n         <li>\\n          <a href=\"http://www.weather.gov/socialmedia\">\\n           Social Media\\n          </a>\\n         </li>\\n         <li>\\n          <a href=\"http://www.nws.noaa.gov/om/brochures.shtml\">\\n           Pubs/Brochures/Booklets\\n          </a>\\n         </li>\\n         <li>\\n          <a href=\"http://www.nws.noaa.gov/pa/nws_contacts.php\">\\n           NWS Media Contacts\\n          </a>\\n         </li>\\n        </ul>\\n       </li>\\n       <li class=\"dropdown\">\\n        <a class=\"dropdown-toggle\" data-toggle=\"dropdown\" href=\"http://www.weather.gov/search\">\\n         SEARCH\\n         <span class=\"caret\">\\n         </span>\\n        </a>\\n        <ul class=\"dropdown-menu\" role=\"menu\">\\n         <li>\\n          <!-- Begin search code -->\\n          <div id=\"site-search\">\\n           <form action=\"http://search.usa.gov/search\" method=\"get\" style=\"margin-bottom: 0; margin-top: 0;\">\\n            <input name=\"v:project\" type=\"hidden\" value=\"firstgov\"/>\\n            <label for=\"query\">\\n             Search For\\n            </label>\\n            <input id=\"query\" name=\"query\" size=\"12\" type=\"text\"/>\\n            <input type=\"submit\" value=\"Go\"/>\\n            <p>\\n             <input checked=\"checked\" id=\"nws\" name=\"affiliate\" type=\"radio\" value=\"nws.noaa.gov\"/>\\n             <label class=\"search-scope\" for=\"nws\">\\n              NWS\\n             </label>\\n             <input id=\"noaa\" name=\"affiliate\" type=\"radio\" value=\"noaa.gov\"/>\\n             <label class=\"search-scope\" for=\"noaa\">\\n              All NOAA\\n             </label>\\n            </p>\\n           </form>\\n          </div>\\n         </li>\\n        </ul>\\n       </li>\\n       <li class=\"dropdown\">\\n        <a class=\"dropdown-toggle\" data-toggle=\"dropdown\" href=\"http://www.weather.gov/about\">\\n         ABOUT\\n         <span class=\"caret\">\\n         </span>\\n        </a>\\n        <ul class=\"dropdown-menu\" role=\"menu\">\\n         <li>\\n          <a href=\"http://www.weather.gov/about\">\\n           About NWS\\n          </a>\\n         </li>\\n         <li>\\n          <a href=\"http://www.weather.gov/organization\">\\n           Organization\\n          </a>\\n         </li>\\n         <li>\\n          <a href=\"http://www.nws.noaa.gov/sp\">\\n           Strategic Plan\\n          </a>\\n         </li>\\n         <li>\\n          <a href=\"https://sites.google.com/a/noaa.gov/nws-insider/\">\\n           For NWS Employees\\n          </a>\\n         </li>\\n         <li>\\n          <a href=\"http://www.weather.gov/international/\">\\n           International\\n          </a>\\n         </li>\\n         <li>\\n          <a href=\"http://www.weather.gov/organization\">\\n           National Centers\\n          </a>\\n         </li>\\n         <li>\\n          <a href=\"http://www.nws.noaa.gov/tg\">\\n           Products and Services\\n          </a>\\n         </li>\\n         <li>\\n          <a href=\"http://www.weather.gov/careers/\">\\n           Careers\\n          </a>\\n         </li>\\n         <li>\\n          <a href=\"http://www.weather.gov/contact\">\\n           Contact Us\\n          </a>\\n         </li>\\n         <li>\\n          <a href=\"http://www.nws.noaa.gov/glossary\">\\n           Glossary\\n          </a>\\n         </li>\\n        </ul>\\n       </li>\\n      </ul>\\n     </div>\\n    </div>\\n   </nav>\\n   <div class=\"contentArea\">\\n    <!-- Start Forecastsearch -->\\n    <div class=\"\" id=\"fcst-search\">\\n     <form action=\"https://forecast.weather.gov/zipcity.php\" class=\"form-inline\" id=\"getForecast\" method=\"get\" name=\"getForecast\" role=\"form\">\\n      <div id=\"getfcst-body\">\\n       <input class=\"form-control\" id=\"inputstring\" name=\"inputstring\" placeholder=\"\" type=\"text\"/>\\n       <input class=\"btn btn-default\" id=\"btnSearch\" name=\"btnSearch\" type=\"submit\" value=\"Go\"/>\\n       <div id=\"txtHelp\">\\n        <a href=\"javascript:void(window.open(\\'http://weather.gov/ForecastSearchHelp.html\\',\\'locsearchhelp\\',\\'status=0,toolbar=0,location=0,menubar=0,directories=0,resizable=1,scrollbars=1,height=500,width=530\\').focus());\">\\n         View Location Examples\\n        </a>\\n       </div>\\n      </div>\\n      <div id=\"txtError\">\\n       <div id=\"errorNoResults\" style=\"display:none;\">\\n        Sorry, the location you searched for was not found. Please try another search.\\n       </div>\\n       <div id=\"errorMultipleResults\" style=\"display:none\">\\n        Multiple locations were found. Please select one of the following:\\n       </div>\\n       <div id=\"errorChoices\" style=\"display:none\">\\n       </div>\\n       <input id=\"btnCloseError\" style=\"display:none\" type=\"button\" value=\"Close\"/>\\n      </div>\\n      <div id=\"getfcst-head\">\\n       <p>\\n        Your local forecast office is\\n       </p>\\n       <h3 id=\"getfcst-headOffice\">\\n       </h3>\\n      </div>\\n     </form>\\n    </div>\\n    <!-- end Forecastsearch -->\\n    <link href=\"/css/topnews.css\" rel=\"stylesheet\" type=\"text/css\"/>\\n    <div id=\"news-items\">\\n     <div id=\"topnews\">\\n      <div class=\"icon\">\\n       <img src=\"/images/news-important.jpg\"/>\\n      </div>\\n      <div class=\"body\">\\n       <h1 style=\"font-size: 11pt;\">\\n        Wet Weather Continues Across Parts of the Northeastern States; Unsettled Weather Pattern Returning to the Pacific Northwest\\n       </h1>\\n       <p>\\n        A series of storms will bring rain and gusty winds to the Northeast U.S. for the next couple of days. The rain could combine with melting snow to produce flooding on main stem rivers, especially in northern New England. Unsettled weather will return to portions of the Northwest this weekend and continue for several days. Rain, some high elevation snow, and gusty winds will be possible.\\n        <a href=\"http://www.wpc.ncep.noaa.gov/#page=ovw\" target=\"_blank\">\\n         Read More &gt;\\n        </a>\\n       </p>\\n      </div>\\n     </div>\\n    </div>\\n    <script type=\"text/javascript\">\\n     (function ($) { var topnews = $(\"#topnews\"); topnews.hide(); $.get(\"siteNews.php\", {a:\"ffc\"},function(response){ if (response !== \"false\") topnews.replaceWith($(response)); topnews.show(); }); })(jQuery);\\n    </script>\\n    <!-- PageFormat-Land -->\\n    <script language=\"javascript\">\\n     document.title = $(\\'<div/>\\').html(\\'7-Day Forecast for Latitude 34.07&deg;N and Longitude 83.99&deg;W (Elev. 1112 ft)\\').text();\\n    </script>\\n    <img src=\"images/track_land_point.png\" style=\"display:none;\">\\n     <div class=\"panel panel-danger\">\\n      <div class=\"panel-heading\">\\n       <h3 class=\"panel-title\">\\n        Hazardous Weather Conditions\\n       </h3>\\n      </div>\\n      <div class=\"panel-body\">\\n       <ul>\\n        <li>\\n         <a class=\"anchor-hazards\" href=\"showsigwx.php?warnzone=GAZ034&amp;warncounty=GAC135&amp;firewxzone=GAZ034&amp;local_place1=4 Miles SSE Buford GA&amp;product1=Hazardous+Weather+Outlook&amp;lat=34.0682&amp;lon=-83.9808\" id=\"hazard-GAZ034-Hazardous+Weather+Outlook-0\">\\n          Hazardous Weather Outlook\\n         </a>\\n        </li>\\n        <li>\\n         <a class=\"anchor-hazards\" href=\"showsigwx.php?warnzone=GAZ034&amp;warncounty=GAC135&amp;firewxzone=GAZ034&amp;local_place1=4 Miles SSE Buford GA&amp;product1=Special+Weather+Statement&amp;lat=34.0682&amp;lon=-83.9808\" id=\"hazard-GAZ034-Special+Weather+Statement-1\">\\n          Special Weather Statement\\n         </a>\\n        </li>\\n       </ul>\\n      </div>\\n     </div>\\n     <div id=\"quickLinks\">\\n      <span class=\"lang-spanish\">\\n       <a href=\"http://forecast.weather.gov/MapClick.php?lat=34.0682&amp;lon=-83.9808&amp;lg=sp\">\\n        En Español\\n       </a>\\n      </span>\\n      <div class=\"addthis_toolbox addthis_default_style addthis-forecast\">\\n       <a class=\"addthis_button_compact\" href=\"http://www.addthis.com/bookmark.php?v=250&amp;pubid=ra-5127a6364d551d04\">\\n        Share\\n       </a>\\n       <span class=\"addthis_separator\">\\n        |\\n       </span>\\n       <a class=\"addthis_button_preferred_1\">\\n       </a>\\n       <a class=\"addthis_button_preferred_2\">\\n       </a>\\n       <a class=\"addthis_button_preferred_3\">\\n       </a>\\n       <a class=\"addthis_button_preferred_4\">\\n       </a>\\n       <a class=\"addthis_button_preferred_5\">\\n       </a>\\n      </div>\\n      <script type=\"text/javascript\">\\n       var addthis_config = addthis_config || {data_track_addressbar:true, pubid: \\'xa-4b05b2d91f18c9cc\\'};\\n\\t    $(document).ready(function(){\\n\\t\\t\\tjQuery.ajax({\\n\\t\\t\\t\\turl: \"//s7.addthis.com/js/300/addthis_widget.js#async=1\",\\n\\t\\t\\t\\tdataType: \"script\",\\n\\t\\t\\t\\tcache: false\\n\\t\\t\\t});\\n\\t    });\\n      </script>\\n     </div>\\n     <!-- Current Conditions -->\\n     <div class=\"panel panel-default\" id=\"current-conditions\">\\n      <!-- Current Conditions header row -->\\n      <div class=\"panel-heading\">\\n       <div>\\n        <b>\\n         Current conditions at\\n        </b>\\n        <h2 class=\"panel-title\">\\n         Gwinnett County Airport-Briscoe Field (KLZU)\\n        </h2>\\n        <span class=\"smallTxt\">\\n         <b>\\n          Lat:\\n         </b>\\n         33.98°N\\n         <b>\\n          Lon:\\n         </b>\\n         83.96°W\\n         <b>\\n          Elev:\\n         </b>\\n         1037ft.\\n        </span>\\n       </div>\\n      </div>\\n      <div class=\"panel-body\" id=\"current-conditions-body\">\\n       <!-- Graphic and temperatures -->\\n       <div class=\"pull-left\" id=\"current_conditions-summary\">\\n        <img alt=\"\" class=\"pull-left\" src=\"newimages/large/sct.png\"/>\\n        <p class=\"myforecast-current\">\\n         Fair\\n        </p>\\n        <p class=\"myforecast-current-lrg\">\\n         55°F\\n        </p>\\n        <p class=\"myforecast-current-sm\">\\n         13°C\\n        </p>\\n       </div>\\n       <div class=\"pull-left\" id=\"current_conditions_detail\">\\n        <table>\\n         <tr>\\n          <td class=\"text-right\">\\n           <b>\\n            Humidity\\n           </b>\\n          </td>\\n          <td>\\n           77%\\n          </td>\\n         </tr>\\n         <tr>\\n          <td class=\"text-right\">\\n           <b>\\n            Wind Speed\\n           </b>\\n          </td>\\n          <td>\\n           Vrbl 6 mph\\n          </td>\\n         </tr>\\n         <tr>\\n          <td class=\"text-right\">\\n           <b>\\n            Barometer\\n           </b>\\n          </td>\\n          <td>\\n           29.87 in\\n          </td>\\n         </tr>\\n         <tr>\\n          <td class=\"text-right\">\\n           <b>\\n            Dewpoint\\n           </b>\\n          </td>\\n          <td>\\n           48°F (9°C)\\n          </td>\\n         </tr>\\n         <tr>\\n          <td class=\"text-right\">\\n           <b>\\n            Visibility\\n           </b>\\n          </td>\\n          <td>\\n           10.00 mi\\n          </td>\\n         </tr>\\n         <tr>\\n          <td class=\"text-right\">\\n           <b>\\n            Wind Chill\\n           </b>\\n          </td>\\n          <td>\\n           54°F (12°C)\\n          </td>\\n         </tr>\\n         <tr>\\n          <td class=\"text-right\">\\n           <b>\\n            Last update\\n           </b>\\n          </td>\\n          <td>\\n           27 Apr 9:56 am EDT\\n          </td>\\n         </tr>\\n        </table>\\n       </div>\\n       <div id=\"current_conditions_station\">\\n        <div class=\"current-conditions-extra\">\\n         <!-- Right hand section -->\\n         <p class=\"moreInfo\">\\n          <b>\\n           More Information:\\n          </b>\\n         </p>\\n         <p>\\n          <a href=\"https://www.weather.gov/ffc\" id=\"localWFO\" title=\"Peachtree City, GA\">\\n           <span class=\"hideText\">\\n            Local\\n           </span>\\n           Forecast Office\\n          </a>\\n          <a href=\"obslocal.php?warnzone=GAZ034&amp;local_place=4 Miles SSE Buford GA&amp;zoneid=EDT&amp;offset=14400\" id=\"moreWx\">\\n           More Local Wx\\n          </a>\\n          <a href=\"http://www.weather.gov/data/obhistory/KLZU.html\" id=\"3dayHist\">\\n           3 Day History\\n          </a>\\n          <a href=\"http://mobile.weather.gov/index.php?lat=34.0682&amp;lon=-83.9808&amp;unit=0&amp;lg=english\" id=\"mobileWxLink\">\\n           Mobile Weather\\n          </a>\\n          <a href=\"MapClick.php?lat=34.0682&amp;lon=-83.9808&amp;unit=0&amp;lg=english&amp;FcstType=graphical\" id=\"wxGraph\">\\n           Hourly\\n           <span class=\"hideText\">\\n            Weather\\n           </span>\\n           Forecast\\n          </a>\\n         </p>\\n        </div>\\n        <!-- /current_conditions_station -->\\n       </div>\\n       <!-- /current-conditions-body -->\\n      </div>\\n      <!-- /Current Conditions -->\\n     </div>\\n     <!-- 7-Day Forecast -->\\n     <div class=\"panel panel-default\" id=\"seven-day-forecast\">\\n      <div class=\"panel-heading\">\\n       <b>\\n        Extended Forecast for\\n       </b>\\n       <h2 class=\"panel-title\">\\n        4 Miles SSE Buford GA\\n       </h2>\\n      </div>\\n      <div class=\"panel-body\" id=\"seven-day-forecast-body\">\\n       <div id=\"seven-day-forecast-container\">\\n        <ul class=\"list-unstyled\" id=\"seven-day-forecast-list\">\\n         <li class=\"forecast-tombstone\">\\n          <div class=\"tombstone-container\">\\n           <p class=\"period-name\">\\n            Today\\n            <br/>\\n            <br/>\\n           </p>\\n           <p>\\n            <img alt=\"Today: Mostly sunny, with a high near 72. Northwest wind 10 to 15 mph, with gusts as high as 20 mph. \" class=\"forecast-icon\" src=\"newimages/medium/sct.png\" title=\"Today: Mostly sunny, with a high near 72. Northwest wind 10 to 15 mph, with gusts as high as 20 mph. \"/>\\n           </p>\\n           <p class=\"short-desc\">\\n            Mostly Sunny\\n           </p>\\n           <p class=\"temp temp-high\">\\n            High: 72 °F\\n           </p>\\n          </div>\\n         </li>\\n         <li class=\"forecast-tombstone\">\\n          <div class=\"tombstone-container\">\\n           <p class=\"period-name\">\\n            Tonight\\n            <br/>\\n            <br/>\\n           </p>\\n           <p>\\n            <img alt=\"Tonight: Clear, with a low around 51. West wind 5 to 10 mph, with gusts as high as 15 mph. \" class=\"forecast-icon\" src=\"newimages/medium/nskc.png\" title=\"Tonight: Clear, with a low around 51. West wind 5 to 10 mph, with gusts as high as 15 mph. \"/>\\n           </p>\\n           <p class=\"short-desc\">\\n            Clear\\n           </p>\\n           <p class=\"temp temp-low\">\\n            Low: 51 °F\\n           </p>\\n          </div>\\n         </li>\\n         <li class=\"forecast-tombstone\">\\n          <div class=\"tombstone-container\">\\n           <p class=\"period-name\">\\n            Saturday\\n            <br/>\\n            <br/>\\n           </p>\\n           <p>\\n            <img alt=\"Saturday: Sunny, with a high near 74. West wind 5 to 15 mph, with gusts as high as 25 mph. \" class=\"forecast-icon\" src=\"newimages/medium/few.png\" title=\"Saturday: Sunny, with a high near 74. West wind 5 to 15 mph, with gusts as high as 25 mph. \"/>\\n           </p>\\n           <p class=\"short-desc\">\\n            Sunny\\n           </p>\\n           <p class=\"temp temp-high\">\\n            High: 74 °F\\n           </p>\\n          </div>\\n         </li>\\n         <li class=\"forecast-tombstone\">\\n          <div class=\"tombstone-container\">\\n           <p class=\"period-name\">\\n            Saturday\\n            <br/>\\n            Night\\n           </p>\\n           <p>\\n            <img alt=\"Saturday Night: Mostly clear, with a low around 47. Northwest wind 10 to 15 mph. \" class=\"forecast-icon\" src=\"newimages/medium/nfew.png\" title=\"Saturday Night: Mostly clear, with a low around 47. Northwest wind 10 to 15 mph. \"/>\\n           </p>\\n           <p class=\"short-desc\">\\n            Mostly Clear\\n           </p>\\n           <p class=\"temp temp-low\">\\n            Low: 47 °F\\n           </p>\\n          </div>\\n         </li>\\n         <li class=\"forecast-tombstone\">\\n          <div class=\"tombstone-container\">\\n           <p class=\"period-name\">\\n            Sunday\\n            <br/>\\n            <br/>\\n           </p>\\n           <p>\\n            <img alt=\"Sunday: Sunny, with a high near 69. North wind around 10 mph. \" class=\"forecast-icon\" src=\"newimages/medium/skc.png\" title=\"Sunday: Sunny, with a high near 69. North wind around 10 mph. \"/>\\n           </p>\\n           <p class=\"short-desc\">\\n            Sunny\\n           </p>\\n           <p class=\"temp temp-high\">\\n            High: 69 °F\\n           </p>\\n          </div>\\n         </li>\\n         <li class=\"forecast-tombstone\">\\n          <div class=\"tombstone-container\">\\n           <p class=\"period-name\">\\n            Sunday\\n            <br/>\\n            Night\\n           </p>\\n           <p>\\n            <img alt=\"Sunday Night: Clear, with a low around 45.\" class=\"forecast-icon\" src=\"newimages/medium/nskc.png\" title=\"Sunday Night: Clear, with a low around 45.\"/>\\n           </p>\\n           <p class=\"short-desc\">\\n            Clear\\n           </p>\\n           <p class=\"temp temp-low\">\\n            Low: 45 °F\\n           </p>\\n          </div>\\n         </li>\\n         <li class=\"forecast-tombstone\">\\n          <div class=\"tombstone-container\">\\n           <p class=\"period-name\">\\n            Monday\\n            <br/>\\n            <br/>\\n           </p>\\n           <p>\\n            <img alt=\"Monday: Sunny, with a high near 74.\" class=\"forecast-icon\" src=\"newimages/medium/skc.png\" title=\"Monday: Sunny, with a high near 74.\"/>\\n           </p>\\n           <p class=\"short-desc\">\\n            Sunny\\n           </p>\\n           <p class=\"temp temp-high\">\\n            High: 74 °F\\n           </p>\\n          </div>\\n         </li>\\n         <li class=\"forecast-tombstone\">\\n          <div class=\"tombstone-container\">\\n           <p class=\"period-name\">\\n            Monday\\n            <br/>\\n            Night\\n           </p>\\n           <p>\\n            <img alt=\"Monday Night: Clear, with a low around 51.\" class=\"forecast-icon\" src=\"newimages/medium/nskc.png\" title=\"Monday Night: Clear, with a low around 51.\"/>\\n           </p>\\n           <p class=\"short-desc\">\\n            Clear\\n           </p>\\n           <p class=\"temp temp-low\">\\n            Low: 51 °F\\n           </p>\\n          </div>\\n         </li>\\n         <li class=\"forecast-tombstone\">\\n          <div class=\"tombstone-container\">\\n           <p class=\"period-name\">\\n            Tuesday\\n            <br/>\\n            <br/>\\n           </p>\\n           <p>\\n            <img alt=\"Tuesday: Sunny, with a high near 79.\" class=\"forecast-icon\" src=\"newimages/medium/skc.png\" title=\"Tuesday: Sunny, with a high near 79.\"/>\\n           </p>\\n           <p class=\"short-desc\">\\n            Sunny\\n           </p>\\n           <p class=\"temp temp-high\">\\n            High: 79 °F\\n           </p>\\n          </div>\\n         </li>\\n        </ul>\\n       </div>\\n       <script type=\"text/javascript\">\\n        // equalize forecast heights\\n$(function () {\\n\\tvar maxh = 0;\\n\\t$(\".forecast-tombstone .short-desc\").each(function () {\\n\\t\\tvar h = $(this).height();\\n\\t\\tif (h > maxh) { maxh = h; }\\n\\t});\\n\\t$(\".forecast-tombstone .short-desc\").height(maxh);\\n});\\n       </script>\\n      </div>\\n     </div>\\n     <!-- Everything between 7-Day Forecast and Footer goes in this row -->\\n     <div class=\"row\" id=\"floatingDivs\">\\n      <!-- Everything on the left-hand side -->\\n      <div class=\"col-md-7 col-lg-8\">\\n       <!-- Detailed Forecast -->\\n       <div class=\"panel panel-default\" id=\"detailed-forecast\">\\n        <div class=\"panel-heading\">\\n         <h2 class=\"panel-title\">\\n          Detailed Forecast\\n         </h2>\\n        </div>\\n        <div class=\"panel-body\" id=\"detailed-forecast-body\">\\n         <div class=\"row row-odd row-forecast\">\\n          <div class=\"col-sm-2 forecast-label\">\\n           <b>\\n            Today\\n           </b>\\n          </div>\\n          <div class=\"col-sm-10 forecast-text\">\\n           Mostly sunny, with a high near 72. Northwest wind 10 to 15 mph, with gusts as high as 20 mph.\\n          </div>\\n         </div>\\n         <div class=\"row row-even row-forecast\">\\n          <div class=\"col-sm-2 forecast-label\">\\n           <b>\\n            Tonight\\n           </b>\\n          </div>\\n          <div class=\"col-sm-10 forecast-text\">\\n           Clear, with a low around 51. West wind 5 to 10 mph, with gusts as high as 15 mph.\\n          </div>\\n         </div>\\n         <div class=\"row row-odd row-forecast\">\\n          <div class=\"col-sm-2 forecast-label\">\\n           <b>\\n            Saturday\\n           </b>\\n          </div>\\n          <div class=\"col-sm-10 forecast-text\">\\n           Sunny, with a high near 74. West wind 5 to 15 mph, with gusts as high as 25 mph.\\n          </div>\\n         </div>\\n         <div class=\"row row-even row-forecast\">\\n          <div class=\"col-sm-2 forecast-label\">\\n           <b>\\n            Saturday Night\\n           </b>\\n          </div>\\n          <div class=\"col-sm-10 forecast-text\">\\n           Mostly clear, with a low around 47. Northwest wind 10 to 15 mph.\\n          </div>\\n         </div>\\n         <div class=\"row row-odd row-forecast\">\\n          <div class=\"col-sm-2 forecast-label\">\\n           <b>\\n            Sunday\\n           </b>\\n          </div>\\n          <div class=\"col-sm-10 forecast-text\">\\n           Sunny, with a high near 69. North wind around 10 mph.\\n          </div>\\n         </div>\\n         <div class=\"row row-even row-forecast\">\\n          <div class=\"col-sm-2 forecast-label\">\\n           <b>\\n            Sunday Night\\n           </b>\\n          </div>\\n          <div class=\"col-sm-10 forecast-text\">\\n           Clear, with a low around 45.\\n          </div>\\n         </div>\\n         <div class=\"row row-odd row-forecast\">\\n          <div class=\"col-sm-2 forecast-label\">\\n           <b>\\n            Monday\\n           </b>\\n          </div>\\n          <div class=\"col-sm-10 forecast-text\">\\n           Sunny, with a high near 74.\\n          </div>\\n         </div>\\n         <div class=\"row row-even row-forecast\">\\n          <div class=\"col-sm-2 forecast-label\">\\n           <b>\\n            Monday Night\\n           </b>\\n          </div>\\n          <div class=\"col-sm-10 forecast-text\">\\n           Clear, with a low around 51.\\n          </div>\\n         </div>\\n         <div class=\"row row-odd row-forecast\">\\n          <div class=\"col-sm-2 forecast-label\">\\n           <b>\\n            Tuesday\\n           </b>\\n          </div>\\n          <div class=\"col-sm-10 forecast-text\">\\n           Sunny, with a high near 79.\\n          </div>\\n         </div>\\n         <div class=\"row row-even row-forecast\">\\n          <div class=\"col-sm-2 forecast-label\">\\n           <b>\\n            Tuesday Night\\n           </b>\\n          </div>\\n          <div class=\"col-sm-10 forecast-text\">\\n           Mostly clear, with a low around 57.\\n          </div>\\n         </div>\\n         <div class=\"row row-odd row-forecast\">\\n          <div class=\"col-sm-2 forecast-label\">\\n           <b>\\n            Wednesday\\n           </b>\\n          </div>\\n          <div class=\"col-sm-10 forecast-text\">\\n           Mostly sunny, with a high near 80.\\n          </div>\\n         </div>\\n         <div class=\"row row-even row-forecast\">\\n          <div class=\"col-sm-2 forecast-label\">\\n           <b>\\n            Wednesday Night\\n           </b>\\n          </div>\\n          <div class=\"col-sm-10 forecast-text\">\\n           Mostly clear, with a low around 59.\\n          </div>\\n         </div>\\n         <div class=\"row row-odd row-forecast\">\\n          <div class=\"col-sm-2 forecast-label\">\\n           <b>\\n            Thursday\\n           </b>\\n          </div>\\n          <div class=\"col-sm-10 forecast-text\">\\n           Sunny, with a high near 81.\\n          </div>\\n         </div>\\n        </div>\\n       </div>\\n       <!-- /Detailed Forecast -->\\n       <!-- Additional Forecasts and Information -->\\n       <div class=\"panel panel-default\" id=\"additional_forecasts\">\\n        <div class=\"panel-heading\">\\n         <h2 class=\"panel-title\">\\n          Additional Forecasts and Information\\n         </h2>\\n        </div>\\n        <div class=\"panel-body\" id=\"additional-forecasts-body\">\\n         <p class=\"myforecast-location\">\\n          <a href=\"MapClick.php?zoneid=GAZ034\">\\n           Zone Area Forecast for Gwinnett County, GA\\n          </a>\\n         </p>\\n         <!-- First nine-ten links -->\\n         <div id=\"linkBlockContainer\">\\n          <div class=\"linkBlock\">\\n           <ul class=\"list-unstyled\">\\n            <li>\\n             <a href=\"http://forecast.weather.gov/product.php?site=FFC&amp;issuedby=FFC&amp;product=AFD&amp;format=CI&amp;version=1&amp;glossary=1\">\\n              Forecast Discussion\\n             </a>\\n            </li>\\n            <li>\\n             <a href=\"MapClick.php?lat=34.0682&amp;lon=-83.9808&amp;unit=0&amp;lg=english&amp;FcstType=text&amp;TextType=2\">\\n              Printable Forecast\\n             </a>\\n            </li>\\n            <li>\\n             <a href=\"MapClick.php?lat=34.0682&amp;lon=-83.9808&amp;unit=0&amp;lg=english&amp;FcstType=text&amp;TextType=1\">\\n              Text Only Forecast\\n             </a>\\n            </li>\\n           </ul>\\n          </div>\\n          <div class=\"linkBlock\">\\n           <ul class=\"list-unstyled\">\\n            <li>\\n             <a href=\"MapClick.php?lat=34.0682&amp;lon=-83.9808&amp;unit=0&amp;lg=english&amp;FcstType=graphical\">\\n              Hourly Weather Forecast\\n             </a>\\n            </li>\\n            <li>\\n             <a href=\"MapClick.php?lat=34.0682&amp;lon=-83.9808&amp;unit=0&amp;lg=english&amp;FcstType=digital\">\\n              Tabular Forecast\\n             </a>\\n            </li>\\n            <!-- <li><a href=\"afm/PointClick.php?lat=34.0682&lon=-83.9808\">Quick Forecast</a></li> -->\\n           </ul>\\n          </div>\\n          <div class=\"linkBlock\">\\n           <ul class=\"list-unstyled\">\\n            <li>\\n             <a href=\"http://weather.gov/aq/probe_aq_data.php?latitude=34.0682&amp;longitude=-83.9808\">\\n              Air Quality Forecasts\\n             </a>\\n            </li>\\n            <li>\\n             <a href=\"MapClick.php?lat=34.0682&amp;lon=-83.9808&amp;FcstType=text&amp;unit=1&amp;lg=en\">\\n              International System of Units\\n             </a>\\n            </li>\\n            <li>\\n             <a href=\"http://www.srh.weather.gov/srh/jetstream/webweather/pinpoint_max.htm\">\\n              About Point Forecasts\\n             </a>\\n            </li>\\n           </ul>\\n          </div>\\n          <!-- /First nine-ten links -->\\n          <!-- Additional links -->\\n          <div class=\"linkBlock\">\\n           <ul class=\"list-unstyled\">\\n            <li>\\n             <a href=\"http://www.weather.gov/climate/index.php?wfo=ffc\" target=\"_self\">\\n              Climate Report (hi/lo)\\n             </a>\\n            </li>\\n            <li>\\n             <a href=\"http://graphical.weather.gov/sectors/ffc.php\" target=\"_self\">\\n              7-day Graphical Fcst\\n             </a>\\n            </li>\\n            <li>\\n             <a href=\"http://www.weather.gov/ffc/hwo\" target=\"_self\">\\n              Hazardous Weather Outlook\\n             </a>\\n            </li>\\n            <li>\\n             <a href=\"http://www.weather.gov/ffc/conds\" target=\"_self\">\\n              Georgia\\'s Current Weather\\n             </a>\\n            </li>\\n           </ul>\\n          </div>\\n          <div class=\"linkBlock\">\\n           <ul class=\"list-unstyled\">\\n            <li>\\n             <a href=\"http://www.weather.gov/ffc/custom\" target=\"_self\">\\n              Build Your Own Page\\n             </a>\\n            </li>\\n            <li>\\n             <a href=\"http://www.weather.gov/ffc/mapslast\" target=\"_self\">\\n              Weather Maps\\n             </a>\\n            </li>\\n            <li>\\n             <a href=\"http://www.weather.gov/ffc/models\" target=\"_self\">\\n              Computer Models\\n             </a>\\n            </li>\\n            <li>\\n             <a href=\"http://www.weather.gov/ffc/fcstlist\" target=\"_self\">\\n              All Forecast Products\\n             </a>\\n            </li>\\n           </ul>\\n          </div>\\n          <div class=\"linkBlock\">\\n           <ul class=\"list-unstyled\">\\n            <li>\\n             <a href=\"http://aa.usno.navy.mil/data/docs/RS_OneDay.php\" target=\"_self\">\\n              Sunrise / Sunset\\n             </a>\\n            </li>\\n            <li>\\n             <a href=\"http://www.weather.gov/climate/xmacis.php?wfo=ffc\" target=\"_self\">\\n              Past Weather Information\\n             </a>\\n            </li>\\n            <li>\\n             <a href=\"http://www.weather.gov/atlanta\" target=\"_self\">\\n              NWS Peachtree City Home\\n             </a>\\n            </li>\\n           </ul>\\n          </div>\\n         </div>\\n         <!-- /linkBlockContainer -->\\n        </div>\\n        <!-- /additional-forecasts-body-->\\n       </div>\\n       <!-- /additional_forecasts -->\\n      </div>\\n      <!-- /Everything on the left-hand side -->\\n      <!-- right-side-data -->\\n      <div class=\"col-md-5 col-lg-4\" id=\"right-side-data\">\\n       <div id=\"mapAndDescriptionArea\">\\n        <!-- openlayer map -->\\n        <style>\\n         #custom-search{\\ndisplay: block;\\nposition: relative;\\nz-index: 50;\\ntop: 52px;\\nleft: 60px;\\n}\\n#esri-geocoder-search{\\ndisplay: block;\\nposition: relative;\\nz-index: 50;\\ntop: 52px;\\nleft: 60px;\\n}\\n#emap{\\nmargin-top:15px;\\ncursor:pointer;\\nheight:370px;\\nwidth:100%;\\nborder: 1px solid #ccc;\\nborder-radius: 3px;\\n}\\n#switch-basemap-container{\\n}\\n#basemap-selection-form ul{\\nlist-style: none;\\n margin: 0px;\\n}\\n#basemap-selection-form li{\\nfloat: left;\\n}\\n.disclaimer{\\nmargin-top:350px;\\nmargin-left: 5px;\\nz-index: 100;\\nposition: absolute;\\ntext-transform: none;\\n}\\n.esriAttributionLastItem{\\ntext-transform: none;\\n}\\n.esriSimpleSlider div{\\nheight:22px;\\nline-height:20px;\\nwidth:20px;\\n}\\n#point-forecast-map-label {\\ntext-align:center;\\nfont-weight:bold;\\ncolor:black;\\n}\\n@media (max-width: 767px) {\\n#emap{\\nmargin-top:.5em;\\nheight:270px;\\n}\\n.disclaimer{\\nmargin-top:250px;\\n}\\n}\\n        </style>\\n        <!-- forecast-map -->\\n        <div class=\"point-forecast-map\">\\n         <div class=\"point-forecast-map-header text-center\">\\n          <div id=\"toolbar\">\\n           <div id=\"switch-basemap-container\">\\n            <div id=\"basemap-selection-form\" title=\"Choose a Basemap\">\\n             <div id=\"basemap-menu\">\\n              <select autocomplete=\"off\" id=\"basemap-selected\" name=\"basemap-selected\" title=\"Basemap Dropdown Menu\">\\n               <option value=\"none\">\\n                Select Basemap\\n               </option>\\n               <option selected=\"\" value=\"topo\">\\n                Topographic\\n               </option>\\n               <option value=\"streets\">\\n                Streets\\n               </option>\\n               <option value=\"satellite\">\\n                Satellite\\n               </option>\\n               <option value=\"ocean\">\\n                Ocean\\n               </option>\\n              </select>\\n             </div>\\n            </div>\\n            <div id=\"point-forecast-map-label\">\\n             Click Map For Forecast\\n            </div>\\n           </div>\\n           <!-- //#switch-basemap-container -->\\n           <div style=\"clear:both;\">\\n           </div>\\n          </div>\\n          <!-- //#toolbar -->\\n         </div>\\n         <!-- //.point-forecast-map-header -->\\n         <div id=\"emap\">\\n          <noscript>\\n           <center>\\n            <br/>\\n            <br/>\\n            <b>\\n             Map function requires Javascript and a compatible browser.\\n            </b>\\n           </center>\\n          </noscript>\\n          <div class=\"disclaimer\">\\n           <a href=\"http://www.weather.gov/disclaimer#esri\">\\n            Disclaimer\\n           </a>\\n          </div>\\n         </div>\\n         <!-- //#emap -->\\n         <div class=\"point-forecast-map-footer\">\\n          <img alt=\"Map Legend\" height=\"16\" src=\"./images/wtf/maplegend_forecast-area.gif\" width=\"100\"/>\\n         </div>\\n         <!-- //.point-forecast-map-footer -->\\n        </div>\\n        <!-- //.point-forecast-map -->\\n        <!-- //forecast-map -->\\n        <!-- //openlayer map -->\\n        <!-- About this Forecast -->\\n        <div id=\"about_forecast\">\\n         <div class=\"fullRow\">\\n          <div class=\"left\">\\n           Point Forecast:\\n          </div>\\n          <div class=\"right\">\\n           4 Miles SSE Buford GA\\n           <br/>\\n           34.07°N 83.99°W (Elev. 1112 ft)\\n          </div>\\n         </div>\\n         <div class=\"fullRow\">\\n          <div class=\"left\">\\n           <a href=\"http://www.weather.gov/glossary/index.php?word=Last+update\" target=\"_blank\">\\n            Last Update\\n           </a>\\n           :\\n          </div>\\n          <div class=\"right\">\\n           6:17 am EDT Apr 27, 2018\\n          </div>\\n         </div>\\n         <div class=\"fullRow\">\\n          <div class=\"left\">\\n           <a href=\"http://www.weather.gov/glossary/index.php?word=forecast+valid+for\" target=\"_blank\">\\n            Forecast Valid\\n           </a>\\n           :\\n          </div>\\n          <div class=\"right\">\\n           10am EDT Apr 27, 2018-6pm EDT May 3, 2018\\n          </div>\\n         </div>\\n         <div class=\"fullRow\">\\n          <div class=\"left\">\\n          </div>\\n          <div class=\"right\">\\n           <a href=\"https://forecast.weather.gov/product.php?site=FFC&amp;issuedby=FFC&amp;product=AFD&amp;format=CI&amp;version=1&amp;glossary=1\">\\n            Forecast Discussion\\n           </a>\\n          </div>\\n         </div>\\n         <div class=\"fullRow\">\\n          <div class=\"left\">\\n          </div>\\n          <div class=\"right\">\\n           <a href=\"MapClick.php?lat=34.0682&amp;lon=-83.9808&amp;unit=0&amp;lg=english&amp;FcstType=kml\">\\n            <img alt=\"Get as KML\" height=\"17\" src=\"/images/wtf/kml_badge.png\" width=\"45\"/>\\n           </a>\\n           <a href=\"MapClick.php?lat=34.0682&amp;lon=-83.9808&amp;unit=0&amp;lg=english&amp;FcstType=dwml\">\\n            <img alt=\"Get as XML\" height=\"17\" src=\"/images/wtf/xml_badge.png\" width=\"45\"/>\\n           </a>\\n          </div>\\n         </div>\\n        </div>\\n        <!-- /About this Forecast -->\\n       </div>\\n       <!--additionalForecast-->\\n       <div class=\"panel panel-default\" id=\"additionalForecast\">\\n        <div class=\"panel-heading\">\\n         <h2 class=\"panel-title\">\\n          Additional Resources\\n         </h2>\\n        </div>\\n        <div class=\"panel-body\">\\n         <!-- Radar & Satellite Images -->\\n         <div class=\"subItem\" id=\"radar\">\\n          <h4>\\n           Radar &amp; Satellite Image\\n          </h4>\\n          <a href=\"http://radar.weather.gov/radar.php?rid=ffc&amp;product=N0R&amp;overlay=11101111&amp;loop=no\">\\n           <img alt=\"Link to Local Radar Data\" class=\"radar-thumb\" src=\"http://radar.weather.gov/Thumbs/FFC_Thumb.gif\" title=\"Link to Local Radar Data\"/>\\n          </a>\\n          <a href=\"https://www.star.nesdis.noaa.gov/GOES/GOES16_CONUS.php\">\\n           <img alt=\"Link to Satellite Data\" class=\"satellite-thumb\" src=\"https://cdn.star.nesdis.noaa.gov/GOES16/ABI/CONUS/GEOCOLOR/625x375.jpg\" title=\"Link to Satellite Data\"/>\\n          </a>\\n         </div>\\n         <!-- /Radar & Satellite Images -->\\n         <!-- Hourly Weather Forecast -->\\n         <div class=\"subItem\" id=\"feature\">\\n          <h4>\\n           Hourly Weather Forecast\\n          </h4>\\n          <a href=\"MapClick.php?lat=34.0682&amp;lon=-83.9808&amp;unit=0&amp;lg=english&amp;FcstType=graphical\">\\n           <img class=\"img-responsive\" src=\"newimages/medium/hourlyweather.png\"/>\\n          </a>\\n         </div>\\n         <!-- /Hourly Weather Forecast -->\\n         <!-- NDFD -->\\n         <div class=\"subItem\" id=\"NDFD\">\\n          <h4>\\n           National Digital Forecast Database\\n          </h4>\\n          <div class=\"one-sixth-first\">\\n           <a href=\"http://graphical.weather.gov/sectors/midatlantic.php?element=MaxT\">\\n            <img alt=\"National Digital Forecast Database Maximum Temperature Forecast\" border=\"0\" height=\"150\" src=\"http://www.weather.gov/forecasts/graphical/images/thumbnail/latest_MaxMinT_midatlantic_thumbnail.png\" title=\"National Digital Forecast Database Maximum Temperature Forecast\" width=\"147\"/>\\n           </a>\\n           <p>\\n            <a href=\"http://graphical.weather.gov/sectors/midatlantic.php?element=MaxT\">\\n             High Temperature\\n            </a>\\n           </p>\\n          </div>\\n          <div class=\"one-sixth-first\">\\n           <a href=\"http://graphical.weather.gov/sectors/midatlantic.php?element=Wx\">\\n            <img alt=\"National Digital Forecast Database Weather Element Forecast\" border=\"0\" height=\"150\" src=\"http://www.weather.gov/forecasts/graphical/images/thumbnail/latest_Wx_midatlantic_thumbnail.png\" title=\"National Digital Forecast Database Weather Element Forecast\" width=\"147\"/>\\n           </a>\\n           <p>\\n            <a href=\"http://graphical.weather.gov/sectors/midatlantic.php?element=Wx\">\\n             Chance of Precipitation\\n            </a>\\n           </p>\\n          </div>\\n         </div>\\n         <!-- /NDFD -->\\n        </div>\\n       </div>\\n       <!-- /additionalForecast -->\\n      </div>\\n      <!-- /col-md-4 -->\\n      <!-- /right-side-data -->\\n      <script language=\"javascript\">\\n       $( document ).ready(function() { load_openlayers_map(\\'\\', \\'\\', \\'\\', \\'{\"centroid_lat\":\"34.0682\",\"centroid_lon\":\"-83.9808\",\"lat1\":\"34.0575\",\"lon1\":\"-84.0065\",\"lat2\":\"34.08\",\"lon2\":\"-84.0045\",\"lat3\":\"34.078\",\"lon3\":\"-83.9775\",\"lat4\":\"34.0555\",\"lon4\":\"-83.9795\"}\\') });\\n      </script>\\n     </div>\\n     <!-- /row  -->\\n    </img>\\n   </div>\\n   <!-- /PageFormat-Land -->\\n  </main>\\n </body>\\n</html>\\n<footer>\\n <div class=\"sitemap-content row\" id=\"sitemap\">\\n  <div class=\"col-xs-12\">\\n   <div class=\"sitemap-columns\">\\n    <div class=\"sitemap-section\">\\n     <div class=\"panel-heading\">\\n      <a class=\"sitemap-section-heading\" href=\" http://www.nws.noaa.gov/climate/\">\\n       PAST WEATHER\\n      </a>\\n      <button class=\"menu-toggle pull-right\" data-target=\"#sitemap-1\" data-toggle=\"collapse\" type=\"button\">\\n       <span class=\"sr-only\">\\n        Toggle menu\\n       </span>\\n       <span class=\"icon-bar\">\\n       </span>\\n       <span class=\"icon-bar\">\\n       </span>\\n       <span class=\"icon-bar\">\\n       </span>\\n      </button>\\n     </div>\\n     <div class=\"sitemap-section-body panel-body collapsable collapse\" id=\"sitemap-1\">\\n      <ul class=\"list-unstyled\">\\n       <li>\\n        <a href=\" http://www.nws.noaa.gov/climate/\">\\n         Past Weather\\n        </a>\\n       </li>\\n       <li>\\n        <a href=\" http://www.cpc.ncep.noaa.gov/products/MD_index.shtml\">\\n         Climate Monitoring\\n        </a>\\n       </li>\\n       <li>\\n        <a href=\" http://www.nws.noaa.gov/climate/\">\\n         Heating/Cooling Days\\n        </a>\\n       </li>\\n       <li>\\n        <a href=\" http://www.nws.noaa.gov/climate/\">\\n         Monthly Temps\\n        </a>\\n       </li>\\n       <li>\\n        <a href=\" http://www.nws.noaa.gov/climate/\">\\n         Records\\n        </a>\\n       </li>\\n       <li>\\n        <a href=\" http://aa.usno.navy.mil/\">\\n         Astronomical Data\\n        </a>\\n       </li>\\n       <li>\\n        <a href=\"https://www.climate.gov/maps-data/dataset/past-weather-zip-code-data-table\">\\n         Certified Weather Data\\n        </a>\\n       </li>\\n      </ul>\\n     </div>\\n    </div>\\n    <div class=\"sitemap-section\">\\n     <div class=\"panel-heading\">\\n      <a class=\"sitemap-section-heading\" href=\"http://alerts.weather.gov\">\\n       ACTIVE ALERTS\\n      </a>\\n      <button class=\"menu-toggle pull-right\" data-target=\"#sitemap-2\" data-toggle=\"collapse\" type=\"button\">\\n       <span class=\"sr-only\">\\n        Toggle menu\\n       </span>\\n       <span class=\"icon-bar\">\\n       </span>\\n       <span class=\"icon-bar\">\\n       </span>\\n       <span class=\"icon-bar\">\\n       </span>\\n      </button>\\n     </div>\\n     <div class=\"sitemap-section-body panel-body collapsable collapse\" id=\"sitemap-2\">\\n      <ul class=\"list-unstyled\">\\n       <li>\\n        <a href=\" http://alerts.weather.gov\">\\n         Warnings By State\\n        </a>\\n       </li>\\n       <li>\\n        <a href=\" http://www.wpc.ncep.noaa.gov/ww.shtml\">\\n         Excessive Rainfall and Winter Weather Forecasts\\n        </a>\\n       </li>\\n       <li>\\n        <a href=\"http://water.weather.gov/ahps/?current_color=flood&amp;current_type=all&amp;fcst_type=obs&amp;conus_map=d_map\">\\n         River Flooding\\n        </a>\\n       </li>\\n       <li>\\n        <a href=\" http://www.weather.gov\">\\n         Latest Warnings\\n        </a>\\n       </li>\\n       <li>\\n        <a href=\" http://www.spc.noaa.gov/products/outlook/\">\\n         Thunderstorm/Tornado Outlook\\n        </a>\\n       </li>\\n       <li>\\n        <a href=\" http://www.nhc.noaa.gov/\">\\n         Hurricanes\\n        </a>\\n       </li>\\n       <li>\\n        <a href=\" http://www.spc.noaa.gov/products/fire_wx/\">\\n         Fire Weather Outlooks\\n        </a>\\n       </li>\\n       <li>\\n        <a href=\" http://www.cpc.ncep.noaa.gov/products/stratosphere/uv_index/uv_alert.shtml\">\\n         UV Alerts\\n        </a>\\n       </li>\\n       <li>\\n        <a href=\" http://www.drought.gov/\">\\n         Drought\\n        </a>\\n       </li>\\n       <li>\\n        <a href=\"http://www.swpc.noaa.gov/products/alerts-watches-and-warnings\">\\n         Space Weather\\n        </a>\\n       </li>\\n       <li>\\n        <a href=\" http://www.nws.noaa.gov/nwr/\">\\n         NOAA Weather Radio\\n        </a>\\n       </li>\\n       <li>\\n        <a href=\" http://alerts.weather.gov/\">\\n         NWS CAP Feeds\\n        </a>\\n       </li>\\n      </ul>\\n     </div>\\n    </div>\\n    <div class=\"sitemap-section\">\\n     <div class=\"panel-heading\">\\n      <a class=\"sitemap-section-heading\" href=\"http://www.weather.gov/current\">\\n       CURRENT CONDITIONS\\n      </a>\\n      <button class=\"menu-toggle pull-right\" data-target=\"#sitemap-3\" data-toggle=\"collapse\" type=\"button\">\\n       <span class=\"sr-only\">\\n        Toggle menu\\n       </span>\\n       <span class=\"icon-bar\">\\n       </span>\\n       <span class=\"icon-bar\">\\n       </span>\\n       <span class=\"icon-bar\">\\n       </span>\\n      </button>\\n     </div>\\n     <div class=\"sitemap-section-body panel-body collapsable collapse\" id=\"sitemap-3\">\\n      <ul class=\"list-unstyled\">\\n       <li>\\n        <a href=\" http://www.weather.gov/Radar\">\\n         Radar\\n        </a>\\n       </li>\\n       <li>\\n        <a href=\"http://www.cpc.ncep.noaa.gov/products/monitoring_and_data/\">\\n         Climate Monitoring\\n        </a>\\n       </li>\\n       <li>\\n        <a href=\" http://water.weather.gov/ahps/\">\\n         River Levels\\n        </a>\\n       </li>\\n       <li>\\n        <a href=\" http://water.weather.gov/precip/\">\\n         Observed Precipitation\\n        </a>\\n       </li>\\n       <li>\\n        <a href=\"http://www.nws.noaa.gov/om/osd/portal.shtml\">\\n         Surface Weather\\n        </a>\\n       </li>\\n       <li>\\n        <a href=\"http://www.spc.noaa.gov/obswx/maps/\">\\n         Upper Air\\n        </a>\\n       </li>\\n       <li>\\n        <a href=\" http://www.ndbc.noaa.gov/\">\\n         Marine and Buoy Reports\\n        </a>\\n       </li>\\n       <li>\\n        <a href=\"http://www.nohrsc.noaa.gov/interactive/html/map.html\">\\n         Snow Cover\\n        </a>\\n       </li>\\n       <li>\\n        <a href=\" http://www.weather.gov/satellite\">\\n         Satellite\\n        </a>\\n       </li>\\n       <li>\\n        <a href=\" http://www.swpc.noaa.gov/\">\\n         Space Weather\\n        </a>\\n       </li>\\n       <li>\\n        <a href=\"http://www.weather.gov/pr\">\\n         International Observations\\n        </a>\\n       </li>\\n      </ul>\\n     </div>\\n    </div>\\n    <div class=\"sitemap-section\">\\n     <div class=\"panel-heading\">\\n      <a class=\"sitemap-section-heading\" href=\"http://weather.gov/forecastmaps\">\\n       FORECAST\\n      </a>\\n      <button class=\"menu-toggle pull-right\" data-target=\"#sitemap-4\" data-toggle=\"collapse\" type=\"button\">\\n       <span class=\"sr-only\">\\n        Toggle menu\\n       </span>\\n       <span class=\"icon-bar\">\\n       </span>\\n       <span class=\"icon-bar\">\\n       </span>\\n       <span class=\"icon-bar\">\\n       </span>\\n      </button>\\n     </div>\\n     <div class=\"sitemap-section-body panel-body collapsable collapse\" id=\"sitemap-4\">\\n      <ul class=\"list-unstyled\">\\n       <li>\\n        <a href=\" http://www.weather.gov/\">\\n         Local Forecast\\n        </a>\\n       </li>\\n       <li>\\n        <a href=\"http://www.weather.gov/pr\">\\n         International Forecasts\\n        </a>\\n       </li>\\n       <li>\\n        <a href=\" http://www.spc.noaa.gov/\">\\n         Severe Weather\\n        </a>\\n       </li>\\n       <li>\\n        <a href=\" http://www.wpc.ncep.noaa.gov/\">\\n         Current Outlook Maps\\n        </a>\\n       </li>\\n       <li>\\n        <a href=\"http://www.cpc.ncep.noaa.gov/products/Drought\">\\n         Drought\\n        </a>\\n       </li>\\n       <li>\\n        <a href=\"http://www.weather.gov/fire\">\\n         Fire Weather\\n        </a>\\n       </li>\\n       <li>\\n        <a href=\" http://www.wpc.ncep.noaa.gov/\">\\n         Fronts/Precipitation Maps\\n        </a>\\n       </li>\\n       <li>\\n        <a href=\" http://www.nws.noaa.gov/forecasts/graphical/\">\\n         Current Graphical Forecast Maps\\n        </a>\\n       </li>\\n       <li>\\n        <a href=\"http://water.weather.gov/ahps/forecasts.php\">\\n         Rivers\\n        </a>\\n       </li>\\n       <li>\\n        <a href=\" http://www.nws.noaa.gov/om/marine/home.htm\">\\n         Marine\\n        </a>\\n       </li>\\n       <li>\\n        <a href=\"http://www.opc.ncep.noaa.gov/marine_areas.php\">\\n         Offshore and High Seas\\n        </a>\\n       </li>\\n       <li>\\n        <a href=\" http://www.nhc.noaa.gov/\">\\n         Hurricanes\\n        </a>\\n       </li>\\n       <li>\\n        <a href=\" http://aviationweather.gov\">\\n         Aviation Weather\\n        </a>\\n       </li>\\n       <li>\\n        <a href=\"http://www.cpc.ncep.noaa.gov/products/OUTLOOKS_index.shtml\">\\n         Climatic Outlook\\n        </a>\\n       </li>\\n      </ul>\\n     </div>\\n    </div>\\n    <div class=\"sitemap-section\">\\n     <div class=\"panel-heading\">\\n      <a class=\"sitemap-section-heading\" href=\"http://www.weather.gov/informationcenter\">\\n       INFORMATION CENTER\\n      </a>\\n      <button class=\"menu-toggle pull-right\" data-target=\"#sitemap-5\" data-toggle=\"collapse\" type=\"button\">\\n       <span class=\"sr-only\">\\n        Toggle menu\\n       </span>\\n       <span class=\"icon-bar\">\\n       </span>\\n       <span class=\"icon-bar\">\\n       </span>\\n       <span class=\"icon-bar\">\\n       </span>\\n      </button>\\n     </div>\\n     <div class=\"sitemap-section-body panel-body collapsable collapse\" id=\"sitemap-5\">\\n      <ul class=\"list-unstyled\">\\n       <li>\\n        <a href=\" http://www.spaceweather.gov\">\\n         Space Weather\\n        </a>\\n       </li>\\n       <li>\\n        <a href=\"http://www.weather.gov/briefing/\">\\n         Daily Briefing\\n        </a>\\n       </li>\\n       <li>\\n        <a href=\" http://www.nws.noaa.gov/om/marine/home.htm\">\\n         Marine\\n        </a>\\n       </li>\\n       <li>\\n        <a href=\"http://www.nws.noaa.gov/climate\">\\n         Climate\\n        </a>\\n       </li>\\n       <li>\\n        <a href=\"http://www.weather.gov/fire\">\\n         Fire Weather\\n        </a>\\n       </li>\\n       <li>\\n        <a href=\" http://www.aviationweather.gov/\">\\n         Aviation\\n        </a>\\n       </li>\\n       <li>\\n        <a href=\"http://mag.ncep.noaa.gov/\">\\n         Forecast Models\\n        </a>\\n       </li>\\n       <li>\\n        <a href=\"http://water.weather.gov/ahps/\">\\n         Water\\n        </a>\\n       </li>\\n       <li>\\n        <a href=\"http://www.nws.noaa.gov/gis\">\\n         GIS\\n        </a>\\n       </li>\\n       <li>\\n        <a href=\" http://www.nws.noaa.gov/om/coop/\">\\n         Cooperative Observers\\n        </a>\\n       </li>\\n       <li>\\n        <a href=\"https://www.weather.gov/skywarn/\">\\n         Storm Spotters\\n        </a>\\n       </li>\\n       <li>\\n        <a href=\"http://www.tsunami.gov\">\\n         Tsunami\\n        </a>\\n       </li>\\n       <li>\\n        <a href=\"http://water.noaa.gov/\">\\n         National Water Center\\n        </a>\\n       </li>\\n       <li>\\n        <a href=\"http://www.weather.gov/pr\">\\n         International Weather\\n        </a>\\n       </li>\\n      </ul>\\n     </div>\\n    </div>\\n    <div class=\"sitemap-section\">\\n     <div class=\"panel-heading\">\\n      <a class=\"sitemap-section-heading\" href=\"http://weather.gov/safety\">\\n       WEATHER SAFETY\\n      </a>\\n      <button class=\"menu-toggle pull-right\" data-target=\"#sitemap-6\" data-toggle=\"collapse\" type=\"button\">\\n       <span class=\"sr-only\">\\n        Toggle menu\\n       </span>\\n       <span class=\"icon-bar\">\\n       </span>\\n       <span class=\"icon-bar\">\\n       </span>\\n       <span class=\"icon-bar\">\\n       </span>\\n      </button>\\n     </div>\\n     <div class=\"sitemap-section-body panel-body collapsable collapse\" id=\"sitemap-6\">\\n      <ul class=\"list-unstyled\">\\n       <li>\\n        <a href=\"http://www.weather.gov/nwr/\">\\n         NOAA Weather Radio\\n        </a>\\n       </li>\\n       <li>\\n        <a href=\"http://www.weather.gov/stormready/\">\\n         StormReady\\n        </a>\\n       </li>\\n       <li>\\n        <a href=\"http://www.nws.noaa.gov/om/heat/index.shtml\">\\n         Heat\\n        </a>\\n       </li>\\n       <li>\\n        <a href=\" http://www.lightningsafety.noaa.gov/\">\\n         Lightning\\n        </a>\\n       </li>\\n       <li>\\n        <a href=\" http://www.nhc.noaa.gov/prepare/\">\\n         Hurricanes\\n        </a>\\n       </li>\\n       <li>\\n        <a href=\"http://www.nws.noaa.gov/om/thunderstorm/\">\\n         Thunderstorms\\n        </a>\\n       </li>\\n       <li>\\n        <a href=\"http://www.nws.noaa.gov/os/tornado/\">\\n         Tornadoes\\n        </a>\\n       </li>\\n       <li>\\n        <a href=\" http://www.ripcurrents.noaa.gov/\">\\n         Rip Currents\\n        </a>\\n       </li>\\n       <li>\\n        <a href=\"http://www.floodsafety.noaa.gov/\">\\n         Floods\\n        </a>\\n       </li>\\n       <li>\\n        <a href=\" http://www.weather.gov/om/winter/index.shtml\">\\n         Winter Weather\\n        </a>\\n       </li>\\n       <li>\\n        <a href=\"http://www.nws.noaa.gov/om/heat/uv.shtml\">\\n         Ultra Violet Radiation\\n        </a>\\n       </li>\\n       <li>\\n        <a href=\" http://www.weather.gov/airquality/\">\\n         Air Quality\\n        </a>\\n       </li>\\n       <li>\\n        <a href=\" http://www.weather.gov/om/hazstats.shtml\">\\n         Damage/Fatality/Injury Statistics\\n        </a>\\n       </li>\\n       <li>\\n        <a href=\" http://www.redcross.org/\">\\n         Red Cross\\n        </a>\\n       </li>\\n       <li>\\n        <a href=\" http://www.fema.gov/\">\\n         Federal Emergency Management Agency (FEMA)\\n        </a>\\n       </li>\\n       <li>\\n        <a href=\" http://www.weather.gov/om/brochures.shtml\">\\n         Brochures\\n        </a>\\n       </li>\\n       <li>\\n        <a href=\"http://www.nws.noaa.gov/os/marine/safeboating/\">\\n         Safe Boating\\n        </a>\\n       </li>\\n      </ul>\\n     </div>\\n    </div>\\n    <div class=\"sitemap-section\">\\n     <div class=\"panel-heading\">\\n      <a class=\"sitemap-section-heading\" href=\"http://weather.gov/news\">\\n       NEWS\\n      </a>\\n      <button class=\"menu-toggle pull-right\" data-target=\"#sitemap-7\" data-toggle=\"collapse\" type=\"button\">\\n       <span class=\"sr-only\">\\n        Toggle menu\\n       </span>\\n       <span class=\"icon-bar\">\\n       </span>\\n       <span class=\"icon-bar\">\\n       </span>\\n       <span class=\"icon-bar\">\\n       </span>\\n      </button>\\n     </div>\\n     <div class=\"sitemap-section-body panel-body collapsable collapse\" id=\"sitemap-7\">\\n      <ul class=\"list-unstyled\">\\n       <li>\\n        <a href=\" http://weather.gov/news\">\\n         Newsroom\\n        </a>\\n       </li>\\n       <li>\\n        <a href=\" http://weather.gov/socialmedia\">\\n         Social Media\\n        </a>\\n       </li>\\n       <li>\\n        <a href=\"http://www.nws.noaa.gov/com/weatherreadynation/calendar.html\">\\n         Events\\n        </a>\\n       </li>\\n       <li>\\n        <a href=\" http://www.weather.gov/om/brochures.shtml\">\\n         Pubs/Brochures/Booklets\\n        </a>\\n       </li>\\n      </ul>\\n     </div>\\n    </div>\\n    <div class=\"sitemap-section\">\\n     <div class=\"panel-heading\">\\n      <a class=\"sitemap-section-heading\" href=\"http://weather.gov/owlie\">\\n       EDUCATION\\n      </a>\\n      <button class=\"menu-toggle pull-right\" data-target=\"#sitemap-8\" data-toggle=\"collapse\" type=\"button\">\\n       <span class=\"sr-only\">\\n        Toggle menu\\n       </span>\\n       <span class=\"icon-bar\">\\n       </span>\\n       <span class=\"icon-bar\">\\n       </span>\\n       <span class=\"icon-bar\">\\n       </span>\\n      </button>\\n     </div>\\n     <div class=\"sitemap-section-body panel-body collapsable collapse\" id=\"sitemap-8\">\\n      <ul class=\"list-unstyled\">\\n       <li>\\n        <a href=\"http://weather.gov/owlie\">\\n         NWS Education Home\\n        </a>\\n       </li>\\n       <li>\\n        <a href=\"http://www.nws.noaa.gov/com/weatherreadynation/force.html\">\\n         Be A Force of Nature\\n        </a>\\n       </li>\\n       <li>\\n        <a href=\" http://www.education.noaa.gov/Weather_and_Atmosphere/\">\\n         NOAA Education Resources\\n        </a>\\n       </li>\\n       <li>\\n        <a href=\" http://www.weather.gov/glossary/\">\\n         Glossary\\n        </a>\\n       </li>\\n       <li>\\n        <a href=\"https://www.weather.gov/jetstream/\">\\n         JetStream\\n        </a>\\n       </li>\\n       <li>\\n        <a href=\" http://www.weather.gov/training/\">\\n         NWS Training Portal\\n        </a>\\n       </li>\\n       <li>\\n        <a href=\"https://library.noaa.gov/\">\\n         NOAA Library\\n        </a>\\n       </li>\\n       <li>\\n        <a href=\"http://weather.gov/owlie\">\\n         For Students, Parents and Teachers\\n        </a>\\n       </li>\\n       <li>\\n        <a href=\"http://www.weather.gov/owlie/publication_brochures\">\\n         Brochures\\n        </a>\\n       </li>\\n      </ul>\\n     </div>\\n    </div>\\n    <div class=\"sitemap-section\">\\n     <div class=\"panel-heading\">\\n      <a class=\"sitemap-section-heading\" href=\"http://weather.gov/about\">\\n       ABOUT\\n      </a>\\n      <button class=\"menu-toggle pull-right\" data-target=\"#sitemap-9\" data-toggle=\"collapse\" type=\"button\">\\n       <span class=\"sr-only\">\\n        Toggle menu\\n       </span>\\n       <span class=\"icon-bar\">\\n       </span>\\n       <span class=\"icon-bar\">\\n       </span>\\n       <span class=\"icon-bar\">\\n       </span>\\n      </button>\\n     </div>\\n     <div class=\"sitemap-section-body panel-body collapsable collapse\" id=\"sitemap-9\">\\n      <ul class=\"list-unstyled\">\\n       <li>\\n        <a href=\"http://weather.gov/organization\">\\n         Organization\\n        </a>\\n       </li>\\n       <li>\\n        <a href=\" http://www.weather.gov/sp/\">\\n         Strategic Plan\\n        </a>\\n       </li>\\n       <li>\\n        <a href=\"https://sites.google.com/a/noaa.gov/nws-best-practices/\">\\n         For NWS Employees\\n        </a>\\n       </li>\\n       <li>\\n        <a href=\"https://www.weather.gov/international/\">\\n         International\\n        </a>\\n       </li>\\n       <li>\\n        <a href=\"http://www.ncep.noaa.gov/\">\\n         National Centers\\n        </a>\\n       </li>\\n       <li>\\n        <a href=\" http://www.weather.gov/tg/\">\\n         Products and Services\\n        </a>\\n       </li>\\n       <li>\\n        <a href=\"http://www.weather.gov/careers/\">\\n         Careers\\n        </a>\\n       </li>\\n       <li>\\n        <a href=\" http://www.weather.gov/glossary/\">\\n         Glossary\\n        </a>\\n       </li>\\n       <li>\\n        <a href=\"http://weather.gov/contact\">\\n         Contact Us\\n        </a>\\n       </li>\\n      </ul>\\n     </div>\\n    </div>\\n   </div>\\n  </div>\\n </div>\\n <!-- legal footer area -->\\n <div class=\"footer-legal\">\\n  <div class=\"col-xs-12 col-sm-2 col-md-2\" id=\"footerLogo\">\\n   <a href=\"http://www.usa.gov\">\\n    <img alt=\"usa.gov\" height=\"30\" src=\"/css/images/usa_gov.png\" width=\"110\"/>\\n   </a>\\n  </div>\\n  <div class=\"col-xs-12 col-sm-4 col-md-4\">\\n   <ul class=\"list-unstyled footer-legal-content\">\\n    <li>\\n     <a href=\"http://www.commerce.gov\">\\n      US Dept of Commerce\\n     </a>\\n    </li>\\n    <li>\\n     <a href=\"http://www.noaa.gov\">\\n      National Oceanic and Atmospheric Administration\\n     </a>\\n    </li>\\n    <li>\\n     <a href=\"http://www.weather.gov\">\\n      National Weather Service\\n     </a>\\n    </li>\\n    <li>\\n     <a href=\"http://www.weather.gov/ffc\">\\n      Peachtree City, GA\\n     </a>\\n    </li>\\n    <li>\\n     <br>\\n      <a href=\"mailto:sr-ffc.webmaster@noaa.gov\">\\n       Comments? Questions? Please Contact Us.\\n      </a>\\n     </br>\\n    </li>\\n   </ul>\\n  </div>\\n  <div class=\"col-xs-12 col-sm-3 col-md-3\">\\n   <ul class=\"list-unstyled\">\\n    <li>\\n     <a href=\"http://www.weather.gov/disclaimer\">\\n      Disclaimer\\n     </a>\\n    </li>\\n    <li>\\n     <a href=\"http://www.cio.noaa.gov/services_programs/info_quality.html\">\\n      Information Quality\\n     </a>\\n    </li>\\n    <li>\\n     <a href=\"http://www.weather.gov/help\">\\n      Help\\n     </a>\\n    </li>\\n    <li>\\n     <a href=\"http://www.weather.gov/glossary\">\\n      Glossary\\n     </a>\\n    </li>\\n   </ul>\\n  </div>\\n  <div class=\"col-xs-12 col-sm-3 col-md-3\">\\n   <ul class=\"list-unstyled\">\\n    <li>\\n     <a href=\"http://www.weather.gov/privacy\">\\n      Privacy Policy\\n     </a>\\n    </li>\\n    <li>\\n     <a href=\"http://www.rdc.noaa.gov/~foia\">\\n      Freedom of Information Act (FOIA)\\n     </a>\\n    </li>\\n    <li>\\n     <a href=\"http://www.weather.gov/about\">\\n      About Us\\n     </a>\\n    </li>\\n    <li>\\n     <a href=\"http://www.weather.gov/careers\">\\n      Career Opportunities\\n     </a>\\n    </li>\\n   </ul>\\n  </div>\\n </div>\\n</footer>\\n'"
      ]
     },
     "execution_count": 18,
     "metadata": {},
     "output_type": "execute_result"
    }
   ],
   "source": [
    "soup.prettify()"
   ]
  },
  {
   "cell_type": "code",
   "execution_count": 20,
   "metadata": {},
   "outputs": [],
   "source": [
    "#list(soup.children)"
   ]
  },
  {
   "cell_type": "code",
   "execution_count": 21,
   "metadata": {
    "collapsed": true
   },
   "outputs": [],
   "source": [
    "seven_day = soup.find(id=\"seven-day-forecast\")"
   ]
  },
  {
   "cell_type": "code",
   "execution_count": 22,
   "metadata": {},
   "outputs": [
    {
     "data": {
      "text/plain": [
       "<div class=\"panel panel-default\" id=\"seven-day-forecast\">\n",
       "<div class=\"panel-heading\">\n",
       "<b>Extended Forecast for</b>\n",
       "<h2 class=\"panel-title\">\n",
       "\t    \t    4 Miles SSE Buford GA\t</h2>\n",
       "</div>\n",
       "<div class=\"panel-body\" id=\"seven-day-forecast-body\">\n",
       "<div id=\"seven-day-forecast-container\"><ul class=\"list-unstyled\" id=\"seven-day-forecast-list\"><li class=\"forecast-tombstone\">\n",
       "<div class=\"tombstone-container\">\n",
       "<p class=\"period-name\">Today<br/><br/></p>\n",
       "<p><img alt=\"Today: Mostly sunny, with a high near 72. Northwest wind 10 to 15 mph, with gusts as high as 20 mph. \" class=\"forecast-icon\" src=\"newimages/medium/sct.png\" title=\"Today: Mostly sunny, with a high near 72. Northwest wind 10 to 15 mph, with gusts as high as 20 mph. \"/></p><p class=\"short-desc\">Mostly Sunny</p><p class=\"temp temp-high\">High: 72 °F</p></div></li><li class=\"forecast-tombstone\">\n",
       "<div class=\"tombstone-container\">\n",
       "<p class=\"period-name\">Tonight<br/><br/></p>\n",
       "<p><img alt=\"Tonight: Clear, with a low around 51. West wind 5 to 10 mph, with gusts as high as 15 mph. \" class=\"forecast-icon\" src=\"newimages/medium/nskc.png\" title=\"Tonight: Clear, with a low around 51. West wind 5 to 10 mph, with gusts as high as 15 mph. \"/></p><p class=\"short-desc\">Clear</p><p class=\"temp temp-low\">Low: 51 °F</p></div></li><li class=\"forecast-tombstone\">\n",
       "<div class=\"tombstone-container\">\n",
       "<p class=\"period-name\">Saturday<br/><br/></p>\n",
       "<p><img alt=\"Saturday: Sunny, with a high near 74. West wind 5 to 15 mph, with gusts as high as 25 mph. \" class=\"forecast-icon\" src=\"newimages/medium/few.png\" title=\"Saturday: Sunny, with a high near 74. West wind 5 to 15 mph, with gusts as high as 25 mph. \"/></p><p class=\"short-desc\">Sunny</p><p class=\"temp temp-high\">High: 74 °F</p></div></li><li class=\"forecast-tombstone\">\n",
       "<div class=\"tombstone-container\">\n",
       "<p class=\"period-name\">Saturday<br/>Night</p>\n",
       "<p><img alt=\"Saturday Night: Mostly clear, with a low around 47. Northwest wind 10 to 15 mph. \" class=\"forecast-icon\" src=\"newimages/medium/nfew.png\" title=\"Saturday Night: Mostly clear, with a low around 47. Northwest wind 10 to 15 mph. \"/></p><p class=\"short-desc\">Mostly Clear</p><p class=\"temp temp-low\">Low: 47 °F</p></div></li><li class=\"forecast-tombstone\">\n",
       "<div class=\"tombstone-container\">\n",
       "<p class=\"period-name\">Sunday<br/><br/></p>\n",
       "<p><img alt=\"Sunday: Sunny, with a high near 69. North wind around 10 mph. \" class=\"forecast-icon\" src=\"newimages/medium/skc.png\" title=\"Sunday: Sunny, with a high near 69. North wind around 10 mph. \"/></p><p class=\"short-desc\">Sunny</p><p class=\"temp temp-high\">High: 69 °F</p></div></li><li class=\"forecast-tombstone\">\n",
       "<div class=\"tombstone-container\">\n",
       "<p class=\"period-name\">Sunday<br/>Night</p>\n",
       "<p><img alt=\"Sunday Night: Clear, with a low around 45.\" class=\"forecast-icon\" src=\"newimages/medium/nskc.png\" title=\"Sunday Night: Clear, with a low around 45.\"/></p><p class=\"short-desc\">Clear</p><p class=\"temp temp-low\">Low: 45 °F</p></div></li><li class=\"forecast-tombstone\">\n",
       "<div class=\"tombstone-container\">\n",
       "<p class=\"period-name\">Monday<br/><br/></p>\n",
       "<p><img alt=\"Monday: Sunny, with a high near 74.\" class=\"forecast-icon\" src=\"newimages/medium/skc.png\" title=\"Monday: Sunny, with a high near 74.\"/></p><p class=\"short-desc\">Sunny</p><p class=\"temp temp-high\">High: 74 °F</p></div></li><li class=\"forecast-tombstone\">\n",
       "<div class=\"tombstone-container\">\n",
       "<p class=\"period-name\">Monday<br/>Night</p>\n",
       "<p><img alt=\"Monday Night: Clear, with a low around 51.\" class=\"forecast-icon\" src=\"newimages/medium/nskc.png\" title=\"Monday Night: Clear, with a low around 51.\"/></p><p class=\"short-desc\">Clear</p><p class=\"temp temp-low\">Low: 51 °F</p></div></li><li class=\"forecast-tombstone\">\n",
       "<div class=\"tombstone-container\">\n",
       "<p class=\"period-name\">Tuesday<br/><br/></p>\n",
       "<p><img alt=\"Tuesday: Sunny, with a high near 79.\" class=\"forecast-icon\" src=\"newimages/medium/skc.png\" title=\"Tuesday: Sunny, with a high near 79.\"/></p><p class=\"short-desc\">Sunny</p><p class=\"temp temp-high\">High: 79 °F</p></div></li></ul></div>\n",
       "<script type=\"text/javascript\">\n",
       "// equalize forecast heights\n",
       "$(function () {\n",
       "\tvar maxh = 0;\n",
       "\t$(\".forecast-tombstone .short-desc\").each(function () {\n",
       "\t\tvar h = $(this).height();\n",
       "\t\tif (h > maxh) { maxh = h; }\n",
       "\t});\n",
       "\t$(\".forecast-tombstone .short-desc\").height(maxh);\n",
       "});\n",
       "</script> </div>\n",
       "</div>"
      ]
     },
     "execution_count": 22,
     "metadata": {},
     "output_type": "execute_result"
    }
   ],
   "source": [
    "seven_day"
   ]
  },
  {
   "cell_type": "markdown",
   "metadata": {},
   "source": [
    "#### Get tonight's forcast"
   ]
  },
  {
   "cell_type": "code",
   "execution_count": 25,
   "metadata": {},
   "outputs": [],
   "source": [
    "forcast = seven_day.find_all(class_= \"tombstone-container\")"
   ]
  },
  {
   "cell_type": "markdown",
   "metadata": {},
   "source": [
    "### Extract weather information for one day"
   ]
  },
  {
   "cell_type": "code",
   "execution_count": 28,
   "metadata": {},
   "outputs": [],
   "source": [
    "tonight = forcast[0]"
   ]
  },
  {
   "cell_type": "code",
   "execution_count": 29,
   "metadata": {},
   "outputs": [
    {
     "name": "stdout",
     "output_type": "stream",
     "text": [
      "<div class=\"tombstone-container\">\n",
      " <p class=\"period-name\">\n",
      "  Today\n",
      "  <br/>\n",
      "  <br/>\n",
      " </p>\n",
      " <p>\n",
      "  <img alt=\"Today: Mostly sunny, with a high near 72. Northwest wind 10 to 15 mph, with gusts as high as 20 mph. \" class=\"forecast-icon\" src=\"newimages/medium/sct.png\" title=\"Today: Mostly sunny, with a high near 72. Northwest wind 10 to 15 mph, with gusts as high as 20 mph. \"/>\n",
      " </p>\n",
      " <p class=\"short-desc\">\n",
      "  Mostly Sunny\n",
      " </p>\n",
      " <p class=\"temp temp-high\">\n",
      "  High: 72 °F\n",
      " </p>\n",
      "</div>\n"
     ]
    }
   ],
   "source": [
    "print(tonight.prettify())"
   ]
  },
  {
   "cell_type": "code",
   "execution_count": 33,
   "metadata": {},
   "outputs": [
    {
     "data": {
      "text/plain": [
       "'Today'"
      ]
     },
     "execution_count": 33,
     "metadata": {},
     "output_type": "execute_result"
    }
   ],
   "source": [
    "tonight.find_all('p')[0].text"
   ]
  },
  {
   "cell_type": "markdown",
   "metadata": {},
   "source": [
    "#### Get tonight's short desc and tempeture"
   ]
  },
  {
   "cell_type": "code",
   "execution_count": 43,
   "metadata": {},
   "outputs": [],
   "source": [
    "Period = tonight.find(class_=\"period-name\").get_text()\n",
    "Desc = tonight.find(class_=\"short-desc\").get_text()\n",
    "Temp = tonight.find(class_=\"temp\").get_text()"
   ]
  },
  {
   "cell_type": "code",
   "execution_count": 44,
   "metadata": {},
   "outputs": [
    {
     "name": "stdout",
     "output_type": "stream",
     "text": [
      "Today\n",
      "Mostly Sunny\n",
      "High: 72 °F\n"
     ]
    }
   ],
   "source": [
    "print(Period)\n",
    "print(Desc)\n",
    "print(Temp)"
   ]
  },
  {
   "cell_type": "markdown",
   "metadata": {},
   "source": [
    "#### Get image title for long descriptions"
   ]
  },
  {
   "cell_type": "code",
   "execution_count": 51,
   "metadata": {},
   "outputs": [
    {
     "data": {
      "text/plain": [
       "'Today: Mostly sunny, with a high near 72. Northwest wind 10 to 15 mph, with gusts as high as 20 mph. '"
      ]
     },
     "execution_count": 51,
     "metadata": {},
     "output_type": "execute_result"
    }
   ],
   "source": [
    "Img = tonight.find('img')\n",
    "Img['title']"
   ]
  },
  {
   "cell_type": "markdown",
   "metadata": {},
   "source": [
    "### Extract all the informaton at once"
   ]
  },
  {
   "cell_type": "code",
   "execution_count": 67,
   "metadata": {},
   "outputs": [],
   "source": [
    "Period = []\n",
    "Days = seven_day.select(\".tombstone-container .period-name\")\n",
    "for day in Days:\n",
    "    Period.append(day.get_text())\n",
    "    \n",
    "ShorDesc = []\n",
    "Desc = seven_day.select(\".tombstone-container .short-desc\")\n",
    "for sd in Desc:\n",
    "    ShorDesc.append(sd.get_text())\n",
    "\n",
    "Temp = []\n",
    "Temprature = seven_day.select(\".tombstone-container .temp\")\n",
    "for t in Temprature:\n",
    "    Temp.append(t.get_text())\n",
    "    \n",
    "Title = []\n",
    "Img = seven_day.select(\".tombstone-container img\")\n",
    "for i in Img:\n",
    "    Title.append(i['title'])\n",
    "    "
   ]
  },
  {
   "cell_type": "markdown",
   "metadata": {},
   "source": [
    "### Combining a data in to a Pandas Dataframe"
   ]
  },
  {
   "cell_type": "code",
   "execution_count": 81,
   "metadata": {
    "collapsed": true
   },
   "outputs": [],
   "source": [
    "import pandas as pd"
   ]
  },
  {
   "cell_type": "code",
   "execution_count": 82,
   "metadata": {},
   "outputs": [],
   "source": [
    "weather = pd.DataFrame({\"Title\":Title,\"Short Desc\":ShorDesc,\"Temp\":Temp,\"Period\":Period})"
   ]
  },
  {
   "cell_type": "code",
   "execution_count": 83,
   "metadata": {},
   "outputs": [
    {
     "data": {
      "text/html": [
       "<div>\n",
       "<style>\n",
       "    .dataframe thead tr:only-child th {\n",
       "        text-align: right;\n",
       "    }\n",
       "\n",
       "    .dataframe thead th {\n",
       "        text-align: left;\n",
       "    }\n",
       "\n",
       "    .dataframe tbody tr th {\n",
       "        vertical-align: top;\n",
       "    }\n",
       "</style>\n",
       "<table border=\"1\" class=\"dataframe\">\n",
       "  <thead>\n",
       "    <tr style=\"text-align: right;\">\n",
       "      <th></th>\n",
       "      <th>Period</th>\n",
       "      <th>Short Desc</th>\n",
       "      <th>Temp</th>\n",
       "      <th>Title</th>\n",
       "    </tr>\n",
       "  </thead>\n",
       "  <tbody>\n",
       "    <tr>\n",
       "      <th>0</th>\n",
       "      <td>Today</td>\n",
       "      <td>Mostly Sunny</td>\n",
       "      <td>High: 72 °F</td>\n",
       "      <td>Today: Mostly sunny, with a high near 72. Nort...</td>\n",
       "    </tr>\n",
       "    <tr>\n",
       "      <th>1</th>\n",
       "      <td>Tonight</td>\n",
       "      <td>Clear</td>\n",
       "      <td>Low: 51 °F</td>\n",
       "      <td>Tonight: Clear, with a low around 51. West win...</td>\n",
       "    </tr>\n",
       "    <tr>\n",
       "      <th>2</th>\n",
       "      <td>Saturday</td>\n",
       "      <td>Sunny</td>\n",
       "      <td>High: 74 °F</td>\n",
       "      <td>Saturday: Sunny, with a high near 74. West win...</td>\n",
       "    </tr>\n",
       "    <tr>\n",
       "      <th>3</th>\n",
       "      <td>SaturdayNight</td>\n",
       "      <td>Mostly Clear</td>\n",
       "      <td>Low: 47 °F</td>\n",
       "      <td>Saturday Night: Mostly clear, with a low aroun...</td>\n",
       "    </tr>\n",
       "    <tr>\n",
       "      <th>4</th>\n",
       "      <td>Sunday</td>\n",
       "      <td>Sunny</td>\n",
       "      <td>High: 69 °F</td>\n",
       "      <td>Sunday: Sunny, with a high near 69. North wind...</td>\n",
       "    </tr>\n",
       "    <tr>\n",
       "      <th>5</th>\n",
       "      <td>SundayNight</td>\n",
       "      <td>Clear</td>\n",
       "      <td>Low: 45 °F</td>\n",
       "      <td>Sunday Night: Clear, with a low around 45.</td>\n",
       "    </tr>\n",
       "    <tr>\n",
       "      <th>6</th>\n",
       "      <td>Monday</td>\n",
       "      <td>Sunny</td>\n",
       "      <td>High: 74 °F</td>\n",
       "      <td>Monday: Sunny, with a high near 74.</td>\n",
       "    </tr>\n",
       "    <tr>\n",
       "      <th>7</th>\n",
       "      <td>MondayNight</td>\n",
       "      <td>Clear</td>\n",
       "      <td>Low: 51 °F</td>\n",
       "      <td>Monday Night: Clear, with a low around 51.</td>\n",
       "    </tr>\n",
       "    <tr>\n",
       "      <th>8</th>\n",
       "      <td>Tuesday</td>\n",
       "      <td>Sunny</td>\n",
       "      <td>High: 79 °F</td>\n",
       "      <td>Tuesday: Sunny, with a high near 79.</td>\n",
       "    </tr>\n",
       "  </tbody>\n",
       "</table>\n",
       "</div>"
      ],
      "text/plain": [
       "          Period    Short Desc         Temp  \\\n",
       "0          Today  Mostly Sunny  High: 72 °F   \n",
       "1        Tonight         Clear   Low: 51 °F   \n",
       "2       Saturday         Sunny  High: 74 °F   \n",
       "3  SaturdayNight  Mostly Clear   Low: 47 °F   \n",
       "4         Sunday         Sunny  High: 69 °F   \n",
       "5    SundayNight         Clear   Low: 45 °F   \n",
       "6         Monday         Sunny  High: 74 °F   \n",
       "7    MondayNight         Clear   Low: 51 °F   \n",
       "8        Tuesday         Sunny  High: 79 °F   \n",
       "\n",
       "                                               Title  \n",
       "0  Today: Mostly sunny, with a high near 72. Nort...  \n",
       "1  Tonight: Clear, with a low around 51. West win...  \n",
       "2  Saturday: Sunny, with a high near 74. West win...  \n",
       "3  Saturday Night: Mostly clear, with a low aroun...  \n",
       "4  Sunday: Sunny, with a high near 69. North wind...  \n",
       "5         Sunday Night: Clear, with a low around 45.  \n",
       "6                Monday: Sunny, with a high near 74.  \n",
       "7         Monday Night: Clear, with a low around 51.  \n",
       "8               Tuesday: Sunny, with a high near 79.  "
      ]
     },
     "execution_count": 83,
     "metadata": {},
     "output_type": "execute_result"
    }
   ],
   "source": [
    "weather"
   ]
  },
  {
   "cell_type": "code",
   "execution_count": null,
   "metadata": {
    "collapsed": true
   },
   "outputs": [],
   "source": []
  }
 ],
 "metadata": {
  "kernelspec": {
   "display_name": "Python 3",
   "language": "python",
   "name": "python3"
  },
  "language_info": {
   "codemirror_mode": {
    "name": "ipython",
    "version": 3
   },
   "file_extension": ".py",
   "mimetype": "text/x-python",
   "name": "python",
   "nbconvert_exporter": "python",
   "pygments_lexer": "ipython3",
   "version": "3.6.1"
  }
 },
 "nbformat": 4,
 "nbformat_minor": 2
}
