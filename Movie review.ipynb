{
 "cells": [
  {
   "cell_type": "markdown",
   "metadata": {},
   "source": [
    "# Movie review polarity dataset"
   ]
  },
  {
   "cell_type": "markdown",
   "metadata": {},
   "source": [
    "### Unzip and extract all the files from Movie review polarity dataset"
   ]
  },
  {
   "cell_type": "code",
   "execution_count": 24,
   "metadata": {
    "collapsed": true
   },
   "outputs": [],
   "source": [
    "import tarfile\n",
    "tar = tarfile.open(\"review_polarity.tar.gz\", \"r:gz\")\n",
    "tar.extractall()\n",
    "tar.close()"
   ]
  },
  {
   "cell_type": "markdown",
   "metadata": {},
   "source": [
    "##### Review data is downloaded and available in current working directroy in the folder /txt_sentoken with two sub directories containing the text \"neg\" and \"pos\" for negative and positive reivews"
   ]
  },
  {
   "cell_type": "code",
   "execution_count": 199,
   "metadata": {},
   "outputs": [],
   "source": [
    "# load one file\n",
    "filename = 'txt_sentoken/neg/cv000_29416.txt'\n",
    "# open the file as read only\n",
    "file = open(filename, 'r')\n",
    "# read all text\n",
    "text = file.read()\n",
    "# close the file\n",
    "file.close()"
   ]
  },
  {
   "cell_type": "code",
   "execution_count": 200,
   "metadata": {
    "collapsed": true
   },
   "outputs": [],
   "source": [
    "#Turn this process into a function for later use to all the documents in the dataset\n",
    "# load doc into memory\n",
    "def load_doc(filename):\n",
    "    # open the file as read only\n",
    "    file = open(filename, 'r')\n",
    "    # read all text\n",
    "    text = file.read()\n",
    "    # close the file\n",
    "    file.close()\n",
    "    return text"
   ]
  },
  {
   "cell_type": "code",
   "execution_count": 201,
   "metadata": {},
   "outputs": [],
   "source": [
    "from os import listdir\n",
    "\n",
    "# load doc into memory\n",
    "def load_doc(filename):\n",
    "    # open the file as read only\n",
    "    file = open(filename, 'r')\n",
    "    # read all text\n",
    "    text = file.read()\n",
    "    # close the file\n",
    "    file.close()\n",
    "    return text\n",
    "\n",
    "# Load each document in the negative directory\n",
    "def process_doc(directory):    \n",
    "    # walk through all files in the folder\n",
    "    for filename in listdir(directory):\n",
    "        # skip files that do not have the right extension\n",
    "        if not filename.endswith(\".txt\"):\n",
    "            continue\n",
    "        # create the full path of the file to open\n",
    "        path = directory + '/' + filename\n",
    "        # load document\n",
    "        doc = load_doc(path)\n",
    "        #print('Loaded %s' % filename)\n",
    "        \n",
    "# specify directory to load\n",
    "directory = 'txt_sentoken/neg'\n",
    "process_doc(directory)"
   ]
  },
  {
   "cell_type": "markdown",
   "metadata": {},
   "source": [
    "## Split into tokens"
   ]
  },
  {
   "cell_type": "markdown",
   "metadata": {},
   "source": [
    "#### Load one document and split into tokens by white space"
   ]
  },
  {
   "cell_type": "code",
   "execution_count": 202,
   "metadata": {
    "collapsed": true
   },
   "outputs": [],
   "source": [
    "filename = \"txt_sentoken/neg/cv000_29416.txt\"\n",
    "text = load_doc(filename)\n",
    "tokens = text.split()"
   ]
  },
  {
   "cell_type": "code",
   "execution_count": 203,
   "metadata": {},
   "outputs": [
    {
     "name": "stdout",
     "output_type": "stream",
     "text": [
      "['plot', ':', 'two', 'teen', 'couples', 'go', 'to', 'a', 'church', 'party', ',', 'drink', 'and', 'then', 'drive', '.', 'they', 'get', 'into', 'an', 'accident', '.', 'one', 'of', 'the', 'guys', 'dies', ',', 'but', 'his', 'girlfriend', 'continues', 'to', 'see', 'him', 'in', 'her', 'life', ',', 'and', 'has', 'nightmares', '.', \"what's\", 'the', 'deal', '?', 'watch', 'the', 'movie', 'and', '\"', 'sorta', '\"', 'find', 'out', '.', '.', '.', 'critique', ':', 'a', 'mind-fuck', 'movie', 'for', 'the', 'teen', 'generation', 'that', 'touches', 'on', 'a', 'very', 'cool', 'idea', ',', 'but', 'presents', 'it', 'in', 'a', 'very', 'bad', 'package', '.', 'which', 'is', 'what', 'makes', 'this', 'review', 'an', 'even', 'harder', 'one', 'to', 'write', ',', 'since', 'i', 'generally', 'applaud', 'films', 'which', 'attempt', 'to', 'break', 'the', 'mold', ',', 'mess', 'with', 'your', 'head', 'and', 'such', '(', 'lost', 'highway', '&', 'memento', ')', ',', 'but', 'there', 'are', 'good', 'and', 'bad', 'ways', 'of', 'making', 'all', 'types', 'of', 'films', ',', 'and', 'these', 'folks', 'just', \"didn't\", 'snag', 'this', 'one', 'correctly', '.', 'they', 'seem', 'to', 'have', 'taken', 'this', 'pretty', 'neat', 'concept', ',', 'but', 'executed', 'it', 'terribly', '.', 'so', 'what', 'are', 'the', 'problems', 'with', 'the', 'movie', '?', 'well', ',', 'its', 'main', 'problem', 'is', 'that', \"it's\", 'simply', 'too', 'jumbled', '.', 'it', 'starts', 'off', '\"', 'normal', '\"', 'but', 'then', 'downshifts', 'into', 'this', '\"', 'fantasy', '\"', 'world', 'in', 'which', 'you', ',', 'as', 'an', 'audience', 'member', ',', 'have', 'no', 'idea', \"what's\", 'going', 'on', '.', 'there', 'are', 'dreams', ',', 'there', 'are', 'characters', 'coming', 'back', 'from', 'the', 'dead', ',', 'there', 'are', 'others', 'who', 'look', 'like', 'the', 'dead', ',', 'there', 'are', 'strange', 'apparitions', ',', 'there', 'are', 'disappearances', ',', 'there', 'are', 'a', 'looooot', 'of', 'chase', 'scenes', ',', 'there', 'are', 'tons', 'of', 'weird', 'things', 'that', 'happen', ',', 'and', 'most', 'of', 'it', 'is', 'simply', 'not', 'explained', '.', 'now', 'i', 'personally', \"don't\", 'mind', 'trying', 'to', 'unravel', 'a', 'film', 'every', 'now', 'and', 'then', ',', 'but', 'when', 'all', 'it', 'does', 'is', 'give', 'me', 'the', 'same', 'clue', 'over', 'and', 'over', 'again', ',', 'i', 'get', 'kind', 'of', 'fed', 'up', 'after', 'a', 'while', ',', 'which', 'is', 'this', \"film's\", 'biggest', 'problem', '.', \"it's\", 'obviously', 'got', 'this', 'big', 'secret', 'to', 'hide', ',', 'but', 'it', 'seems', 'to', 'want', 'to', 'hide', 'it', 'completely', 'until', 'its', 'final', 'five', 'minutes', '.', 'and', 'do', 'they', 'make', 'things', 'entertaining', ',', 'thrilling', 'or', 'even', 'engaging', ',', 'in', 'the', 'meantime', '?', 'not', 'really', '.', 'the', 'sad', 'part', 'is', 'that', 'the', 'arrow', 'and', 'i', 'both', 'dig', 'on', 'flicks', 'like', 'this', ',', 'so', 'we', 'actually', 'figured', 'most', 'of', 'it', 'out', 'by', 'the', 'half-way', 'point', ',', 'so', 'all', 'of', 'the', 'strangeness', 'after', 'that', 'did', 'start', 'to', 'make', 'a', 'little', 'bit', 'of', 'sense', ',', 'but', 'it', 'still', \"didn't\", 'the', 'make', 'the', 'film', 'all', 'that', 'more', 'entertaining', '.', 'i', 'guess', 'the', 'bottom', 'line', 'with', 'movies', 'like', 'this', 'is', 'that', 'you', 'should', 'always', 'make', 'sure', 'that', 'the', 'audience', 'is', '\"', 'into', 'it', '\"', 'even', 'before', 'they', 'are', 'given', 'the', 'secret', 'password', 'to', 'enter', 'your', 'world', 'of', 'understanding', '.', 'i', 'mean', ',', 'showing', 'melissa', 'sagemiller', 'running', 'away', 'from', 'visions', 'for', 'about', '20', 'minutes', 'throughout', 'the', 'movie', 'is', 'just', 'plain', 'lazy', '!', '!', 'okay', ',', 'we', 'get', 'it', '.', '.', '.', 'there', 'are', 'people', 'chasing', 'her', 'and', 'we', \"don't\", 'know', 'who', 'they', 'are', '.', 'do', 'we', 'really', 'need', 'to', 'see', 'it', 'over', 'and', 'over', 'again', '?', 'how', 'about', 'giving', 'us', 'different', 'scenes', 'offering', 'further', 'insight', 'into', 'all', 'of', 'the', 'strangeness', 'going', 'down', 'in', 'the', 'movie', '?', 'apparently', ',', 'the', 'studio', 'took', 'this', 'film', 'away', 'from', 'its', 'director', 'and', 'chopped', 'it', 'up', 'themselves', ',', 'and', 'it', 'shows', '.', 'there', \"might've\", 'been', 'a', 'pretty', 'decent', 'teen', 'mind-fuck', 'movie', 'in', 'here', 'somewhere', ',', 'but', 'i', 'guess', '\"', 'the', 'suits', '\"', 'decided', 'that', 'turning', 'it', 'into', 'a', 'music', 'video', 'with', 'little', 'edge', ',', 'would', 'make', 'more', 'sense', '.', 'the', 'actors', 'are', 'pretty', 'good', 'for', 'the', 'most', 'part', ',', 'although', 'wes', 'bentley', 'just', 'seemed', 'to', 'be', 'playing', 'the', 'exact', 'same', 'character', 'that', 'he', 'did', 'in', 'american', 'beauty', ',', 'only', 'in', 'a', 'new', 'neighborhood', '.', 'but', 'my', 'biggest', 'kudos', 'go', 'out', 'to', 'sagemiller', ',', 'who', 'holds', 'her', 'own', 'throughout', 'the', 'entire', 'film', ',', 'and', 'actually', 'has', 'you', 'feeling', 'her', \"character's\", 'unraveling', '.', 'overall', ',', 'the', 'film', \"doesn't\", 'stick', 'because', 'it', \"doesn't\", 'entertain', ',', \"it's\", 'confusing', ',', 'it', 'rarely', 'excites', 'and', 'it', 'feels', 'pretty', 'redundant', 'for', 'most', 'of', 'its', 'runtime', ',', 'despite', 'a', 'pretty', 'cool', 'ending', 'and', 'explanation', 'to', 'all', 'of', 'the', 'craziness', 'that', 'came', 'before', 'it', '.', 'oh', ',', 'and', 'by', 'the', 'way', ',', 'this', 'is', 'not', 'a', 'horror', 'or', 'teen', 'slasher', 'flick', '.', '.', '.', \"it's\", 'just', 'packaged', 'to', 'look', 'that', 'way', 'because', 'someone', 'is', 'apparently', 'assuming', 'that', 'the', 'genre', 'is', 'still', 'hot', 'with', 'the', 'kids', '.', 'it', 'also', 'wrapped', 'production', 'two', 'years', 'ago', 'and', 'has', 'been', 'sitting', 'on', 'the', 'shelves', 'ever', 'since', '.', 'whatever', '.', '.', '.', 'skip', 'it', '!', \"where's\", 'joblo', 'coming', 'from', '?', 'a', 'nightmare', 'of', 'elm', 'street', '3', '(', '7/10', ')', '-', 'blair', 'witch', '2', '(', '7/10', ')', '-', 'the', 'crow', '(', '9/10', ')', '-', 'the', 'crow', ':', 'salvation', '(', '4/10', ')', '-', 'lost', 'highway', '(', '10/10', ')', '-', 'memento', '(', '10/10', ')', '-', 'the', 'others', '(', '9/10', ')', '-', 'stir', 'of', 'echoes', '(', '8/10', ')']\n"
     ]
    }
   ],
   "source": [
    "print(tokens)"
   ]
  },
  {
   "cell_type": "markdown",
   "metadata": {},
   "source": [
    "## Clean data"
   ]
  },
  {
   "cell_type": "markdown",
   "metadata": {},
   "source": [
    "### Remove punctuation, nonalphabetic, stopwords, short words"
   ]
  },
  {
   "cell_type": "code",
   "execution_count": 204,
   "metadata": {
    "collapsed": true
   },
   "outputs": [],
   "source": [
    "from nltk.corpus import stopwords\n",
    "import string"
   ]
  },
  {
   "cell_type": "code",
   "execution_count": 205,
   "metadata": {},
   "outputs": [],
   "source": [
    "# remove punctuation from each token\n",
    "table = str.maketrans('', '', string.punctuation)\n",
    "tokens = [w.translate(table) for w in tokens]"
   ]
  },
  {
   "cell_type": "code",
   "execution_count": 206,
   "metadata": {
    "collapsed": true
   },
   "outputs": [],
   "source": [
    "# remove tokens that are not alphabetic\n",
    "tokens = [word for word in tokens if word.isalpha()]"
   ]
  },
  {
   "cell_type": "code",
   "execution_count": 207,
   "metadata": {},
   "outputs": [
    {
     "name": "stdout",
     "output_type": "stream",
     "text": [
      "688\n"
     ]
    }
   ],
   "source": [
    "print(len(tokens))"
   ]
  },
  {
   "cell_type": "code",
   "execution_count": 208,
   "metadata": {},
   "outputs": [
    {
     "data": {
      "text/plain": [
       "137"
      ]
     },
     "execution_count": 208,
     "metadata": {},
     "output_type": "execute_result"
    }
   ],
   "source": [
    "825 - 688"
   ]
  },
  {
   "cell_type": "code",
   "execution_count": 209,
   "metadata": {},
   "outputs": [
    {
     "name": "stdout",
     "output_type": "stream",
     "text": [
      "['plot', 'two', 'teen', 'couples', 'go', 'to', 'a', 'church', 'party', 'drink', 'and', 'then', 'drive', 'they', 'get', 'into', 'an', 'accident', 'one', 'of', 'the', 'guys', 'dies', 'but', 'his', 'girlfriend', 'continues', 'to', 'see', 'him', 'in', 'her', 'life', 'and', 'has', 'nightmares', 'whats', 'the', 'deal', 'watch', 'the', 'movie', 'and', 'sorta', 'find', 'out', 'critique', 'a', 'mindfuck', 'movie', 'for', 'the', 'teen', 'generation', 'that', 'touches', 'on', 'a', 'very', 'cool', 'idea', 'but', 'presents', 'it', 'in', 'a', 'very', 'bad', 'package', 'which', 'is', 'what', 'makes', 'this', 'review', 'an', 'even', 'harder', 'one', 'to', 'write', 'since', 'i', 'generally', 'applaud', 'films', 'which', 'attempt', 'to', 'break', 'the', 'mold', 'mess', 'with', 'your', 'head', 'and', 'such', 'lost', 'highway', 'memento', 'but', 'there', 'are', 'good', 'and', 'bad', 'ways', 'of', 'making', 'all', 'types', 'of', 'films', 'and', 'these', 'folks', 'just', 'didnt', 'snag', 'this', 'one', 'correctly', 'they', 'seem', 'to', 'have', 'taken', 'this', 'pretty', 'neat', 'concept', 'but', 'executed', 'it', 'terribly', 'so', 'what', 'are', 'the', 'problems', 'with', 'the', 'movie', 'well', 'its', 'main', 'problem', 'is', 'that', 'its', 'simply', 'too', 'jumbled', 'it', 'starts', 'off', 'normal', 'but', 'then', 'downshifts', 'into', 'this', 'fantasy', 'world', 'in', 'which', 'you', 'as', 'an', 'audience', 'member', 'have', 'no', 'idea', 'whats', 'going', 'on', 'there', 'are', 'dreams', 'there', 'are', 'characters', 'coming', 'back', 'from', 'the', 'dead', 'there', 'are', 'others', 'who', 'look', 'like', 'the', 'dead', 'there', 'are', 'strange', 'apparitions', 'there', 'are', 'disappearances', 'there', 'are', 'a', 'looooot', 'of', 'chase', 'scenes', 'there', 'are', 'tons', 'of', 'weird', 'things', 'that', 'happen', 'and', 'most', 'of', 'it', 'is', 'simply', 'not', 'explained', 'now', 'i', 'personally', 'dont', 'mind', 'trying', 'to', 'unravel', 'a', 'film', 'every', 'now', 'and', 'then', 'but', 'when', 'all', 'it', 'does', 'is', 'give', 'me', 'the', 'same', 'clue', 'over', 'and', 'over', 'again', 'i', 'get', 'kind', 'of', 'fed', 'up', 'after', 'a', 'while', 'which', 'is', 'this', 'films', 'biggest', 'problem', 'its', 'obviously', 'got', 'this', 'big', 'secret', 'to', 'hide', 'but', 'it', 'seems', 'to', 'want', 'to', 'hide', 'it', 'completely', 'until', 'its', 'final', 'five', 'minutes', 'and', 'do', 'they', 'make', 'things', 'entertaining', 'thrilling', 'or', 'even', 'engaging', 'in', 'the', 'meantime', 'not', 'really', 'the', 'sad', 'part', 'is', 'that', 'the', 'arrow', 'and', 'i', 'both', 'dig', 'on', 'flicks', 'like', 'this', 'so', 'we', 'actually', 'figured', 'most', 'of', 'it', 'out', 'by', 'the', 'halfway', 'point', 'so', 'all', 'of', 'the', 'strangeness', 'after', 'that', 'did', 'start', 'to', 'make', 'a', 'little', 'bit', 'of', 'sense', 'but', 'it', 'still', 'didnt', 'the', 'make', 'the', 'film', 'all', 'that', 'more', 'entertaining', 'i', 'guess', 'the', 'bottom', 'line', 'with', 'movies', 'like', 'this', 'is', 'that', 'you', 'should', 'always', 'make', 'sure', 'that', 'the', 'audience', 'is', 'into', 'it', 'even', 'before', 'they', 'are', 'given', 'the', 'secret', 'password', 'to', 'enter', 'your', 'world', 'of', 'understanding', 'i', 'mean', 'showing', 'melissa', 'sagemiller', 'running', 'away', 'from', 'visions', 'for', 'about', 'minutes', 'throughout', 'the', 'movie', 'is', 'just', 'plain', 'lazy', 'okay', 'we', 'get', 'it', 'there', 'are', 'people', 'chasing', 'her', 'and', 'we', 'dont', 'know', 'who', 'they', 'are', 'do', 'we', 'really', 'need', 'to', 'see', 'it', 'over', 'and', 'over', 'again', 'how', 'about', 'giving', 'us', 'different', 'scenes', 'offering', 'further', 'insight', 'into', 'all', 'of', 'the', 'strangeness', 'going', 'down', 'in', 'the', 'movie', 'apparently', 'the', 'studio', 'took', 'this', 'film', 'away', 'from', 'its', 'director', 'and', 'chopped', 'it', 'up', 'themselves', 'and', 'it', 'shows', 'there', 'mightve', 'been', 'a', 'pretty', 'decent', 'teen', 'mindfuck', 'movie', 'in', 'here', 'somewhere', 'but', 'i', 'guess', 'the', 'suits', 'decided', 'that', 'turning', 'it', 'into', 'a', 'music', 'video', 'with', 'little', 'edge', 'would', 'make', 'more', 'sense', 'the', 'actors', 'are', 'pretty', 'good', 'for', 'the', 'most', 'part', 'although', 'wes', 'bentley', 'just', 'seemed', 'to', 'be', 'playing', 'the', 'exact', 'same', 'character', 'that', 'he', 'did', 'in', 'american', 'beauty', 'only', 'in', 'a', 'new', 'neighborhood', 'but', 'my', 'biggest', 'kudos', 'go', 'out', 'to', 'sagemiller', 'who', 'holds', 'her', 'own', 'throughout', 'the', 'entire', 'film', 'and', 'actually', 'has', 'you', 'feeling', 'her', 'characters', 'unraveling', 'overall', 'the', 'film', 'doesnt', 'stick', 'because', 'it', 'doesnt', 'entertain', 'its', 'confusing', 'it', 'rarely', 'excites', 'and', 'it', 'feels', 'pretty', 'redundant', 'for', 'most', 'of', 'its', 'runtime', 'despite', 'a', 'pretty', 'cool', 'ending', 'and', 'explanation', 'to', 'all', 'of', 'the', 'craziness', 'that', 'came', 'before', 'it', 'oh', 'and', 'by', 'the', 'way', 'this', 'is', 'not', 'a', 'horror', 'or', 'teen', 'slasher', 'flick', 'its', 'just', 'packaged', 'to', 'look', 'that', 'way', 'because', 'someone', 'is', 'apparently', 'assuming', 'that', 'the', 'genre', 'is', 'still', 'hot', 'with', 'the', 'kids', 'it', 'also', 'wrapped', 'production', 'two', 'years', 'ago', 'and', 'has', 'been', 'sitting', 'on', 'the', 'shelves', 'ever', 'since', 'whatever', 'skip', 'it', 'wheres', 'joblo', 'coming', 'from', 'a', 'nightmare', 'of', 'elm', 'street', 'blair', 'witch', 'the', 'crow', 'the', 'crow', 'salvation', 'lost', 'highway', 'memento', 'the', 'others', 'stir', 'of', 'echoes']\n"
     ]
    }
   ],
   "source": [
    "print(tokens)"
   ]
  },
  {
   "cell_type": "code",
   "execution_count": 210,
   "metadata": {
    "collapsed": true
   },
   "outputs": [],
   "source": [
    "# filter out stop words\n",
    "stop_words = set(stopwords.words('english'))\n",
    "tokens = [w for w in tokens if not w in stop_words]"
   ]
  },
  {
   "cell_type": "code",
   "execution_count": 211,
   "metadata": {},
   "outputs": [
    {
     "name": "stdout",
     "output_type": "stream",
     "text": [
      "330\n"
     ]
    }
   ],
   "source": [
    "print(len(tokens))"
   ]
  },
  {
   "cell_type": "code",
   "execution_count": 212,
   "metadata": {},
   "outputs": [
    {
     "data": {
      "text/plain": [
       "358"
      ]
     },
     "execution_count": 212,
     "metadata": {},
     "output_type": "execute_result"
    }
   ],
   "source": [
    "688-330"
   ]
  },
  {
   "cell_type": "code",
   "execution_count": 213,
   "metadata": {
    "collapsed": true
   },
   "outputs": [],
   "source": [
    "# filter out short tokens\n",
    "tokens = [word for word in tokens if len(word) > 1]"
   ]
  },
  {
   "cell_type": "code",
   "execution_count": 214,
   "metadata": {},
   "outputs": [
    {
     "name": "stdout",
     "output_type": "stream",
     "text": [
      "330\n"
     ]
    }
   ],
   "source": [
    "print(len(tokens))"
   ]
  },
  {
   "cell_type": "code",
   "execution_count": 215,
   "metadata": {},
   "outputs": [
    {
     "name": "stdout",
     "output_type": "stream",
     "text": [
      "['plot', 'two', 'teen', 'couples', 'go', 'church', 'party', 'drink', 'drive', 'get', 'accident', 'one', 'guys', 'dies', 'girlfriend', 'continues', 'see', 'life', 'nightmares', 'whats', 'deal', 'watch', 'movie', 'sorta', 'find', 'critique', 'mindfuck', 'movie', 'teen', 'generation', 'touches', 'cool', 'idea', 'presents', 'bad', 'package', 'makes', 'review', 'even', 'harder', 'one', 'write', 'since', 'generally', 'applaud', 'films', 'attempt', 'break', 'mold', 'mess', 'head', 'lost', 'highway', 'memento', 'good', 'bad', 'ways', 'making', 'types', 'films', 'folks', 'didnt', 'snag', 'one', 'correctly', 'seem', 'taken', 'pretty', 'neat', 'concept', 'executed', 'terribly', 'problems', 'movie', 'well', 'main', 'problem', 'simply', 'jumbled', 'starts', 'normal', 'downshifts', 'fantasy', 'world', 'audience', 'member', 'idea', 'whats', 'going', 'dreams', 'characters', 'coming', 'back', 'dead', 'others', 'look', 'like', 'dead', 'strange', 'apparitions', 'disappearances', 'looooot', 'chase', 'scenes', 'tons', 'weird', 'things', 'happen', 'simply', 'explained', 'personally', 'dont', 'mind', 'trying', 'unravel', 'film', 'every', 'give', 'clue', 'get', 'kind', 'fed', 'films', 'biggest', 'problem', 'obviously', 'got', 'big', 'secret', 'hide', 'seems', 'want', 'hide', 'completely', 'final', 'five', 'minutes', 'make', 'things', 'entertaining', 'thrilling', 'even', 'engaging', 'meantime', 'really', 'sad', 'part', 'arrow', 'dig', 'flicks', 'like', 'actually', 'figured', 'halfway', 'point', 'strangeness', 'start', 'make', 'little', 'bit', 'sense', 'still', 'didnt', 'make', 'film', 'entertaining', 'guess', 'bottom', 'line', 'movies', 'like', 'always', 'make', 'sure', 'audience', 'even', 'given', 'secret', 'password', 'enter', 'world', 'understanding', 'mean', 'showing', 'melissa', 'sagemiller', 'running', 'away', 'visions', 'minutes', 'throughout', 'movie', 'plain', 'lazy', 'okay', 'get', 'people', 'chasing', 'dont', 'know', 'really', 'need', 'see', 'giving', 'us', 'different', 'scenes', 'offering', 'insight', 'strangeness', 'going', 'movie', 'apparently', 'studio', 'took', 'film', 'away', 'director', 'chopped', 'shows', 'mightve', 'pretty', 'decent', 'teen', 'mindfuck', 'movie', 'somewhere', 'guess', 'suits', 'decided', 'turning', 'music', 'video', 'little', 'edge', 'would', 'make', 'sense', 'actors', 'pretty', 'good', 'part', 'although', 'wes', 'bentley', 'seemed', 'playing', 'exact', 'character', 'american', 'beauty', 'new', 'neighborhood', 'biggest', 'kudos', 'go', 'sagemiller', 'holds', 'throughout', 'entire', 'film', 'actually', 'feeling', 'characters', 'unraveling', 'overall', 'film', 'doesnt', 'stick', 'doesnt', 'entertain', 'confusing', 'rarely', 'excites', 'feels', 'pretty', 'redundant', 'runtime', 'despite', 'pretty', 'cool', 'ending', 'explanation', 'craziness', 'came', 'oh', 'way', 'horror', 'teen', 'slasher', 'flick', 'packaged', 'look', 'way', 'someone', 'apparently', 'assuming', 'genre', 'still', 'hot', 'kids', 'also', 'wrapped', 'production', 'two', 'years', 'ago', 'sitting', 'shelves', 'ever', 'since', 'whatever', 'skip', 'wheres', 'joblo', 'coming', 'nightmare', 'elm', 'street', 'blair', 'witch', 'crow', 'crow', 'salvation', 'lost', 'highway', 'memento', 'others', 'stir', 'echoes']\n"
     ]
    }
   ],
   "source": [
    "print(tokens)"
   ]
  },
  {
   "cell_type": "code",
   "execution_count": 216,
   "metadata": {
    "collapsed": true
   },
   "outputs": [],
   "source": [
    "#Turn this process into a function for later use to clean all the documents in the dataset\n",
    "\n",
    "def clean_doc(doc):  \n",
    "    # remove punctuation from each token\n",
    "    table = str.maketrans('', '', string.punctuation)\n",
    "    tokens = [w.translate(table) for w in tokens]\n",
    "    # remove tokens that are not alphabetic\n",
    "    tokens = [word for word in tokens if word.isalpha()]\n",
    "    # filter out stop words\n",
    "    stop_words = set(stopwords.words('english'))\n",
    "    tokens = [w for w in tokens if not w in stop_words]\n",
    "    # filter out short tokens\n",
    "    tokens = [word for word in tokens if len(word) > 1]\n",
    "    return tokens"
   ]
  },
  {
   "cell_type": "markdown",
   "metadata": {},
   "source": [
    "### Develop vocabulary and add into Counter() dictioary"
   ]
  },
  {
   "cell_type": "code",
   "execution_count": 217,
   "metadata": {
    "collapsed": true
   },
   "outputs": [],
   "source": [
    "from collections import Counter"
   ]
  },
  {
   "cell_type": "code",
   "execution_count": 218,
   "metadata": {
    "collapsed": true
   },
   "outputs": [],
   "source": [
    "#Counter is a dictionary that contains elements as keys and their count as values\n",
    "vocab = Counter()"
   ]
  },
  {
   "cell_type": "code",
   "execution_count": 219,
   "metadata": {
    "collapsed": true
   },
   "outputs": [],
   "source": [
    "vocab.update(tokens)"
   ]
  },
  {
   "cell_type": "code",
   "execution_count": 220,
   "metadata": {},
   "outputs": [
    {
     "name": "stdout",
     "output_type": "stream",
     "text": [
      "Counter({'movie': 6, 'pretty': 5, 'film': 5, 'make': 5, 'teen': 4, 'get': 3, 'one': 3, 'even': 3, 'films': 3, 'like': 3, 'two': 2, 'go': 2, 'see': 2, 'whats': 2, 'mindfuck': 2, 'cool': 2, 'idea': 2, 'bad': 2, 'since': 2, 'lost': 2, 'highway': 2, 'memento': 2, 'good': 2, 'didnt': 2, 'problem': 2, 'simply': 2, 'world': 2, 'audience': 2, 'going': 2, 'characters': 2, 'coming': 2, 'dead': 2, 'others': 2, 'look': 2, 'scenes': 2, 'things': 2, 'dont': 2, 'biggest': 2, 'secret': 2, 'hide': 2, 'minutes': 2, 'entertaining': 2, 'really': 2, 'part': 2, 'actually': 2, 'strangeness': 2, 'little': 2, 'sense': 2, 'still': 2, 'guess': 2, 'sagemiller': 2, 'away': 2, 'throughout': 2, 'apparently': 2, 'doesnt': 2, 'way': 2, 'crow': 2, 'plot': 1, 'couples': 1, 'church': 1, 'party': 1, 'drink': 1, 'drive': 1, 'accident': 1, 'guys': 1, 'dies': 1, 'girlfriend': 1, 'continues': 1, 'life': 1, 'nightmares': 1, 'deal': 1, 'watch': 1, 'sorta': 1, 'find': 1, 'critique': 1, 'generation': 1, 'touches': 1, 'presents': 1, 'package': 1, 'makes': 1, 'review': 1, 'harder': 1, 'write': 1, 'generally': 1, 'applaud': 1, 'attempt': 1, 'break': 1, 'mold': 1, 'mess': 1, 'head': 1, 'ways': 1, 'making': 1, 'types': 1, 'folks': 1, 'snag': 1, 'correctly': 1, 'seem': 1, 'taken': 1, 'neat': 1, 'concept': 1, 'executed': 1, 'terribly': 1, 'problems': 1, 'well': 1, 'main': 1, 'jumbled': 1, 'starts': 1, 'normal': 1, 'downshifts': 1, 'fantasy': 1, 'member': 1, 'dreams': 1, 'back': 1, 'strange': 1, 'apparitions': 1, 'disappearances': 1, 'looooot': 1, 'chase': 1, 'tons': 1, 'weird': 1, 'happen': 1, 'explained': 1, 'personally': 1, 'mind': 1, 'trying': 1, 'unravel': 1, 'every': 1, 'give': 1, 'clue': 1, 'kind': 1, 'fed': 1, 'obviously': 1, 'got': 1, 'big': 1, 'seems': 1, 'want': 1, 'completely': 1, 'final': 1, 'five': 1, 'thrilling': 1, 'engaging': 1, 'meantime': 1, 'sad': 1, 'arrow': 1, 'dig': 1, 'flicks': 1, 'figured': 1, 'halfway': 1, 'point': 1, 'start': 1, 'bit': 1, 'bottom': 1, 'line': 1, 'movies': 1, 'always': 1, 'sure': 1, 'given': 1, 'password': 1, 'enter': 1, 'understanding': 1, 'mean': 1, 'showing': 1, 'melissa': 1, 'running': 1, 'visions': 1, 'plain': 1, 'lazy': 1, 'okay': 1, 'people': 1, 'chasing': 1, 'know': 1, 'need': 1, 'giving': 1, 'us': 1, 'different': 1, 'offering': 1, 'insight': 1, 'studio': 1, 'took': 1, 'director': 1, 'chopped': 1, 'shows': 1, 'mightve': 1, 'decent': 1, 'somewhere': 1, 'suits': 1, 'decided': 1, 'turning': 1, 'music': 1, 'video': 1, 'edge': 1, 'would': 1, 'actors': 1, 'although': 1, 'wes': 1, 'bentley': 1, 'seemed': 1, 'playing': 1, 'exact': 1, 'character': 1, 'american': 1, 'beauty': 1, 'new': 1, 'neighborhood': 1, 'kudos': 1, 'holds': 1, 'entire': 1, 'feeling': 1, 'unraveling': 1, 'overall': 1, 'stick': 1, 'entertain': 1, 'confusing': 1, 'rarely': 1, 'excites': 1, 'feels': 1, 'redundant': 1, 'runtime': 1, 'despite': 1, 'ending': 1, 'explanation': 1, 'craziness': 1, 'came': 1, 'oh': 1, 'horror': 1, 'slasher': 1, 'flick': 1, 'packaged': 1, 'someone': 1, 'assuming': 1, 'genre': 1, 'hot': 1, 'kids': 1, 'also': 1, 'wrapped': 1, 'production': 1, 'years': 1, 'ago': 1, 'sitting': 1, 'shelves': 1, 'ever': 1, 'whatever': 1, 'skip': 1, 'wheres': 1, 'joblo': 1, 'nightmare': 1, 'elm': 1, 'street': 1, 'blair': 1, 'witch': 1, 'salvation': 1, 'stir': 1, 'echoes': 1})\n"
     ]
    }
   ],
   "source": [
    "print(vocab)"
   ]
  },
  {
   "cell_type": "code",
   "execution_count": 221,
   "metadata": {},
   "outputs": [
    {
     "name": "stdout",
     "output_type": "stream",
     "text": [
      "253\n"
     ]
    }
   ],
   "source": [
    "print(len(vocab))"
   ]
  },
  {
   "cell_type": "code",
   "execution_count": 222,
   "metadata": {},
   "outputs": [
    {
     "name": "stdout",
     "output_type": "stream",
     "text": [
      "[('movie', 6), ('pretty', 5), ('film', 5), ('make', 5), ('teen', 4), ('get', 3), ('one', 3), ('even', 3), ('films', 3), ('like', 3), ('two', 2), ('go', 2), ('see', 2), ('whats', 2), ('mindfuck', 2), ('cool', 2), ('idea', 2), ('bad', 2), ('since', 2), ('lost', 2), ('highway', 2), ('memento', 2), ('good', 2), ('didnt', 2), ('problem', 2), ('simply', 2), ('world', 2), ('audience', 2), ('going', 2), ('characters', 2), ('coming', 2), ('dead', 2), ('others', 2), ('look', 2), ('scenes', 2), ('things', 2), ('dont', 2), ('biggest', 2), ('secret', 2), ('hide', 2), ('minutes', 2), ('entertaining', 2), ('really', 2), ('part', 2), ('actually', 2), ('strangeness', 2), ('little', 2), ('sense', 2), ('still', 2), ('guess', 2), ('sagemiller', 2), ('away', 2), ('throughout', 2), ('apparently', 2), ('doesnt', 2), ('way', 2), ('crow', 2), ('plot', 1), ('couples', 1), ('church', 1), ('party', 1), ('drink', 1), ('drive', 1), ('accident', 1), ('guys', 1), ('dies', 1), ('girlfriend', 1), ('continues', 1), ('life', 1), ('nightmares', 1), ('deal', 1), ('watch', 1), ('sorta', 1), ('find', 1), ('critique', 1), ('generation', 1), ('touches', 1), ('presents', 1), ('package', 1), ('makes', 1), ('review', 1), ('harder', 1), ('write', 1), ('generally', 1), ('applaud', 1), ('attempt', 1), ('break', 1), ('mold', 1), ('mess', 1), ('head', 1), ('ways', 1), ('making', 1), ('types', 1), ('folks', 1), ('snag', 1), ('correctly', 1), ('seem', 1), ('taken', 1), ('neat', 1), ('concept', 1), ('executed', 1), ('terribly', 1), ('problems', 1), ('well', 1), ('main', 1), ('jumbled', 1), ('starts', 1), ('normal', 1), ('downshifts', 1), ('fantasy', 1), ('member', 1), ('dreams', 1), ('back', 1), ('strange', 1), ('apparitions', 1), ('disappearances', 1), ('looooot', 1), ('chase', 1), ('tons', 1), ('weird', 1), ('happen', 1), ('explained', 1), ('personally', 1), ('mind', 1), ('trying', 1), ('unravel', 1), ('every', 1), ('give', 1), ('clue', 1), ('kind', 1), ('fed', 1), ('obviously', 1), ('got', 1), ('big', 1), ('seems', 1), ('want', 1), ('completely', 1), ('final', 1), ('five', 1), ('thrilling', 1), ('engaging', 1), ('meantime', 1), ('sad', 1), ('arrow', 1), ('dig', 1), ('flicks', 1), ('figured', 1), ('halfway', 1), ('point', 1), ('start', 1), ('bit', 1), ('bottom', 1), ('line', 1), ('movies', 1), ('always', 1), ('sure', 1), ('given', 1), ('password', 1), ('enter', 1), ('understanding', 1), ('mean', 1), ('showing', 1), ('melissa', 1), ('running', 1), ('visions', 1), ('plain', 1), ('lazy', 1), ('okay', 1), ('people', 1), ('chasing', 1), ('know', 1), ('need', 1), ('giving', 1), ('us', 1), ('different', 1), ('offering', 1), ('insight', 1), ('studio', 1), ('took', 1), ('director', 1), ('chopped', 1), ('shows', 1), ('mightve', 1), ('decent', 1), ('somewhere', 1), ('suits', 1), ('decided', 1), ('turning', 1), ('music', 1), ('video', 1), ('edge', 1), ('would', 1), ('actors', 1), ('although', 1), ('wes', 1), ('bentley', 1), ('seemed', 1), ('playing', 1), ('exact', 1), ('character', 1), ('american', 1), ('beauty', 1), ('new', 1), ('neighborhood', 1), ('kudos', 1), ('holds', 1), ('entire', 1), ('feeling', 1), ('unraveling', 1), ('overall', 1), ('stick', 1), ('entertain', 1), ('confusing', 1), ('rarely', 1), ('excites', 1), ('feels', 1), ('redundant', 1), ('runtime', 1), ('despite', 1), ('ending', 1), ('explanation', 1), ('craziness', 1), ('came', 1), ('oh', 1), ('horror', 1), ('slasher', 1), ('flick', 1), ('packaged', 1), ('someone', 1), ('assuming', 1), ('genre', 1), ('hot', 1), ('kids', 1), ('also', 1), ('wrapped', 1), ('production', 1), ('years', 1), ('ago', 1), ('sitting', 1), ('shelves', 1), ('ever', 1), ('whatever', 1), ('skip', 1), ('wheres', 1), ('joblo', 1), ('nightmare', 1), ('elm', 1), ('street', 1), ('blair', 1), ('witch', 1), ('salvation', 1), ('stir', 1), ('echoes', 1)]\n"
     ]
    }
   ],
   "source": [
    "print(vocab.most_common())"
   ]
  },
  {
   "cell_type": "code",
   "execution_count": 223,
   "metadata": {
    "collapsed": true
   },
   "outputs": [],
   "source": [
    "#Function for take one doc, clean and update vocabulary to Counter dic\n",
    "\n",
    "def add_doc_to_vocab(filename,vocab):\n",
    "    doc = load_doc(filename)\n",
    "    tokens = clean_doc(doc)\n",
    "    vocab.update(tokens)\n",
    "    "
   ]
  },
  {
   "cell_type": "markdown",
   "metadata": {},
   "source": [
    "### Save the vocabulary"
   ]
  },
  {
   "cell_type": "code",
   "execution_count": 224,
   "metadata": {
    "collapsed": true
   },
   "outputs": [],
   "source": [
    "#Save vocabulary to list\n",
    "def vocab_to_list(filename,vocab):\n",
    "    doc = load_doc(filename)\n",
    "    tokens = clean_doc(doc)\n",
    "    tokens = [w for w in tokens if w in vocab]\n",
    "    return ' '.join(tokens)"
   ]
  },
  {
   "cell_type": "code",
   "execution_count": 225,
   "metadata": {
    "collapsed": true
   },
   "outputs": [],
   "source": [
    "#Save list to file\n",
    "def list_to_file(lines,filename):\n",
    "    data = '\\n'.join(lines)\n",
    "    file = open(filename,'w')\n",
    "    file.write(data)\n",
    "    file.close()    "
   ]
  },
  {
   "cell_type": "code",
   "execution_count": 226,
   "metadata": {},
   "outputs": [],
   "source": [
    "vocab_filename = \"vocab.txt\"\n",
    "vocab = load_doc(vocab_filename)\n",
    "vocab = vocab.split()\n",
    "vocab = set(vocab)"
   ]
  },
  {
   "cell_type": "markdown",
   "metadata": {},
   "source": [
    "### Put all the function together to develop full vacabulary for all the documents in the dataset including positive and neagative reviews"
   ]
  },
  {
   "cell_type": "code",
   "execution_count": 227,
   "metadata": {},
   "outputs": [],
   "source": [
    "from string import punctuation\n",
    "from os import listdir\n",
    "from collections import Counter\n",
    "from nltk.corpus import stopwords"
   ]
  },
  {
   "cell_type": "code",
   "execution_count": 228,
   "metadata": {
    "collapsed": true
   },
   "outputs": [],
   "source": [
    "def load_doc(filename):    \n",
    "    file = open(filename, 'r')    \n",
    "    text = file.read()    \n",
    "    file.close()\n",
    "    return text"
   ]
  },
  {
   "cell_type": "code",
   "execution_count": 229,
   "metadata": {
    "collapsed": true
   },
   "outputs": [],
   "source": [
    "def clean_doc(doc):    \n",
    "    tokens = doc.split()    \n",
    "    table = str.maketrans('', '', punctuation)\n",
    "    tokens = [w.translate(table) for w in tokens]  \n",
    "    \n",
    "    tokens = [word for word in tokens if word.isalpha()]    \n",
    "    stop_words = set(stopwords.words('english'))\n",
    "    tokens = [w for w in tokens if not w in stop_words]\n",
    "    \n",
    "    tokens = [word for word in tokens if len(word) > 1]\n",
    "    return tokens"
   ]
  },
  {
   "cell_type": "code",
   "execution_count": 230,
   "metadata": {
    "collapsed": true
   },
   "outputs": [],
   "source": [
    "def add_doc_to_vocab(filename, vocab):    \n",
    "    doc = load_doc(filename)\n",
    "    tokens = clean_doc(doc)\n",
    "    vocab.update(tokens)"
   ]
  },
  {
   "cell_type": "code",
   "execution_count": 231,
   "metadata": {
    "collapsed": true
   },
   "outputs": [],
   "source": [
    "def vocab_to_list(filename,vocab):\n",
    "    doc = load_doc(filename)\n",
    "    tokens = clean_doc(doc)\n",
    "    tokens = [w for w in tokens if w in vocab]\n",
    "    return ' '.join(tokens)"
   ]
  },
  {
   "cell_type": "code",
   "execution_count": 232,
   "metadata": {
    "collapsed": true
   },
   "outputs": [],
   "source": [
    "#Save list to file\n",
    "def list_to_file(lines,filename):\n",
    "    data = '\\n'.join(lines)\n",
    "    file = open(filename,'w')\n",
    "    file.write(data)\n",
    "    file.close()  "
   ]
  },
  {
   "cell_type": "code",
   "execution_count": 233,
   "metadata": {
    "collapsed": true
   },
   "outputs": [],
   "source": [
    "def process_docs(directory, vocab):\n",
    "    lines = list()\n",
    "    for filename in listdir(directory):    \n",
    "        if not filename.endswith(\".txt\"):\n",
    "            continue    \n",
    "        path = directory + '/' + filename\n",
    "        \n",
    "        line = vocab_to_list(path,vocab)\n",
    "        list_to_file(line,'vocab.txt')\n",
    "        lines.append(line)\n",
    "    return lines\n",
    "            "
   ]
  },
  {
   "cell_type": "code",
   "execution_count": 235,
   "metadata": {},
   "outputs": [],
   "source": [
    "\n",
    "\n",
    "#prepare negative reviews\n",
    "negative_lines = process_docs('txt_sentoken/neg', vocab)\n",
    "list_to_file(negative_lines,'negative.txt')\n",
    "\n",
    "#prepater positive reviews\n",
    "positive_lines = process_docs('txt_sentoken/pos', vocab)\n",
    "list_to_file(positive_lines,'positive.txt')\n",
    "\n",
    "\n",
    "#Load vocabulary\n",
    "vocab = Counter()\n",
    "# vocab_filename = \"vocab.txt\"\n",
    "# vocab = load_doc(vocab_filename)\n",
    "# vocab = vocab.split()\n",
    "# vocab = set(vocab)\n",
    "\n",
    "# # print the size of the vocab\n",
    "# print(len(vocab))\n",
    "# # print the top words in the vocab\n",
    "# # print(vocab.most_common(50))"
   ]
  },
  {
   "cell_type": "code",
   "execution_count": null,
   "metadata": {
    "collapsed": true
   },
   "outputs": [],
   "source": []
  }
 ],
 "metadata": {
  "kernelspec": {
   "display_name": "Python 3",
   "language": "python",
   "name": "python3"
  }
 },
 "nbformat": 4,
 "nbformat_minor": 2
}
